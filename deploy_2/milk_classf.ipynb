{
 "cells": [
  {
   "cell_type": "code",
   "execution_count": 1,
   "metadata": {},
   "outputs": [],
   "source": [
    "import pandas as pd\n",
    "import numpy as np\n",
    "import matplotlib.pyplot as plt\n",
    "import seaborn as sns\n",
    "\n",
    "from sklearn.model_selection import train_test_split\n",
    "from feature_engine.outliers import Winsorizer\n",
    "from sklearn.impute import SimpleImputer\n",
    "from sklearn.preprocessing import StandardScaler, MinMaxScaler, OneHotEncoder, OrdinalEncoder\n",
    "from sklearn.pipeline import Pipeline\n",
    "from sklearn.compose import ColumnTransformer\n",
    "from sklearn.linear_model import LogisticRegression\n",
    "from sklearn.svm import SVC\n",
    "from sklearn.tree import DecisionTreeClassifier\n",
    "from sklearn.ensemble import RandomForestClassifier\n",
    "from sklearn.model_selection import GridSearchCV, cross_val_score\n",
    "from sklearn.metrics import classification_report\n",
    "\n",
    "import warnings\n",
    "warnings.filterwarnings(action='ignore')\n",
    "\n",
    "%matplotlib inline"
   ]
  },
  {
   "cell_type": "code",
   "execution_count": 2,
   "metadata": {},
   "outputs": [
    {
     "data": {
      "text/html": [
       "<div>\n",
       "<style scoped>\n",
       "    .dataframe tbody tr th:only-of-type {\n",
       "        vertical-align: middle;\n",
       "    }\n",
       "\n",
       "    .dataframe tbody tr th {\n",
       "        vertical-align: top;\n",
       "    }\n",
       "\n",
       "    .dataframe thead th {\n",
       "        text-align: right;\n",
       "    }\n",
       "</style>\n",
       "<table border=\"1\" class=\"dataframe\">\n",
       "  <thead>\n",
       "    <tr style=\"text-align: right;\">\n",
       "      <th></th>\n",
       "      <th>pH</th>\n",
       "      <th>Temprature</th>\n",
       "      <th>Taste</th>\n",
       "      <th>Odor</th>\n",
       "      <th>Fat</th>\n",
       "      <th>Turbidity</th>\n",
       "      <th>Colour</th>\n",
       "      <th>Grade</th>\n",
       "    </tr>\n",
       "  </thead>\n",
       "  <tbody>\n",
       "    <tr>\n",
       "      <th>0</th>\n",
       "      <td>6.6</td>\n",
       "      <td>35</td>\n",
       "      <td>Good</td>\n",
       "      <td>Bad</td>\n",
       "      <td>High</td>\n",
       "      <td>Low</td>\n",
       "      <td>254.0</td>\n",
       "      <td>high</td>\n",
       "    </tr>\n",
       "    <tr>\n",
       "      <th>1</th>\n",
       "      <td>6.6</td>\n",
       "      <td>36</td>\n",
       "      <td>Bad</td>\n",
       "      <td>Good</td>\n",
       "      <td>Low</td>\n",
       "      <td>High</td>\n",
       "      <td>253.0</td>\n",
       "      <td>high</td>\n",
       "    </tr>\n",
       "    <tr>\n",
       "      <th>2</th>\n",
       "      <td>8.5</td>\n",
       "      <td>70</td>\n",
       "      <td>Good</td>\n",
       "      <td>Good</td>\n",
       "      <td>High</td>\n",
       "      <td>High</td>\n",
       "      <td>246.0</td>\n",
       "      <td>low</td>\n",
       "    </tr>\n",
       "    <tr>\n",
       "      <th>3</th>\n",
       "      <td>9.5</td>\n",
       "      <td>34</td>\n",
       "      <td>Good</td>\n",
       "      <td>Good</td>\n",
       "      <td>Low</td>\n",
       "      <td>High</td>\n",
       "      <td>255.0</td>\n",
       "      <td>low</td>\n",
       "    </tr>\n",
       "    <tr>\n",
       "      <th>4</th>\n",
       "      <td>6.6</td>\n",
       "      <td>37</td>\n",
       "      <td>Bad</td>\n",
       "      <td>Bad</td>\n",
       "      <td>Low</td>\n",
       "      <td>Low</td>\n",
       "      <td>255.0</td>\n",
       "      <td>medium</td>\n",
       "    </tr>\n",
       "  </tbody>\n",
       "</table>\n",
       "</div>"
      ],
      "text/plain": [
       "    pH  Temprature Taste  Odor  Fat  Turbidity  Colour   Grade\n",
       "0  6.6          35  Good   Bad  High       Low   254.0    high\n",
       "1  6.6          36   Bad  Good   Low      High   253.0    high\n",
       "2  8.5          70  Good  Good  High      High   246.0     low\n",
       "3  9.5          34  Good  Good   Low      High   255.0     low\n",
       "4  6.6          37   Bad   Bad   Low       Low   255.0  medium"
      ]
     },
     "execution_count": 2,
     "metadata": {},
     "output_type": "execute_result"
    }
   ],
   "source": [
    "df = pd.read_csv('milk.csv')\n",
    "df.head()"
   ]
  },
  {
   "cell_type": "code",
   "execution_count": 3,
   "metadata": {},
   "outputs": [
    {
     "name": "stdout",
     "output_type": "stream",
     "text": [
      "<class 'pandas.core.frame.DataFrame'>\n",
      "RangeIndex: 1059 entries, 0 to 1058\n",
      "Data columns (total 8 columns):\n",
      " #   Column      Non-Null Count  Dtype  \n",
      "---  ------      --------------  -----  \n",
      " 0   pH          1042 non-null   float64\n",
      " 1   Temprature  1059 non-null   int64  \n",
      " 2   Taste       1032 non-null   object \n",
      " 3   Odor        1059 non-null   object \n",
      " 4   Fat         1059 non-null   object \n",
      " 5   Turbidity   1059 non-null   object \n",
      " 6   Colour      1033 non-null   float64\n",
      " 7   Grade       1059 non-null   object \n",
      "dtypes: float64(2), int64(1), object(5)\n",
      "memory usage: 66.3+ KB\n"
     ]
    }
   ],
   "source": [
    "df.info()"
   ]
  },
  {
   "cell_type": "code",
   "execution_count": 4,
   "metadata": {},
   "outputs": [
    {
     "data": {
      "text/plain": [
       "pH            17\n",
       "Temprature     0\n",
       "Taste         27\n",
       "Odor           0\n",
       "Fat            0\n",
       "Turbidity      0\n",
       "Colour        26\n",
       "Grade          0\n",
       "dtype: int64"
      ]
     },
     "execution_count": 4,
     "metadata": {},
     "output_type": "execute_result"
    }
   ],
   "source": [
    "df.isnull().sum()"
   ]
  },
  {
   "cell_type": "code",
   "execution_count": 5,
   "metadata": {},
   "outputs": [
    {
     "data": {
      "text/html": [
       "<div>\n",
       "<style scoped>\n",
       "    .dataframe tbody tr th:only-of-type {\n",
       "        vertical-align: middle;\n",
       "    }\n",
       "\n",
       "    .dataframe tbody tr th {\n",
       "        vertical-align: top;\n",
       "    }\n",
       "\n",
       "    .dataframe thead th {\n",
       "        text-align: right;\n",
       "    }\n",
       "</style>\n",
       "<table border=\"1\" class=\"dataframe\">\n",
       "  <thead>\n",
       "    <tr style=\"text-align: right;\">\n",
       "      <th></th>\n",
       "      <th>pH</th>\n",
       "      <th>Temprature</th>\n",
       "      <th>Colour</th>\n",
       "    </tr>\n",
       "  </thead>\n",
       "  <tbody>\n",
       "    <tr>\n",
       "      <th>count</th>\n",
       "      <td>1042.000000</td>\n",
       "      <td>1059.000000</td>\n",
       "      <td>1033.000000</td>\n",
       "    </tr>\n",
       "    <tr>\n",
       "      <th>mean</th>\n",
       "      <td>6.625624</td>\n",
       "      <td>44.226629</td>\n",
       "      <td>251.820910</td>\n",
       "    </tr>\n",
       "    <tr>\n",
       "      <th>std</th>\n",
       "      <td>1.401326</td>\n",
       "      <td>10.098364</td>\n",
       "      <td>4.321152</td>\n",
       "    </tr>\n",
       "    <tr>\n",
       "      <th>min</th>\n",
       "      <td>3.000000</td>\n",
       "      <td>34.000000</td>\n",
       "      <td>240.000000</td>\n",
       "    </tr>\n",
       "    <tr>\n",
       "      <th>25%</th>\n",
       "      <td>6.500000</td>\n",
       "      <td>38.000000</td>\n",
       "      <td>250.000000</td>\n",
       "    </tr>\n",
       "    <tr>\n",
       "      <th>50%</th>\n",
       "      <td>6.700000</td>\n",
       "      <td>41.000000</td>\n",
       "      <td>255.000000</td>\n",
       "    </tr>\n",
       "    <tr>\n",
       "      <th>75%</th>\n",
       "      <td>6.800000</td>\n",
       "      <td>45.000000</td>\n",
       "      <td>255.000000</td>\n",
       "    </tr>\n",
       "    <tr>\n",
       "      <th>max</th>\n",
       "      <td>9.500000</td>\n",
       "      <td>90.000000</td>\n",
       "      <td>255.000000</td>\n",
       "    </tr>\n",
       "  </tbody>\n",
       "</table>\n",
       "</div>"
      ],
      "text/plain": [
       "                pH   Temprature       Colour\n",
       "count  1042.000000  1059.000000  1033.000000\n",
       "mean      6.625624    44.226629   251.820910\n",
       "std       1.401326    10.098364     4.321152\n",
       "min       3.000000    34.000000   240.000000\n",
       "25%       6.500000    38.000000   250.000000\n",
       "50%       6.700000    41.000000   255.000000\n",
       "75%       6.800000    45.000000   255.000000\n",
       "max       9.500000    90.000000   255.000000"
      ]
     },
     "execution_count": 5,
     "metadata": {},
     "output_type": "execute_result"
    }
   ],
   "source": [
    "df.describe()"
   ]
  },
  {
   "cell_type": "code",
   "execution_count": 6,
   "metadata": {},
   "outputs": [
    {
     "name": "stdout",
     "output_type": "stream",
     "text": [
      "Taste\n",
      "Good    564\n",
      "Bad     468\n",
      "Name: Taste, dtype: int64\n",
      "------------------------------\n",
      "Odor\n",
      "Bad     601\n",
      "Good    458\n",
      "Name: Odor, dtype: int64\n",
      "------------------------------\n",
      "Fat \n",
      "High    711\n",
      "Low     348\n",
      "Name: Fat , dtype: int64\n",
      "------------------------------\n",
      "Turbidity\n",
      "Low     539\n",
      "High    520\n",
      "Name: Turbidity, dtype: int64\n",
      "------------------------------\n",
      "Grade\n",
      "low       429\n",
      "medium    374\n",
      "high      256\n",
      "Name: Grade, dtype: int64\n",
      "------------------------------\n"
     ]
    }
   ],
   "source": [
    "cat_col = df.select_dtypes(include=['object']).columns.tolist()\n",
    "\n",
    "for i in cat_col:\n",
    "    print(i)\n",
    "    print(df[i].value_counts())\n",
    "    print('-'*30)"
   ]
  },
  {
   "attachments": {},
   "cell_type": "markdown",
   "metadata": {},
   "source": [
    "## **Data Cleaning**"
   ]
  },
  {
   "cell_type": "code",
   "execution_count": 7,
   "metadata": {},
   "outputs": [],
   "source": [
    "# rename column\n",
    "df.rename({'Fat ': 'Fat'}, axis=1, inplace=True)"
   ]
  },
  {
   "cell_type": "code",
   "execution_count": 8,
   "metadata": {},
   "outputs": [
    {
     "data": {
      "text/plain": [
       "Index(['pH', 'Temprature', 'Taste', 'Odor', 'Fat', 'Turbidity', 'Colour',\n",
       "       'Grade'],\n",
       "      dtype='object')"
      ]
     },
     "execution_count": 8,
     "metadata": {},
     "output_type": "execute_result"
    }
   ],
   "source": [
    "df.columns"
   ]
  },
  {
   "cell_type": "code",
   "execution_count": 9,
   "metadata": {},
   "outputs": [
    {
     "data": {
      "text/plain": [
       "low       429\n",
       "medium    374\n",
       "high      256\n",
       "Name: Grade, dtype: int64"
      ]
     },
     "execution_count": 9,
     "metadata": {},
     "output_type": "execute_result"
    }
   ],
   "source": [
    "# target encoding\n",
    "df.Grade.value_counts()"
   ]
  },
  {
   "cell_type": "code",
   "execution_count": 10,
   "metadata": {},
   "outputs": [
    {
     "data": {
      "text/plain": [
       "0    429\n",
       "1    374\n",
       "2    256\n",
       "Name: Grade, dtype: int64"
      ]
     },
     "execution_count": 10,
     "metadata": {},
     "output_type": "execute_result"
    }
   ],
   "source": [
    "df.Grade.replace({'low': 0, 'medium': 1, 'high': 2}, inplace=True)\n",
    "df.Grade.value_counts()"
   ]
  },
  {
   "cell_type": "code",
   "execution_count": 11,
   "metadata": {},
   "outputs": [
    {
     "name": "stdout",
     "output_type": "stream",
     "text": [
      "(741, 7)\n",
      "(318, 7)\n",
      "(741,)\n",
      "(318,)\n"
     ]
    }
   ],
   "source": [
    "# split\n",
    "X = df.drop('Grade', axis=1)\n",
    "y = df.Grade\n",
    "\n",
    "X_train, X_test, y_train, y_test = train_test_split(X, y, test_size=0.3, stratify=y, random_state=0)\n",
    "\n",
    "for i in [X_train, X_test, y_train, y_test]:\n",
    "    print(i.shape)"
   ]
  },
  {
   "cell_type": "code",
   "execution_count": 12,
   "metadata": {},
   "outputs": [
    {
     "data": {
      "text/plain": [
       "(741, 8)"
      ]
     },
     "execution_count": 12,
     "metadata": {},
     "output_type": "execute_result"
    }
   ],
   "source": [
    "df_eda = pd.concat([X_train, y_train], axis=1)\n",
    "df_eda.shape"
   ]
  },
  {
   "cell_type": "code",
   "execution_count": 13,
   "metadata": {},
   "outputs": [],
   "source": [
    "X_train_eda = X_train.copy()"
   ]
  },
  {
   "attachments": {},
   "cell_type": "markdown",
   "metadata": {},
   "source": [
    "## **EDA for Modeling**"
   ]
  },
  {
   "cell_type": "code",
   "execution_count": 14,
   "metadata": {},
   "outputs": [
    {
     "data": {
      "text/html": [
       "<div>\n",
       "<style scoped>\n",
       "    .dataframe tbody tr th:only-of-type {\n",
       "        vertical-align: middle;\n",
       "    }\n",
       "\n",
       "    .dataframe tbody tr th {\n",
       "        vertical-align: top;\n",
       "    }\n",
       "\n",
       "    .dataframe thead th {\n",
       "        text-align: right;\n",
       "    }\n",
       "</style>\n",
       "<table border=\"1\" class=\"dataframe\">\n",
       "  <thead>\n",
       "    <tr style=\"text-align: right;\">\n",
       "      <th></th>\n",
       "      <th>pH</th>\n",
       "      <th>Temprature</th>\n",
       "      <th>Taste</th>\n",
       "      <th>Odor</th>\n",
       "      <th>Fat</th>\n",
       "      <th>Turbidity</th>\n",
       "      <th>Colour</th>\n",
       "    </tr>\n",
       "  </thead>\n",
       "  <tbody>\n",
       "    <tr>\n",
       "      <th>143</th>\n",
       "      <td>3.0</td>\n",
       "      <td>40</td>\n",
       "      <td>Good</td>\n",
       "      <td>Bad</td>\n",
       "      <td>Low</td>\n",
       "      <td>Low</td>\n",
       "      <td>255.0</td>\n",
       "    </tr>\n",
       "    <tr>\n",
       "      <th>576</th>\n",
       "      <td>6.6</td>\n",
       "      <td>40</td>\n",
       "      <td>Good</td>\n",
       "      <td>Bad</td>\n",
       "      <td>High</td>\n",
       "      <td>High</td>\n",
       "      <td>255.0</td>\n",
       "    </tr>\n",
       "    <tr>\n",
       "      <th>686</th>\n",
       "      <td>3.0</td>\n",
       "      <td>40</td>\n",
       "      <td>Good</td>\n",
       "      <td>Good</td>\n",
       "      <td>High</td>\n",
       "      <td>High</td>\n",
       "      <td>255.0</td>\n",
       "    </tr>\n",
       "    <tr>\n",
       "      <th>544</th>\n",
       "      <td>6.5</td>\n",
       "      <td>37</td>\n",
       "      <td>Bad</td>\n",
       "      <td>Bad</td>\n",
       "      <td>Low</td>\n",
       "      <td>Low</td>\n",
       "      <td>255.0</td>\n",
       "    </tr>\n",
       "    <tr>\n",
       "      <th>889</th>\n",
       "      <td>6.8</td>\n",
       "      <td>45</td>\n",
       "      <td>Good</td>\n",
       "      <td>Good</td>\n",
       "      <td>High</td>\n",
       "      <td>High</td>\n",
       "      <td>245.0</td>\n",
       "    </tr>\n",
       "  </tbody>\n",
       "</table>\n",
       "</div>"
      ],
      "text/plain": [
       "      pH  Temprature Taste  Odor   Fat Turbidity  Colour\n",
       "143  3.0          40  Good   Bad   Low       Low   255.0\n",
       "576  6.6          40  Good   Bad  High      High   255.0\n",
       "686  3.0          40  Good  Good  High      High   255.0\n",
       "544  6.5          37   Bad   Bad   Low       Low   255.0\n",
       "889  6.8          45  Good  Good  High      High   245.0"
      ]
     },
     "execution_count": 14,
     "metadata": {},
     "output_type": "execute_result"
    }
   ],
   "source": [
    "X_train_eda.head()"
   ]
  },
  {
   "cell_type": "code",
   "execution_count": 15,
   "metadata": {},
   "outputs": [],
   "source": [
    "num_col = ['pH', 'Temprature', 'Colour']\n",
    "cat_col = ['Taste', 'Odor', 'Fat', 'Turbidity']"
   ]
  },
  {
   "attachments": {},
   "cell_type": "markdown",
   "metadata": {},
   "source": [
    "**numerical preprocess**"
   ]
  },
  {
   "cell_type": "code",
   "execution_count": 16,
   "metadata": {},
   "outputs": [
    {
     "data": {
      "text/html": [
       "<div>\n",
       "<style scoped>\n",
       "    .dataframe tbody tr th:only-of-type {\n",
       "        vertical-align: middle;\n",
       "    }\n",
       "\n",
       "    .dataframe tbody tr th {\n",
       "        vertical-align: top;\n",
       "    }\n",
       "\n",
       "    .dataframe thead th {\n",
       "        text-align: right;\n",
       "    }\n",
       "</style>\n",
       "<table border=\"1\" class=\"dataframe\">\n",
       "  <thead>\n",
       "    <tr style=\"text-align: right;\">\n",
       "      <th></th>\n",
       "      <th>pH</th>\n",
       "      <th>Temprature</th>\n",
       "      <th>Colour</th>\n",
       "    </tr>\n",
       "  </thead>\n",
       "  <tbody>\n",
       "    <tr>\n",
       "      <th>143</th>\n",
       "      <td>3.0</td>\n",
       "      <td>40</td>\n",
       "      <td>255.0</td>\n",
       "    </tr>\n",
       "    <tr>\n",
       "      <th>576</th>\n",
       "      <td>6.6</td>\n",
       "      <td>40</td>\n",
       "      <td>255.0</td>\n",
       "    </tr>\n",
       "    <tr>\n",
       "      <th>686</th>\n",
       "      <td>3.0</td>\n",
       "      <td>40</td>\n",
       "      <td>255.0</td>\n",
       "    </tr>\n",
       "    <tr>\n",
       "      <th>544</th>\n",
       "      <td>6.5</td>\n",
       "      <td>37</td>\n",
       "      <td>255.0</td>\n",
       "    </tr>\n",
       "    <tr>\n",
       "      <th>889</th>\n",
       "      <td>6.8</td>\n",
       "      <td>45</td>\n",
       "      <td>245.0</td>\n",
       "    </tr>\n",
       "    <tr>\n",
       "      <th>...</th>\n",
       "      <td>...</td>\n",
       "      <td>...</td>\n",
       "      <td>...</td>\n",
       "    </tr>\n",
       "    <tr>\n",
       "      <th>440</th>\n",
       "      <td>6.6</td>\n",
       "      <td>45</td>\n",
       "      <td>250.0</td>\n",
       "    </tr>\n",
       "    <tr>\n",
       "      <th>840</th>\n",
       "      <td>6.5</td>\n",
       "      <td>36</td>\n",
       "      <td>255.0</td>\n",
       "    </tr>\n",
       "    <tr>\n",
       "      <th>429</th>\n",
       "      <td>6.7</td>\n",
       "      <td>38</td>\n",
       "      <td>255.0</td>\n",
       "    </tr>\n",
       "    <tr>\n",
       "      <th>462</th>\n",
       "      <td>5.5</td>\n",
       "      <td>45</td>\n",
       "      <td>250.0</td>\n",
       "    </tr>\n",
       "    <tr>\n",
       "      <th>1008</th>\n",
       "      <td>3.0</td>\n",
       "      <td>40</td>\n",
       "      <td>255.0</td>\n",
       "    </tr>\n",
       "  </tbody>\n",
       "</table>\n",
       "<p>741 rows × 3 columns</p>\n",
       "</div>"
      ],
      "text/plain": [
       "       pH  Temprature  Colour\n",
       "143   3.0          40   255.0\n",
       "576   6.6          40   255.0\n",
       "686   3.0          40   255.0\n",
       "544   6.5          37   255.0\n",
       "889   6.8          45   245.0\n",
       "...   ...         ...     ...\n",
       "440   6.6          45   250.0\n",
       "840   6.5          36   255.0\n",
       "429   6.7          38   255.0\n",
       "462   5.5          45   250.0\n",
       "1008  3.0          40   255.0\n",
       "\n",
       "[741 rows x 3 columns]"
      ]
     },
     "execution_count": 16,
     "metadata": {},
     "output_type": "execute_result"
    }
   ],
   "source": [
    "X_train_eda[num_col]"
   ]
  },
  {
   "cell_type": "code",
   "execution_count": 17,
   "metadata": {},
   "outputs": [
    {
     "data": {
      "image/png": "[encoded data removed]",
      "text/plain": [
       "<Figure size 2500x1000 with 3 Axes>"
      ]
     },
     "metadata": {},
     "output_type": "display_data"
    }
   ],
   "source": [
    "fig, ax = plt.subplots(ncols=3, figsize=[25,10])\n",
    "ax = ax.flatten()\n",
    "\n",
    "for idx, col in enumerate(num_col):\n",
    "    sns.histplot(X_train_eda[col], ax=ax[idx])\n",
    "    ax[idx].set_title(f'{num_col[idx]} skew: {X_train_eda[col].skew()}')"
   ]
  },
  {
   "cell_type": "code",
   "execution_count": 18,
   "metadata": {},
   "outputs": [
    {
     "name": "stdout",
     "output_type": "stream",
     "text": [
      "percentage:  0.0 %\n"
     ]
    }
   ],
   "source": [
    "# let's say we have normal distribution in pH, just for example\n",
    "# outlier detection in pH\n",
    "# gaussian\n",
    "upper = X_train_eda['pH'].mean() + (3 * X_train_eda['pH'].std())\n",
    "lower = X_train_eda['pH'].mean() - (3 * X_train_eda['pH'].std())\n",
    "\n",
    "outlier = X_train_eda[(X_train_eda['pH'] <= lower) | (X_train_eda['pH'] >= upper)]\n",
    "\n",
    "print('percentage: ', len(outlier)/X_train_eda.shape[0] * 100, '%')"
   ]
  },
  {
   "cell_type": "code",
   "execution_count": 19,
   "metadata": {},
   "outputs": [
    {
     "name": "stdout",
     "output_type": "stream",
     "text": [
      "percentage:  5.668016194331984 %\n",
      "upper:  66.0\n",
      "lower:  17.0\n"
     ]
    }
   ],
   "source": [
    "# outlier detection in Temperature\n",
    "Q1 = X_train_eda['Temprature'].quantile(.25)\n",
    "Q3 = X_train_eda['Temprature'].quantile(.75)\n",
    "\n",
    "IQR = Q3 - Q1\n",
    "\n",
    "upper = Q3 + (3*IQR)\n",
    "lower = Q1 - (3*IQR)\n",
    "\n",
    "outlier = X_train_eda[(X_train_eda['Temprature'] <= lower) | (X_train_eda['Temprature'] >= upper)]\n",
    "\n",
    "print('percentage: ', len(outlier)/X_train_eda.shape[0] * 100, '%')\n",
    "print('upper: ', upper)\n",
    "print('lower: ', lower)"
   ]
  },
  {
   "cell_type": "code",
   "execution_count": 20,
   "metadata": {},
   "outputs": [
    {
     "name": "stdout",
     "output_type": "stream",
     "text": [
      "percentage:  0.0 %\n"
     ]
    }
   ],
   "source": [
    "# outlier detection in Colour\n",
    "Q1 = X_train_eda['Colour'].quantile(.25)\n",
    "Q3 = X_train_eda['Colour'].quantile(.75)\n",
    "\n",
    "IQR = Q3 - Q1\n",
    "\n",
    "upper = Q3 + (3*IQR)\n",
    "lower = Q1 - (3*IQR)\n",
    "\n",
    "outlier = X_train_eda[(X_train_eda['Colour'] <= lower) | (X_train_eda['Colour'] >= upper)]\n",
    "\n",
    "print('percentage: ', len(outlier)/X_train_eda.shape[0] * 100, '%')"
   ]
  },
  {
   "attachments": {},
   "cell_type": "markdown",
   "metadata": {},
   "source": [
    "outlier only exist in Temprature columns, using fold 3 IQR. will be handled using winsorizer transformer"
   ]
  },
  {
   "cell_type": "code",
   "execution_count": 21,
   "metadata": {},
   "outputs": [
    {
     "data": {
      "text/html": [
       "<div>\n",
       "<style scoped>\n",
       "    .dataframe tbody tr th:only-of-type {\n",
       "        vertical-align: middle;\n",
       "    }\n",
       "\n",
       "    .dataframe tbody tr th {\n",
       "        vertical-align: top;\n",
       "    }\n",
       "\n",
       "    .dataframe thead th {\n",
       "        text-align: right;\n",
       "    }\n",
       "</style>\n",
       "<table border=\"1\" class=\"dataframe\">\n",
       "  <thead>\n",
       "    <tr style=\"text-align: right;\">\n",
       "      <th></th>\n",
       "      <th>pH</th>\n",
       "      <th>Temprature</th>\n",
       "      <th>Colour</th>\n",
       "    </tr>\n",
       "  </thead>\n",
       "  <tbody>\n",
       "    <tr>\n",
       "      <th>count</th>\n",
       "      <td>729.000000</td>\n",
       "      <td>741.000000</td>\n",
       "      <td>723.000000</td>\n",
       "    </tr>\n",
       "    <tr>\n",
       "      <th>mean</th>\n",
       "      <td>6.593964</td>\n",
       "      <td>43.847503</td>\n",
       "      <td>251.788382</td>\n",
       "    </tr>\n",
       "    <tr>\n",
       "      <th>std</th>\n",
       "      <td>1.406321</td>\n",
       "      <td>8.431742</td>\n",
       "      <td>4.309466</td>\n",
       "    </tr>\n",
       "    <tr>\n",
       "      <th>min</th>\n",
       "      <td>3.000000</td>\n",
       "      <td>34.000000</td>\n",
       "      <td>240.000000</td>\n",
       "    </tr>\n",
       "    <tr>\n",
       "      <th>25%</th>\n",
       "      <td>6.500000</td>\n",
       "      <td>38.000000</td>\n",
       "      <td>248.000000</td>\n",
       "    </tr>\n",
       "    <tr>\n",
       "      <th>50%</th>\n",
       "      <td>6.700000</td>\n",
       "      <td>41.000000</td>\n",
       "      <td>255.000000</td>\n",
       "    </tr>\n",
       "    <tr>\n",
       "      <th>75%</th>\n",
       "      <td>6.800000</td>\n",
       "      <td>45.000000</td>\n",
       "      <td>255.000000</td>\n",
       "    </tr>\n",
       "    <tr>\n",
       "      <th>max</th>\n",
       "      <td>9.500000</td>\n",
       "      <td>66.000000</td>\n",
       "      <td>255.000000</td>\n",
       "    </tr>\n",
       "  </tbody>\n",
       "</table>\n",
       "</div>"
      ],
      "text/plain": [
       "               pH  Temprature      Colour\n",
       "count  729.000000  741.000000  723.000000\n",
       "mean     6.593964   43.847503  251.788382\n",
       "std      1.406321    8.431742    4.309466\n",
       "min      3.000000   34.000000  240.000000\n",
       "25%      6.500000   38.000000  248.000000\n",
       "50%      6.700000   41.000000  255.000000\n",
       "75%      6.800000   45.000000  255.000000\n",
       "max      9.500000   66.000000  255.000000"
      ]
     },
     "execution_count": 21,
     "metadata": {},
     "output_type": "execute_result"
    }
   ],
   "source": [
    "wins = Winsorizer(capping_method='iqr', tail='both', fold=3,\n",
    "                  variables=['Temprature'], missing_values='ignore')\n",
    "\n",
    "X_train_eda = wins.fit_transform(X_train_eda)\n",
    "X_train_eda.describe()"
   ]
  },
  {
   "attachments": {},
   "cell_type": "markdown",
   "metadata": {},
   "source": [
    "**missing value handling**"
   ]
  },
  {
   "cell_type": "code",
   "execution_count": 22,
   "metadata": {},
   "outputs": [
    {
     "data": {
      "text/plain": [
       "pH            12\n",
       "Temprature     0\n",
       "Colour        18\n",
       "dtype: int64"
      ]
     },
     "execution_count": 22,
     "metadata": {},
     "output_type": "execute_result"
    }
   ],
   "source": [
    "X_train_eda[num_col].isnull().sum()"
   ]
  },
  {
   "attachments": {},
   "cell_type": "markdown",
   "metadata": {},
   "source": [
    "missing value on numerical columns will be handled using median estimator from each columns"
   ]
  },
  {
   "cell_type": "code",
   "execution_count": 23,
   "metadata": {},
   "outputs": [
    {
     "data": {
      "text/plain": [
       "pH            0\n",
       "Temprature    0\n",
       "Colour        0\n",
       "dtype: int64"
      ]
     },
     "execution_count": 23,
     "metadata": {},
     "output_type": "execute_result"
    }
   ],
   "source": [
    "imp_num = SimpleImputer(strategy='median')\n",
    "\n",
    "X_train_eda[num_col] = imp_num.fit_transform(X_train_eda[num_col])\n",
    "X_train_eda[num_col].isnull().sum()"
   ]
  },
  {
   "cell_type": "code",
   "execution_count": 24,
   "metadata": {},
   "outputs": [
    {
     "data": {
      "text/plain": [
       "array([  6.7,  41. , 255. ])"
      ]
     },
     "execution_count": 24,
     "metadata": {},
     "output_type": "execute_result"
    }
   ],
   "source": [
    "imp_num.statistics_"
   ]
  },
  {
   "cell_type": "code",
   "execution_count": 25,
   "metadata": {},
   "outputs": [
    {
     "data": {
      "text/html": [
       "<div>\n",
       "<style scoped>\n",
       "    .dataframe tbody tr th:only-of-type {\n",
       "        vertical-align: middle;\n",
       "    }\n",
       "\n",
       "    .dataframe tbody tr th {\n",
       "        vertical-align: top;\n",
       "    }\n",
       "\n",
       "    .dataframe thead th {\n",
       "        text-align: right;\n",
       "    }\n",
       "</style>\n",
       "<table border=\"1\" class=\"dataframe\">\n",
       "  <thead>\n",
       "    <tr style=\"text-align: right;\">\n",
       "      <th></th>\n",
       "      <th>pH</th>\n",
       "      <th>Temprature</th>\n",
       "      <th>Colour</th>\n",
       "    </tr>\n",
       "  </thead>\n",
       "  <tbody>\n",
       "    <tr>\n",
       "      <th>count</th>\n",
       "      <td>741.000000</td>\n",
       "      <td>741.000000</td>\n",
       "      <td>741.000000</td>\n",
       "    </tr>\n",
       "    <tr>\n",
       "      <th>mean</th>\n",
       "      <td>6.595682</td>\n",
       "      <td>43.847503</td>\n",
       "      <td>251.866397</td>\n",
       "    </tr>\n",
       "    <tr>\n",
       "      <th>std</th>\n",
       "      <td>1.394936</td>\n",
       "      <td>8.431742</td>\n",
       "      <td>4.285389</td>\n",
       "    </tr>\n",
       "    <tr>\n",
       "      <th>min</th>\n",
       "      <td>3.000000</td>\n",
       "      <td>34.000000</td>\n",
       "      <td>240.000000</td>\n",
       "    </tr>\n",
       "    <tr>\n",
       "      <th>25%</th>\n",
       "      <td>6.500000</td>\n",
       "      <td>38.000000</td>\n",
       "      <td>250.000000</td>\n",
       "    </tr>\n",
       "    <tr>\n",
       "      <th>50%</th>\n",
       "      <td>6.700000</td>\n",
       "      <td>41.000000</td>\n",
       "      <td>255.000000</td>\n",
       "    </tr>\n",
       "    <tr>\n",
       "      <th>75%</th>\n",
       "      <td>6.800000</td>\n",
       "      <td>45.000000</td>\n",
       "      <td>255.000000</td>\n",
       "    </tr>\n",
       "    <tr>\n",
       "      <th>max</th>\n",
       "      <td>9.500000</td>\n",
       "      <td>66.000000</td>\n",
       "      <td>255.000000</td>\n",
       "    </tr>\n",
       "  </tbody>\n",
       "</table>\n",
       "</div>"
      ],
      "text/plain": [
       "               pH  Temprature      Colour\n",
       "count  741.000000  741.000000  741.000000\n",
       "mean     6.595682   43.847503  251.866397\n",
       "std      1.394936    8.431742    4.285389\n",
       "min      3.000000   34.000000  240.000000\n",
       "25%      6.500000   38.000000  250.000000\n",
       "50%      6.700000   41.000000  255.000000\n",
       "75%      6.800000   45.000000  255.000000\n",
       "max      9.500000   66.000000  255.000000"
      ]
     },
     "execution_count": 25,
     "metadata": {},
     "output_type": "execute_result"
    }
   ],
   "source": [
    "X_train_eda.describe()"
   ]
  },
  {
   "attachments": {},
   "cell_type": "markdown",
   "metadata": {},
   "source": [
    "**scaling features numeric**"
   ]
  },
  {
   "cell_type": "code",
   "execution_count": 26,
   "metadata": {},
   "outputs": [
    {
     "data": {
      "text/html": [
       "<div>\n",
       "<style scoped>\n",
       "    .dataframe tbody tr th:only-of-type {\n",
       "        vertical-align: middle;\n",
       "    }\n",
       "\n",
       "    .dataframe tbody tr th {\n",
       "        vertical-align: top;\n",
       "    }\n",
       "\n",
       "    .dataframe thead th {\n",
       "        text-align: right;\n",
       "    }\n",
       "</style>\n",
       "<table border=\"1\" class=\"dataframe\">\n",
       "  <thead>\n",
       "    <tr style=\"text-align: right;\">\n",
       "      <th></th>\n",
       "      <th>pH</th>\n",
       "      <th>Temprature</th>\n",
       "      <th>Taste</th>\n",
       "      <th>Odor</th>\n",
       "      <th>Fat</th>\n",
       "      <th>Turbidity</th>\n",
       "      <th>Colour</th>\n",
       "    </tr>\n",
       "  </thead>\n",
       "  <tbody>\n",
       "    <tr>\n",
       "      <th>143</th>\n",
       "      <td>0.000000</td>\n",
       "      <td>0.18750</td>\n",
       "      <td>Good</td>\n",
       "      <td>Bad</td>\n",
       "      <td>Low</td>\n",
       "      <td>Low</td>\n",
       "      <td>1.000000</td>\n",
       "    </tr>\n",
       "    <tr>\n",
       "      <th>576</th>\n",
       "      <td>0.553846</td>\n",
       "      <td>0.18750</td>\n",
       "      <td>Good</td>\n",
       "      <td>Bad</td>\n",
       "      <td>High</td>\n",
       "      <td>High</td>\n",
       "      <td>1.000000</td>\n",
       "    </tr>\n",
       "    <tr>\n",
       "      <th>686</th>\n",
       "      <td>0.000000</td>\n",
       "      <td>0.18750</td>\n",
       "      <td>Good</td>\n",
       "      <td>Good</td>\n",
       "      <td>High</td>\n",
       "      <td>High</td>\n",
       "      <td>1.000000</td>\n",
       "    </tr>\n",
       "    <tr>\n",
       "      <th>544</th>\n",
       "      <td>0.538462</td>\n",
       "      <td>0.09375</td>\n",
       "      <td>Bad</td>\n",
       "      <td>Bad</td>\n",
       "      <td>Low</td>\n",
       "      <td>Low</td>\n",
       "      <td>1.000000</td>\n",
       "    </tr>\n",
       "    <tr>\n",
       "      <th>889</th>\n",
       "      <td>0.584615</td>\n",
       "      <td>0.34375</td>\n",
       "      <td>Good</td>\n",
       "      <td>Good</td>\n",
       "      <td>High</td>\n",
       "      <td>High</td>\n",
       "      <td>0.333333</td>\n",
       "    </tr>\n",
       "    <tr>\n",
       "      <th>...</th>\n",
       "      <td>...</td>\n",
       "      <td>...</td>\n",
       "      <td>...</td>\n",
       "      <td>...</td>\n",
       "      <td>...</td>\n",
       "      <td>...</td>\n",
       "      <td>...</td>\n",
       "    </tr>\n",
       "    <tr>\n",
       "      <th>440</th>\n",
       "      <td>0.553846</td>\n",
       "      <td>0.34375</td>\n",
       "      <td>Bad</td>\n",
       "      <td>Bad</td>\n",
       "      <td>Low</td>\n",
       "      <td>High</td>\n",
       "      <td>0.666667</td>\n",
       "    </tr>\n",
       "    <tr>\n",
       "      <th>840</th>\n",
       "      <td>0.538462</td>\n",
       "      <td>0.06250</td>\n",
       "      <td>Bad</td>\n",
       "      <td>Bad</td>\n",
       "      <td>High</td>\n",
       "      <td>Low</td>\n",
       "      <td>1.000000</td>\n",
       "    </tr>\n",
       "    <tr>\n",
       "      <th>429</th>\n",
       "      <td>0.569231</td>\n",
       "      <td>0.12500</td>\n",
       "      <td>Good</td>\n",
       "      <td>Bad</td>\n",
       "      <td>High</td>\n",
       "      <td>Low</td>\n",
       "      <td>1.000000</td>\n",
       "    </tr>\n",
       "    <tr>\n",
       "      <th>462</th>\n",
       "      <td>0.384615</td>\n",
       "      <td>0.34375</td>\n",
       "      <td>Good</td>\n",
       "      <td>Bad</td>\n",
       "      <td>High</td>\n",
       "      <td>High</td>\n",
       "      <td>0.666667</td>\n",
       "    </tr>\n",
       "    <tr>\n",
       "      <th>1008</th>\n",
       "      <td>0.000000</td>\n",
       "      <td>0.18750</td>\n",
       "      <td>Good</td>\n",
       "      <td>Good</td>\n",
       "      <td>High</td>\n",
       "      <td>High</td>\n",
       "      <td>1.000000</td>\n",
       "    </tr>\n",
       "  </tbody>\n",
       "</table>\n",
       "<p>741 rows × 7 columns</p>\n",
       "</div>"
      ],
      "text/plain": [
       "            pH  Temprature Taste  Odor   Fat Turbidity    Colour\n",
       "143   0.000000     0.18750  Good   Bad   Low       Low  1.000000\n",
       "576   0.553846     0.18750  Good   Bad  High      High  1.000000\n",
       "686   0.000000     0.18750  Good  Good  High      High  1.000000\n",
       "544   0.538462     0.09375   Bad   Bad   Low       Low  1.000000\n",
       "889   0.584615     0.34375  Good  Good  High      High  0.333333\n",
       "...        ...         ...   ...   ...   ...       ...       ...\n",
       "440   0.553846     0.34375   Bad   Bad   Low      High  0.666667\n",
       "840   0.538462     0.06250   Bad   Bad  High       Low  1.000000\n",
       "429   0.569231     0.12500  Good   Bad  High       Low  1.000000\n",
       "462   0.384615     0.34375  Good   Bad  High      High  0.666667\n",
       "1008  0.000000     0.18750  Good  Good  High      High  1.000000\n",
       "\n",
       "[741 rows x 7 columns]"
      ]
     },
     "execution_count": 26,
     "metadata": {},
     "output_type": "execute_result"
    }
   ],
   "source": [
    "scaler = MinMaxScaler()\n",
    "\n",
    "X_train_eda[num_col] = scaler.fit_transform(X_train_eda[num_col])\n",
    "X_train_eda"
   ]
  },
  {
   "attachments": {},
   "cell_type": "markdown",
   "metadata": {},
   "source": [
    "**features engineering on categorical column**"
   ]
  },
  {
   "cell_type": "code",
   "execution_count": 27,
   "metadata": {},
   "outputs": [
    {
     "data": {
      "text/plain": [
       "pH             0\n",
       "Temprature     0\n",
       "Taste         18\n",
       "Odor           0\n",
       "Fat            0\n",
       "Turbidity      0\n",
       "Colour         0\n",
       "dtype: int64"
      ]
     },
     "execution_count": 27,
     "metadata": {},
     "output_type": "execute_result"
    }
   ],
   "source": [
    "X_train_eda.isnull().sum()"
   ]
  },
  {
   "cell_type": "code",
   "execution_count": 28,
   "metadata": {},
   "outputs": [
    {
     "data": {
      "text/plain": [
       "array(['Good', 'Bad', 'High', 'Low'], dtype=object)"
      ]
     },
     "execution_count": 28,
     "metadata": {},
     "output_type": "execute_result"
    }
   ],
   "source": [
    "# missing value handling\n",
    "imp_cat = SimpleImputer(strategy='most_frequent')\n",
    "X_train_eda[cat_col] = imp_cat.fit_transform(X_train_eda[cat_col])\n",
    "\n",
    "imp_cat.statistics_"
   ]
  },
  {
   "cell_type": "code",
   "execution_count": 29,
   "metadata": {},
   "outputs": [
    {
     "data": {
      "text/plain": [
       "pH            0\n",
       "Temprature    0\n",
       "Taste         0\n",
       "Odor          0\n",
       "Fat           0\n",
       "Turbidity     0\n",
       "Colour        0\n",
       "dtype: int64"
      ]
     },
     "execution_count": 29,
     "metadata": {},
     "output_type": "execute_result"
    }
   ],
   "source": [
    "X_train_eda.isnull().sum()"
   ]
  },
  {
   "cell_type": "code",
   "execution_count": 30,
   "metadata": {},
   "outputs": [
    {
     "data": {
      "text/html": [
       "<div>\n",
       "<style scoped>\n",
       "    .dataframe tbody tr th:only-of-type {\n",
       "        vertical-align: middle;\n",
       "    }\n",
       "\n",
       "    .dataframe tbody tr th {\n",
       "        vertical-align: top;\n",
       "    }\n",
       "\n",
       "    .dataframe thead th {\n",
       "        text-align: right;\n",
       "    }\n",
       "</style>\n",
       "<table border=\"1\" class=\"dataframe\">\n",
       "  <thead>\n",
       "    <tr style=\"text-align: right;\">\n",
       "      <th></th>\n",
       "      <th>Taste</th>\n",
       "      <th>Odor</th>\n",
       "      <th>Fat</th>\n",
       "    </tr>\n",
       "  </thead>\n",
       "  <tbody>\n",
       "    <tr>\n",
       "      <th>143</th>\n",
       "      <td>Good</td>\n",
       "      <td>Bad</td>\n",
       "      <td>Low</td>\n",
       "    </tr>\n",
       "    <tr>\n",
       "      <th>576</th>\n",
       "      <td>Good</td>\n",
       "      <td>Bad</td>\n",
       "      <td>High</td>\n",
       "    </tr>\n",
       "    <tr>\n",
       "      <th>686</th>\n",
       "      <td>Good</td>\n",
       "      <td>Good</td>\n",
       "      <td>High</td>\n",
       "    </tr>\n",
       "    <tr>\n",
       "      <th>544</th>\n",
       "      <td>Bad</td>\n",
       "      <td>Bad</td>\n",
       "      <td>Low</td>\n",
       "    </tr>\n",
       "    <tr>\n",
       "      <th>889</th>\n",
       "      <td>Good</td>\n",
       "      <td>Good</td>\n",
       "      <td>High</td>\n",
       "    </tr>\n",
       "    <tr>\n",
       "      <th>...</th>\n",
       "      <td>...</td>\n",
       "      <td>...</td>\n",
       "      <td>...</td>\n",
       "    </tr>\n",
       "    <tr>\n",
       "      <th>440</th>\n",
       "      <td>Bad</td>\n",
       "      <td>Bad</td>\n",
       "      <td>Low</td>\n",
       "    </tr>\n",
       "    <tr>\n",
       "      <th>840</th>\n",
       "      <td>Bad</td>\n",
       "      <td>Bad</td>\n",
       "      <td>High</td>\n",
       "    </tr>\n",
       "    <tr>\n",
       "      <th>429</th>\n",
       "      <td>Good</td>\n",
       "      <td>Bad</td>\n",
       "      <td>High</td>\n",
       "    </tr>\n",
       "    <tr>\n",
       "      <th>462</th>\n",
       "      <td>Good</td>\n",
       "      <td>Bad</td>\n",
       "      <td>High</td>\n",
       "    </tr>\n",
       "    <tr>\n",
       "      <th>1008</th>\n",
       "      <td>Good</td>\n",
       "      <td>Good</td>\n",
       "      <td>High</td>\n",
       "    </tr>\n",
       "  </tbody>\n",
       "</table>\n",
       "<p>741 rows × 3 columns</p>\n",
       "</div>"
      ],
      "text/plain": [
       "     Taste  Odor   Fat\n",
       "143   Good   Bad   Low\n",
       "576   Good   Bad  High\n",
       "686   Good  Good  High\n",
       "544    Bad   Bad   Low\n",
       "889   Good  Good  High\n",
       "...    ...   ...   ...\n",
       "440    Bad   Bad   Low\n",
       "840    Bad   Bad  High\n",
       "429   Good   Bad  High\n",
       "462   Good   Bad  High\n",
       "1008  Good  Good  High\n",
       "\n",
       "[741 rows x 3 columns]"
      ]
     },
     "execution_count": 30,
     "metadata": {},
     "output_type": "execute_result"
    }
   ],
   "source": [
    "X_train_eda[['Taste', 'Odor', 'Fat']]"
   ]
  },
  {
   "cell_type": "code",
   "execution_count": 31,
   "metadata": {},
   "outputs": [
    {
     "data": {
      "text/html": [
       "<div>\n",
       "<style scoped>\n",
       "    .dataframe tbody tr th:only-of-type {\n",
       "        vertical-align: middle;\n",
       "    }\n",
       "\n",
       "    .dataframe tbody tr th {\n",
       "        vertical-align: top;\n",
       "    }\n",
       "\n",
       "    .dataframe thead th {\n",
       "        text-align: right;\n",
       "    }\n",
       "</style>\n",
       "<table border=\"1\" class=\"dataframe\">\n",
       "  <thead>\n",
       "    <tr style=\"text-align: right;\">\n",
       "      <th></th>\n",
       "      <th>Taste</th>\n",
       "      <th>Odor</th>\n",
       "      <th>Fat</th>\n",
       "      <th>Taste_enc</th>\n",
       "      <th>Odor_enc</th>\n",
       "      <th>Fat_enc</th>\n",
       "    </tr>\n",
       "  </thead>\n",
       "  <tbody>\n",
       "    <tr>\n",
       "      <th>179</th>\n",
       "      <td>Bad</td>\n",
       "      <td>Bad</td>\n",
       "      <td>High</td>\n",
       "      <td>0.0</td>\n",
       "      <td>0.0</td>\n",
       "      <td>1.0</td>\n",
       "    </tr>\n",
       "    <tr>\n",
       "      <th>402</th>\n",
       "      <td>Bad</td>\n",
       "      <td>Good</td>\n",
       "      <td>High</td>\n",
       "      <td>0.0</td>\n",
       "      <td>1.0</td>\n",
       "      <td>1.0</td>\n",
       "    </tr>\n",
       "    <tr>\n",
       "      <th>697</th>\n",
       "      <td>Bad</td>\n",
       "      <td>Good</td>\n",
       "      <td>Low</td>\n",
       "      <td>0.0</td>\n",
       "      <td>1.0</td>\n",
       "      <td>0.0</td>\n",
       "    </tr>\n",
       "    <tr>\n",
       "      <th>89</th>\n",
       "      <td>Good</td>\n",
       "      <td>Bad</td>\n",
       "      <td>High</td>\n",
       "      <td>1.0</td>\n",
       "      <td>0.0</td>\n",
       "      <td>1.0</td>\n",
       "    </tr>\n",
       "    <tr>\n",
       "      <th>418</th>\n",
       "      <td>Good</td>\n",
       "      <td>Good</td>\n",
       "      <td>High</td>\n",
       "      <td>1.0</td>\n",
       "      <td>1.0</td>\n",
       "      <td>1.0</td>\n",
       "    </tr>\n",
       "  </tbody>\n",
       "</table>\n",
       "</div>"
      ],
      "text/plain": [
       "    Taste  Odor   Fat  Taste_enc  Odor_enc  Fat_enc\n",
       "179   Bad   Bad  High        0.0       0.0      1.0\n",
       "402   Bad  Good  High        0.0       1.0      1.0\n",
       "697   Bad  Good   Low        0.0       1.0      0.0\n",
       "89   Good   Bad  High        1.0       0.0      1.0\n",
       "418  Good  Good  High        1.0       1.0      1.0"
      ]
     },
     "execution_count": 31,
     "metadata": {},
     "output_type": "execute_result"
    }
   ],
   "source": [
    "# encoding Taste, Odor, Fat -> ordinal\n",
    "taste_cat = ['Bad', 'Good']\n",
    "odor_cat = ['Bad', 'Good']\n",
    "fat_cat = ['Low', 'High']\n",
    "\n",
    "ord_enc = OrdinalEncoder(categories=[taste_cat, odor_cat, fat_cat])\n",
    "cat_ord = pd.DataFrame(ord_enc.fit_transform(X_train_eda[['Taste', 'Odor', 'Fat']]))\n",
    "\n",
    "cat_ord.columns = ['Taste_enc', 'Odor_enc', 'Fat_enc']\n",
    "review = pd.concat([X_train_eda[['Taste', 'Odor', 'Fat']].reset_index(drop=True), cat_ord], axis=1)\n",
    "\n",
    "review.sample(5)"
   ]
  },
  {
   "cell_type": "code",
   "execution_count": 32,
   "metadata": {},
   "outputs": [
    {
     "data": {
      "text/html": [
       "<div>\n",
       "<style scoped>\n",
       "    .dataframe tbody tr th:only-of-type {\n",
       "        vertical-align: middle;\n",
       "    }\n",
       "\n",
       "    .dataframe tbody tr th {\n",
       "        vertical-align: top;\n",
       "    }\n",
       "\n",
       "    .dataframe thead th {\n",
       "        text-align: right;\n",
       "    }\n",
       "</style>\n",
       "<table border=\"1\" class=\"dataframe\">\n",
       "  <thead>\n",
       "    <tr style=\"text-align: right;\">\n",
       "      <th></th>\n",
       "      <th>Turbidity</th>\n",
       "      <th>Turbidity_High</th>\n",
       "      <th>Turbidity_Low</th>\n",
       "    </tr>\n",
       "  </thead>\n",
       "  <tbody>\n",
       "    <tr>\n",
       "      <th>192</th>\n",
       "      <td>High</td>\n",
       "      <td>1.0</td>\n",
       "      <td>0.0</td>\n",
       "    </tr>\n",
       "    <tr>\n",
       "      <th>165</th>\n",
       "      <td>High</td>\n",
       "      <td>1.0</td>\n",
       "      <td>0.0</td>\n",
       "    </tr>\n",
       "    <tr>\n",
       "      <th>618</th>\n",
       "      <td>High</td>\n",
       "      <td>1.0</td>\n",
       "      <td>0.0</td>\n",
       "    </tr>\n",
       "    <tr>\n",
       "      <th>424</th>\n",
       "      <td>Low</td>\n",
       "      <td>0.0</td>\n",
       "      <td>1.0</td>\n",
       "    </tr>\n",
       "    <tr>\n",
       "      <th>19</th>\n",
       "      <td>Low</td>\n",
       "      <td>0.0</td>\n",
       "      <td>1.0</td>\n",
       "    </tr>\n",
       "  </tbody>\n",
       "</table>\n",
       "</div>"
      ],
      "text/plain": [
       "    Turbidity  Turbidity_High  Turbidity_Low\n",
       "192      High             1.0            0.0\n",
       "165      High             1.0            0.0\n",
       "618      High             1.0            0.0\n",
       "424       Low             0.0            1.0\n",
       "19        Low             0.0            1.0"
      ]
     },
     "execution_count": 32,
     "metadata": {},
     "output_type": "execute_result"
    }
   ],
   "source": [
    "# OHE on Turbidity - for example purpose\n",
    "ohe_enc = OneHotEncoder(sparse=False)\n",
    "\n",
    "cat_ohe = pd.DataFrame(ohe_enc.fit_transform(X_train_eda[['Turbidity']]))\n",
    "cat_ohe.columns = ohe_enc.get_feature_names(['Turbidity']).tolist()\n",
    "\n",
    "review = pd.concat([X_train_eda[['Turbidity']].reset_index(drop=True), cat_ohe], axis=1)\n",
    "\n",
    "review.sample(5)"
   ]
  },
  {
   "cell_type": "code",
   "execution_count": 33,
   "metadata": {},
   "outputs": [
    {
     "data": {
      "text/plain": [
       "143     0\n",
       "576     2\n",
       "686     0\n",
       "544     1\n",
       "889     2\n",
       "       ..\n",
       "440     1\n",
       "840     1\n",
       "429     2\n",
       "462     0\n",
       "1008    0\n",
       "Name: Grade, Length: 741, dtype: int64"
      ]
     },
     "execution_count": 33,
     "metadata": {},
     "output_type": "execute_result"
    }
   ],
   "source": [
    "y_train"
   ]
  },
  {
   "cell_type": "code",
   "execution_count": 34,
   "metadata": {},
   "outputs": [
    {
     "data": {
      "text/plain": [
       "(741, 9)"
      ]
     },
     "execution_count": 34,
     "metadata": {},
     "output_type": "execute_result"
    }
   ],
   "source": [
    "X_train_eda = pd.concat([X_train_eda[num_col].reset_index(drop=True), cat_ord, cat_ohe, y_train.reset_index(drop=True)], axis=1)\n",
    "X_train_eda.shape"
   ]
  },
  {
   "cell_type": "code",
   "execution_count": 35,
   "metadata": {},
   "outputs": [
    {
     "data": {
      "text/html": [
       "<div>\n",
       "<style scoped>\n",
       "    .dataframe tbody tr th:only-of-type {\n",
       "        vertical-align: middle;\n",
       "    }\n",
       "\n",
       "    .dataframe tbody tr th {\n",
       "        vertical-align: top;\n",
       "    }\n",
       "\n",
       "    .dataframe thead th {\n",
       "        text-align: right;\n",
       "    }\n",
       "</style>\n",
       "<table border=\"1\" class=\"dataframe\">\n",
       "  <thead>\n",
       "    <tr style=\"text-align: right;\">\n",
       "      <th></th>\n",
       "      <th>pH</th>\n",
       "      <th>Temprature</th>\n",
       "      <th>Colour</th>\n",
       "      <th>Taste_enc</th>\n",
       "      <th>Odor_enc</th>\n",
       "      <th>Fat_enc</th>\n",
       "      <th>Turbidity_High</th>\n",
       "      <th>Turbidity_Low</th>\n",
       "      <th>Grade</th>\n",
       "    </tr>\n",
       "  </thead>\n",
       "  <tbody>\n",
       "    <tr>\n",
       "      <th>0</th>\n",
       "      <td>0.000000</td>\n",
       "      <td>0.18750</td>\n",
       "      <td>1.000000</td>\n",
       "      <td>1.0</td>\n",
       "      <td>0.0</td>\n",
       "      <td>0.0</td>\n",
       "      <td>0.0</td>\n",
       "      <td>1.0</td>\n",
       "      <td>0</td>\n",
       "    </tr>\n",
       "    <tr>\n",
       "      <th>1</th>\n",
       "      <td>0.553846</td>\n",
       "      <td>0.18750</td>\n",
       "      <td>1.000000</td>\n",
       "      <td>1.0</td>\n",
       "      <td>0.0</td>\n",
       "      <td>1.0</td>\n",
       "      <td>1.0</td>\n",
       "      <td>0.0</td>\n",
       "      <td>2</td>\n",
       "    </tr>\n",
       "    <tr>\n",
       "      <th>2</th>\n",
       "      <td>0.000000</td>\n",
       "      <td>0.18750</td>\n",
       "      <td>1.000000</td>\n",
       "      <td>1.0</td>\n",
       "      <td>1.0</td>\n",
       "      <td>1.0</td>\n",
       "      <td>1.0</td>\n",
       "      <td>0.0</td>\n",
       "      <td>0</td>\n",
       "    </tr>\n",
       "    <tr>\n",
       "      <th>3</th>\n",
       "      <td>0.538462</td>\n",
       "      <td>0.09375</td>\n",
       "      <td>1.000000</td>\n",
       "      <td>0.0</td>\n",
       "      <td>0.0</td>\n",
       "      <td>0.0</td>\n",
       "      <td>0.0</td>\n",
       "      <td>1.0</td>\n",
       "      <td>1</td>\n",
       "    </tr>\n",
       "    <tr>\n",
       "      <th>4</th>\n",
       "      <td>0.584615</td>\n",
       "      <td>0.34375</td>\n",
       "      <td>0.333333</td>\n",
       "      <td>1.0</td>\n",
       "      <td>1.0</td>\n",
       "      <td>1.0</td>\n",
       "      <td>1.0</td>\n",
       "      <td>0.0</td>\n",
       "      <td>2</td>\n",
       "    </tr>\n",
       "  </tbody>\n",
       "</table>\n",
       "</div>"
      ],
      "text/plain": [
       "         pH  Temprature    Colour  Taste_enc  Odor_enc  Fat_enc  \\\n",
       "0  0.000000     0.18750  1.000000        1.0       0.0      0.0   \n",
       "1  0.553846     0.18750  1.000000        1.0       0.0      1.0   \n",
       "2  0.000000     0.18750  1.000000        1.0       1.0      1.0   \n",
       "3  0.538462     0.09375  1.000000        0.0       0.0      0.0   \n",
       "4  0.584615     0.34375  0.333333        1.0       1.0      1.0   \n",
       "\n",
       "   Turbidity_High  Turbidity_Low  Grade  \n",
       "0             0.0            1.0      0  \n",
       "1             1.0            0.0      2  \n",
       "2             1.0            0.0      0  \n",
       "3             0.0            1.0      1  \n",
       "4             1.0            0.0      2  "
      ]
     },
     "execution_count": 35,
     "metadata": {},
     "output_type": "execute_result"
    }
   ],
   "source": [
    "X_train_eda.head()"
   ]
  },
  {
   "cell_type": "code",
   "execution_count": 36,
   "metadata": {},
   "outputs": [
    {
     "data": {
      "image/png": "[encoded data removed]",
      "text/plain": [
       "<Figure size 2000x1000 with 2 Axes>"
      ]
     },
     "metadata": {},
     "output_type": "display_data"
    }
   ],
   "source": [
    "fig,ax = plt.subplots(figsize=[20,10])\n",
    "\n",
    "corr = X_train_eda.corr()\n",
    "\n",
    "ax = sns.heatmap(corr,annot=True)\n",
    "plt.show()"
   ]
  },
  {
   "attachments": {},
   "cell_type": "markdown",
   "metadata": {},
   "source": [
    "Select Temprature, Odor_enc, Fat_enc, TUrbidity"
   ]
  },
  {
   "attachments": {},
   "cell_type": "markdown",
   "metadata": {},
   "source": [
    "Overall what we did to train data preprocess:\n",
    "- For Numeric:\n",
    "1. Outlier Handling\n",
    "2. Missing value imputer using median\n",
    "3. Scaling using Minmax Scaler\n",
    "\n",
    "- For categoric:\n",
    "1. Missing value handling\n",
    "2. ordinal encoding for Taste, Odor and Fat\n",
    "3. OHE for Turbidity"
   ]
  },
  {
   "attachments": {},
   "cell_type": "markdown",
   "metadata": {},
   "source": [
    "## **Preprocess**"
   ]
  },
  {
   "cell_type": "code",
   "execution_count": 37,
   "metadata": {},
   "outputs": [],
   "source": [
    "num_pipeline = Pipeline([\n",
    "        ('outlier', Winsorizer(capping_method='iqr', tail='both', fold=3)),\n",
    "        ('imputer', SimpleImputer(strategy='median')),\n",
    "        ('scaler', MinMaxScaler())\n",
    "    ])\n",
    "\n",
    "num_tr = num_pipeline.fit_transform(X_train[['Temprature']])"
   ]
  },
  {
   "cell_type": "code",
   "execution_count": 38,
   "metadata": {},
   "outputs": [],
   "source": [
    "cat_1_pipeline = Pipeline([\n",
    "        ('imputer_1', SimpleImputer(strategy='most_frequent')),\n",
    "        ('ordinal_enc', OrdinalEncoder(categories=[['Bad', 'Good'], ['Low', 'High']])) #odor & fat\n",
    "    ])\n",
    "\n",
    "cat_1_tr = cat_1_pipeline.fit_transform(X_train[['Odor', 'Fat']])"
   ]
  },
  {
   "cell_type": "code",
   "execution_count": 39,
   "metadata": {},
   "outputs": [],
   "source": [
    "cat_2_pipeline = Pipeline([\n",
    "        ('imputer_2', SimpleImputer(strategy='most_frequent')),\n",
    "        ('ohe_enc', OneHotEncoder(sparse=False)) #turbidity\n",
    "    ])\n",
    "\n",
    "cat_2_tr = cat_2_pipeline.fit_transform(X_train[['Turbidity']])"
   ]
  },
  {
   "cell_type": "code",
   "execution_count": 40,
   "metadata": {},
   "outputs": [],
   "source": [
    "full_pipeline = ColumnTransformer([\n",
    "        (\"num\", num_pipeline, ['Temprature']),\n",
    "        (\"cat_ord\", cat_1_pipeline, ['Odor', 'Fat']),\n",
    "        (\"cat_ohe\", cat_2_pipeline, ['Turbidity']),\n",
    "    ])\n",
    "\n",
    "train_tr = full_pipeline.fit_transform(X_train)"
   ]
  },
  {
   "cell_type": "code",
   "execution_count": 41,
   "metadata": {},
   "outputs": [
    {
     "data": {
      "text/plain": [
       "array([[0.1875 , 0.     , 0.     , 0.     , 1.     ],\n",
       "       [0.1875 , 0.     , 1.     , 1.     , 0.     ],\n",
       "       [0.1875 , 1.     , 1.     , 1.     , 0.     ],\n",
       "       ...,\n",
       "       [0.125  , 0.     , 1.     , 0.     , 1.     ],\n",
       "       [0.34375, 0.     , 1.     , 1.     , 0.     ],\n",
       "       [0.1875 , 1.     , 1.     , 1.     , 0.     ]])"
      ]
     },
     "execution_count": 41,
     "metadata": {},
     "output_type": "execute_result"
    }
   ],
   "source": [
    "train_tr"
   ]
  },
  {
   "cell_type": "code",
   "execution_count": 42,
   "metadata": {},
   "outputs": [
    {
     "data": {
      "text/plain": [
       "True"
      ]
     },
     "execution_count": 42,
     "metadata": {},
     "output_type": "execute_result"
    }
   ],
   "source": [
    "train_manual = np.array(X_train_eda[['Temprature', 'Odor_enc', 'Fat_enc', 'Turbidity_High', 'Turbidity_Low']])\n",
    "\n",
    "np.allclose(train_tr, train_manual)"
   ]
  },
  {
   "cell_type": "code",
   "execution_count": 43,
   "metadata": {},
   "outputs": [],
   "source": [
    "test_tr = full_pipeline.transform(X_test)"
   ]
  },
  {
   "attachments": {},
   "cell_type": "markdown",
   "metadata": {},
   "source": [
    "## **Modeling**\n",
    "\n",
    "In this section we will compare the performance between 4 models:\n",
    "- LogisticReg\n",
    "- SVC\n",
    "- DecisionTree Classifier\n",
    "- RandomFOrest Classifier"
   ]
  },
  {
   "cell_type": "code",
   "execution_count": 44,
   "metadata": {},
   "outputs": [],
   "source": [
    "logreg = LogisticRegression(random_state=0)\n",
    "svc = SVC(random_state=0)\n",
    "dtc = DecisionTreeClassifier(random_state=0)\n",
    "rfc = RandomForestClassifier(random_state=0)"
   ]
  },
  {
   "attachments": {},
   "cell_type": "markdown",
   "metadata": {},
   "source": [
    "**logistic regression**"
   ]
  },
  {
   "cell_type": "code",
   "execution_count": 45,
   "metadata": {},
   "outputs": [
    {
     "name": "stdout",
     "output_type": "stream",
     "text": [
      "              precision    recall  f1-score   support\n",
      "\n",
      "           0       0.66      0.59      0.62       300\n",
      "           1       0.72      0.84      0.78       262\n",
      "           2       0.50      0.47      0.49       179\n",
      "\n",
      "    accuracy                           0.65       741\n",
      "   macro avg       0.63      0.63      0.63       741\n",
      "weighted avg       0.64      0.65      0.64       741\n",
      "\n",
      "              precision    recall  f1-score   support\n",
      "\n",
      "           0       0.75      0.66      0.70       129\n",
      "           1       0.72      0.93      0.81       112\n",
      "           2       0.48      0.38      0.42        77\n",
      "\n",
      "    accuracy                           0.69       318\n",
      "   macro avg       0.65      0.65      0.65       318\n",
      "weighted avg       0.67      0.69      0.67       318\n",
      "\n"
     ]
    }
   ],
   "source": [
    "logreg.fit(train_tr, y_train)\n",
    "\n",
    "lr_train = logreg.predict(train_tr)\n",
    "lr_test = logreg.predict(test_tr)\n",
    "\n",
    "print(classification_report(y_train, lr_train))\n",
    "print(classification_report(y_test, lr_test))"
   ]
  },
  {
   "cell_type": "code",
   "execution_count": 46,
   "metadata": {},
   "outputs": [
    {
     "name": "stdout",
     "output_type": "stream",
     "text": [
      "[0.64       0.66216216 0.59459459 0.59459459 0.66216216 0.71621622\n",
      " 0.64864865 0.62162162 0.7027027  0.60810811]\n",
      "0.6450810810810811\n"
     ]
    }
   ],
   "source": [
    "# cross-val\n",
    "logreg_pipe = Pipeline([\n",
    "        ('preprocess', full_pipeline),\n",
    "        ('model', LogisticRegression(random_state=0))\n",
    "    ])\n",
    "scores = cross_val_score(logreg_pipe, X_train, y_train,\n",
    "                         scoring=\"accuracy\", cv=10)\n",
    "print(scores)\n",
    "print(scores.mean())"
   ]
  },
  {
   "attachments": {},
   "cell_type": "markdown",
   "metadata": {},
   "source": [
    "**svc**"
   ]
  },
  {
   "cell_type": "code",
   "execution_count": 47,
   "metadata": {},
   "outputs": [
    {
     "name": "stdout",
     "output_type": "stream",
     "text": [
      "              precision    recall  f1-score   support\n",
      "\n",
      "           0       0.96      0.62      0.75       300\n",
      "           1       0.78      0.94      0.85       262\n",
      "           2       0.61      0.79      0.69       179\n",
      "\n",
      "    accuracy                           0.78       741\n",
      "   macro avg       0.79      0.79      0.77       741\n",
      "weighted avg       0.81      0.78      0.77       741\n",
      "\n",
      "              precision    recall  f1-score   support\n",
      "\n",
      "           0       0.95      0.70      0.80       129\n",
      "           1       0.75      0.96      0.84       112\n",
      "           2       0.60      0.64      0.62        77\n",
      "\n",
      "    accuracy                           0.77       318\n",
      "   macro avg       0.77      0.76      0.76       318\n",
      "weighted avg       0.80      0.77      0.77       318\n",
      "\n"
     ]
    }
   ],
   "source": [
    "svc.fit(train_tr, y_train)\n",
    "\n",
    "svc_train = svc.predict(train_tr)\n",
    "svc_test = svc.predict(test_tr)\n",
    "\n",
    "print(classification_report(y_train, svc_train))\n",
    "print(classification_report(y_test, svc_test))"
   ]
  },
  {
   "attachments": {},
   "cell_type": "markdown",
   "metadata": {},
   "source": [
    "**decision tree classifier**"
   ]
  },
  {
   "cell_type": "code",
   "execution_count": 48,
   "metadata": {},
   "outputs": [
    {
     "name": "stdout",
     "output_type": "stream",
     "text": [
      "              precision    recall  f1-score   support\n",
      "\n",
      "           0       0.91      0.91      0.91       300\n",
      "           1       0.85      0.98      0.91       262\n",
      "           2       0.91      0.72      0.80       179\n",
      "\n",
      "    accuracy                           0.89       741\n",
      "   macro avg       0.89      0.87      0.87       741\n",
      "weighted avg       0.89      0.89      0.88       741\n",
      "\n",
      "              precision    recall  f1-score   support\n",
      "\n",
      "           0       0.92      0.90      0.91       129\n",
      "           1       0.81      0.97      0.89       112\n",
      "           2       0.84      0.64      0.73        77\n",
      "\n",
      "    accuracy                           0.86       318\n",
      "   macro avg       0.86      0.84      0.84       318\n",
      "weighted avg       0.86      0.86      0.86       318\n",
      "\n"
     ]
    }
   ],
   "source": [
    "dtc.fit(train_tr, y_train)\n",
    "\n",
    "dtc_train = dtc.predict(train_tr)\n",
    "dtc_test = dtc.predict(test_tr)\n",
    "\n",
    "print(classification_report(y_train, dtc_train))\n",
    "print(classification_report(y_test, dtc_test))"
   ]
  },
  {
   "attachments": {},
   "cell_type": "markdown",
   "metadata": {},
   "source": [
    "**random forest**"
   ]
  },
  {
   "cell_type": "code",
   "execution_count": 49,
   "metadata": {},
   "outputs": [
    {
     "name": "stdout",
     "output_type": "stream",
     "text": [
      "              precision    recall  f1-score   support\n",
      "\n",
      "           0       0.91      0.91      0.91       300\n",
      "           1       0.85      0.98      0.91       262\n",
      "           2       0.91      0.72      0.80       179\n",
      "\n",
      "    accuracy                           0.89       741\n",
      "   macro avg       0.89      0.87      0.87       741\n",
      "weighted avg       0.89      0.89      0.88       741\n",
      "\n",
      "              precision    recall  f1-score   support\n",
      "\n",
      "           0       0.92      0.90      0.91       129\n",
      "           1       0.81      0.97      0.89       112\n",
      "           2       0.84      0.64      0.73        77\n",
      "\n",
      "    accuracy                           0.86       318\n",
      "   macro avg       0.86      0.84      0.84       318\n",
      "weighted avg       0.86      0.86      0.86       318\n",
      "\n"
     ]
    }
   ],
   "source": [
    "rfc.fit(train_tr, y_train)\n",
    "\n",
    "rfc_train = rfc.predict(train_tr)\n",
    "rfc_test = rfc.predict(test_tr)\n",
    "\n",
    "print(classification_report(y_train, rfc_train))\n",
    "print(classification_report(y_test, rfc_test))"
   ]
  },
  {
   "cell_type": "code",
   "execution_count": 50,
   "metadata": {},
   "outputs": [
    {
     "name": "stdout",
     "output_type": "stream",
     "text": [
      "[0.85333333 0.85135135 0.86486486 0.86486486 0.87837838 0.89189189\n",
      " 0.87837838 0.86486486 0.87837838 0.90540541]\n",
      "0.8731711711711713\n"
     ]
    }
   ],
   "source": [
    "# cross-val\n",
    "rfc_pipe = Pipeline([\n",
    "        ('preprocess', full_pipeline),\n",
    "        ('model', RandomForestClassifier(random_state=0))\n",
    "    ])\n",
    "scores = cross_val_score(rfc_pipe, X_train, y_train,\n",
    "                         scoring=\"accuracy\", cv=10)\n",
    "print(scores)\n",
    "print(scores.mean())"
   ]
  },
  {
   "attachments": {},
   "cell_type": "markdown",
   "metadata": {},
   "source": [
    "**Hyper-param Tuning**"
   ]
  },
  {
   "cell_type": "code",
   "execution_count": 51,
   "metadata": {},
   "outputs": [
    {
     "data": {
      "text/html": [
       "<style>#sk-container-id-1 {color: black;background-color: white;}#sk-container-id-1 pre{padding: 0;}#sk-container-id-1 div.sk-toggleable {background-color: white;}#sk-container-id-1 label.sk-toggleable__label {cursor: pointer;display: block;width: 100%;margin-bottom: 0;padding: 0.3em;box-sizing: border-box;text-align: center;}#sk-container-id-1 label.sk-toggleable__label-arrow:before {content: \"▸\";float: left;margin-right: 0.25em;color: #696969;}#sk-container-id-1 label.sk-toggleable__label-arrow:hover:before {color: black;}#sk-container-id-1 div.sk-estimator:hover label.sk-toggleable__label-arrow:before {color: black;}#sk-container-id-1 div.sk-toggleable__content {max-height: 0;max-width: 0;overflow: hidden;text-align: left;background-color: #f0f8ff;}#sk-container-id-1 div.sk-toggleable__content pre {margin: 0.2em;color: black;border-radius: 0.25em;background-color: #f0f8ff;}#sk-container-id-1 input.sk-toggleable__control:checked~div.sk-toggleable__content {max-height: 200px;max-width: 100%;overflow: auto;}#sk-container-id-1 input.sk-toggleable__control:checked~label.sk-toggleable__label-arrow:before {content: \"▾\";}#sk-container-id-1 div.sk-estimator input.sk-toggleable__control:checked~label.sk-toggleable__label {background-color: #d4ebff;}#sk-container-id-1 div.sk-label input.sk-toggleable__control:checked~label.sk-toggleable__label {background-color: #d4ebff;}#sk-container-id-1 input.sk-hidden--visually {border: 0;clip: rect(1px 1px 1px 1px);clip: rect(1px, 1px, 1px, 1px);height: 1px;margin: -1px;overflow: hidden;padding: 0;position: absolute;width: 1px;}#sk-container-id-1 div.sk-estimator {font-family: monospace;background-color: #f0f8ff;border: 1px dotted black;border-radius: 0.25em;box-sizing: border-box;margin-bottom: 0.5em;}#sk-container-id-1 div.sk-estimator:hover {background-color: #d4ebff;}#sk-container-id-1 div.sk-parallel-item::after {content: \"\";width: 100%;border-bottom: 1px solid gray;flex-grow: 1;}#sk-container-id-1 div.sk-label:hover label.sk-toggleable__label {background-color: #d4ebff;}#sk-container-id-1 div.sk-serial::before {content: \"\";position: absolute;border-left: 1px solid gray;box-sizing: border-box;top: 0;bottom: 0;left: 50%;z-index: 0;}#sk-container-id-1 div.sk-serial {display: flex;flex-direction: column;align-items: center;background-color: white;padding-right: 0.2em;padding-left: 0.2em;position: relative;}#sk-container-id-1 div.sk-item {position: relative;z-index: 1;}#sk-container-id-1 div.sk-parallel {display: flex;align-items: stretch;justify-content: center;background-color: white;position: relative;}#sk-container-id-1 div.sk-item::before, #sk-container-id-1 div.sk-parallel-item::before {content: \"\";position: absolute;border-left: 1px solid gray;box-sizing: border-box;top: 0;bottom: 0;left: 50%;z-index: -1;}#sk-container-id-1 div.sk-parallel-item {display: flex;flex-direction: column;z-index: 1;position: relative;background-color: white;}#sk-container-id-1 div.sk-parallel-item:first-child::after {align-self: flex-end;width: 50%;}#sk-container-id-1 div.sk-parallel-item:last-child::after {align-self: flex-start;width: 50%;}#sk-container-id-1 div.sk-parallel-item:only-child::after {width: 0;}#sk-container-id-1 div.sk-dashed-wrapped {border: 1px dashed gray;margin: 0 0.4em 0.5em 0.4em;box-sizing: border-box;padding-bottom: 0.4em;background-color: white;}#sk-container-id-1 div.sk-label label {font-family: monospace;font-weight: bold;display: inline-block;line-height: 1.2em;}#sk-container-id-1 div.sk-label-container {text-align: center;}#sk-container-id-1 div.sk-container {/* jupyter's `normalize.less` sets `[hidden] { display: none; }` but bootstrap.min.css set `[hidden] { display: none !important; }` so we also need the `!important` here to be able to override the default hidden behavior on the sphinx rendered scikit-learn.org. See: https://github.com/scikit-learn/scikit-learn/issues/21755 */display: inline-block !important;position: relative;}#sk-container-id-1 div.sk-text-repr-fallback {display: none;}</style><div id=\"sk-container-id-1\" class=\"sk-top-container\"><div class=\"sk-text-repr-fallback\"><pre>GridSearchCV(cv=5,\n",
       "             estimator=Pipeline(steps=[(&#x27;preprocess&#x27;,\n",
       "                                        ColumnTransformer(transformers=[(&#x27;num&#x27;,\n",
       "                                                                         Pipeline(steps=[(&#x27;outlier&#x27;,\n",
       "                                                                                          Winsorizer(capping_method=&#x27;iqr&#x27;,\n",
       "                                                                                                     tail=&#x27;both&#x27;)),\n",
       "                                                                                         (&#x27;imputer&#x27;,\n",
       "                                                                                          SimpleImputer(strategy=&#x27;median&#x27;)),\n",
       "                                                                                         (&#x27;scaler&#x27;,\n",
       "                                                                                          MinMaxScaler())]),\n",
       "                                                                         [&#x27;Temprature&#x27;]),\n",
       "                                                                        (&#x27;cat_ord&#x27;,\n",
       "                                                                         Pipeline(steps=[(&#x27;imputer_1&#x27;,\n",
       "                                                                                          SimpleImputer(strategy=&#x27;most_frequent&#x27;)),\n",
       "                                                                                         (&#x27;ordinal_...\n",
       "                                                                         Pipeline(steps=[(&#x27;imputer_2&#x27;,\n",
       "                                                                                          SimpleImputer(strategy=&#x27;most_frequent&#x27;)),\n",
       "                                                                                         (&#x27;ohe_enc&#x27;,\n",
       "                                                                                          OneHotEncoder(sparse=False))]),\n",
       "                                                                         [&#x27;Turbidity&#x27;])])),\n",
       "                                       (&#x27;model&#x27;,\n",
       "                                        RandomForestClassifier(random_state=0))]),\n",
       "             param_grid=[{&#x27;model__criterion&#x27;: [&#x27;gini&#x27;, &#x27;entropy&#x27;],\n",
       "                          &#x27;model__max_depth&#x27;: [3, 5, 7, 9, 12, None],\n",
       "                          &#x27;model__max_features&#x27;: [2, 3],\n",
       "                          &#x27;model__n_estimators&#x27;: [50, 70, 90]}],\n",
       "             return_train_score=True, scoring=&#x27;accuracy&#x27;)</pre><b>In a Jupyter environment, please rerun this cell to show the HTML representation or trust the notebook. <br />On GitHub, the HTML representation is unable to render, please try loading this page with nbviewer.org.</b></div><div class=\"sk-container\" hidden><div class=\"sk-item sk-dashed-wrapped\"><div class=\"sk-label-container\"><div class=\"sk-label sk-toggleable\"><input class=\"sk-toggleable__control sk-hidden--visually\" id=\"sk-estimator-id-1\" type=\"checkbox\" ><label for=\"sk-estimator-id-1\" class=\"sk-toggleable__label sk-toggleable__label-arrow\">GridSearchCV</label><div class=\"sk-toggleable__content\"><pre>GridSearchCV(cv=5,\n",
       "             estimator=Pipeline(steps=[(&#x27;preprocess&#x27;,\n",
       "                                        ColumnTransformer(transformers=[(&#x27;num&#x27;,\n",
       "                                                                         Pipeline(steps=[(&#x27;outlier&#x27;,\n",
       "                                                                                          Winsorizer(capping_method=&#x27;iqr&#x27;,\n",
       "                                                                                                     tail=&#x27;both&#x27;)),\n",
       "                                                                                         (&#x27;imputer&#x27;,\n",
       "                                                                                          SimpleImputer(strategy=&#x27;median&#x27;)),\n",
       "                                                                                         (&#x27;scaler&#x27;,\n",
       "                                                                                          MinMaxScaler())]),\n",
       "                                                                         [&#x27;Temprature&#x27;]),\n",
       "                                                                        (&#x27;cat_ord&#x27;,\n",
       "                                                                         Pipeline(steps=[(&#x27;imputer_1&#x27;,\n",
       "                                                                                          SimpleImputer(strategy=&#x27;most_frequent&#x27;)),\n",
       "                                                                                         (&#x27;ordinal_...\n",
       "                                                                         Pipeline(steps=[(&#x27;imputer_2&#x27;,\n",
       "                                                                                          SimpleImputer(strategy=&#x27;most_frequent&#x27;)),\n",
       "                                                                                         (&#x27;ohe_enc&#x27;,\n",
       "                                                                                          OneHotEncoder(sparse=False))]),\n",
       "                                                                         [&#x27;Turbidity&#x27;])])),\n",
       "                                       (&#x27;model&#x27;,\n",
       "                                        RandomForestClassifier(random_state=0))]),\n",
       "             param_grid=[{&#x27;model__criterion&#x27;: [&#x27;gini&#x27;, &#x27;entropy&#x27;],\n",
       "                          &#x27;model__max_depth&#x27;: [3, 5, 7, 9, 12, None],\n",
       "                          &#x27;model__max_features&#x27;: [2, 3],\n",
       "                          &#x27;model__n_estimators&#x27;: [50, 70, 90]}],\n",
       "             return_train_score=True, scoring=&#x27;accuracy&#x27;)</pre></div></div></div><div class=\"sk-parallel\"><div class=\"sk-parallel-item\"><div class=\"sk-item\"><div class=\"sk-label-container\"><div class=\"sk-label sk-toggleable\"><input class=\"sk-toggleable__control sk-hidden--visually\" id=\"sk-estimator-id-2\" type=\"checkbox\" ><label for=\"sk-estimator-id-2\" class=\"sk-toggleable__label sk-toggleable__label-arrow\">estimator: Pipeline</label><div class=\"sk-toggleable__content\"><pre>Pipeline(steps=[(&#x27;preprocess&#x27;,\n",
       "                 ColumnTransformer(transformers=[(&#x27;num&#x27;,\n",
       "                                                  Pipeline(steps=[(&#x27;outlier&#x27;,\n",
       "                                                                   Winsorizer(capping_method=&#x27;iqr&#x27;,\n",
       "                                                                              tail=&#x27;both&#x27;)),\n",
       "                                                                  (&#x27;imputer&#x27;,\n",
       "                                                                   SimpleImputer(strategy=&#x27;median&#x27;)),\n",
       "                                                                  (&#x27;scaler&#x27;,\n",
       "                                                                   MinMaxScaler())]),\n",
       "                                                  [&#x27;Temprature&#x27;]),\n",
       "                                                 (&#x27;cat_ord&#x27;,\n",
       "                                                  Pipeline(steps=[(&#x27;imputer_1&#x27;,\n",
       "                                                                   SimpleImputer(strategy=&#x27;most_frequent&#x27;)),\n",
       "                                                                  (&#x27;ordinal_enc&#x27;,\n",
       "                                                                   OrdinalEncoder(categories=[[&#x27;Bad&#x27;,\n",
       "                                                                                               &#x27;Good&#x27;],\n",
       "                                                                                              [&#x27;Low&#x27;,\n",
       "                                                                                               &#x27;High&#x27;]]))]),\n",
       "                                                  [&#x27;Odor&#x27;, &#x27;Fat&#x27;]),\n",
       "                                                 (&#x27;cat_ohe&#x27;,\n",
       "                                                  Pipeline(steps=[(&#x27;imputer_2&#x27;,\n",
       "                                                                   SimpleImputer(strategy=&#x27;most_frequent&#x27;)),\n",
       "                                                                  (&#x27;ohe_enc&#x27;,\n",
       "                                                                   OneHotEncoder(sparse=False))]),\n",
       "                                                  [&#x27;Turbidity&#x27;])])),\n",
       "                (&#x27;model&#x27;, RandomForestClassifier(random_state=0))])</pre></div></div></div><div class=\"sk-serial\"><div class=\"sk-item\"><div class=\"sk-serial\"><div class=\"sk-item sk-dashed-wrapped\"><div class=\"sk-label-container\"><div class=\"sk-label sk-toggleable\"><input class=\"sk-toggleable__control sk-hidden--visually\" id=\"sk-estimator-id-3\" type=\"checkbox\" ><label for=\"sk-estimator-id-3\" class=\"sk-toggleable__label sk-toggleable__label-arrow\">preprocess: ColumnTransformer</label><div class=\"sk-toggleable__content\"><pre>ColumnTransformer(transformers=[(&#x27;num&#x27;,\n",
       "                                 Pipeline(steps=[(&#x27;outlier&#x27;,\n",
       "                                                  Winsorizer(capping_method=&#x27;iqr&#x27;,\n",
       "                                                             tail=&#x27;both&#x27;)),\n",
       "                                                 (&#x27;imputer&#x27;,\n",
       "                                                  SimpleImputer(strategy=&#x27;median&#x27;)),\n",
       "                                                 (&#x27;scaler&#x27;, MinMaxScaler())]),\n",
       "                                 [&#x27;Temprature&#x27;]),\n",
       "                                (&#x27;cat_ord&#x27;,\n",
       "                                 Pipeline(steps=[(&#x27;imputer_1&#x27;,\n",
       "                                                  SimpleImputer(strategy=&#x27;most_frequent&#x27;)),\n",
       "                                                 (&#x27;ordinal_enc&#x27;,\n",
       "                                                  OrdinalEncoder(categories=[[&#x27;Bad&#x27;,\n",
       "                                                                              &#x27;Good&#x27;],\n",
       "                                                                             [&#x27;Low&#x27;,\n",
       "                                                                              &#x27;High&#x27;]]))]),\n",
       "                                 [&#x27;Odor&#x27;, &#x27;Fat&#x27;]),\n",
       "                                (&#x27;cat_ohe&#x27;,\n",
       "                                 Pipeline(steps=[(&#x27;imputer_2&#x27;,\n",
       "                                                  SimpleImputer(strategy=&#x27;most_frequent&#x27;)),\n",
       "                                                 (&#x27;ohe_enc&#x27;,\n",
       "                                                  OneHotEncoder(sparse=False))]),\n",
       "                                 [&#x27;Turbidity&#x27;])])</pre></div></div></div><div class=\"sk-parallel\"><div class=\"sk-parallel-item\"><div class=\"sk-item\"><div class=\"sk-label-container\"><div class=\"sk-label sk-toggleable\"><input class=\"sk-toggleable__control sk-hidden--visually\" id=\"sk-estimator-id-4\" type=\"checkbox\" ><label for=\"sk-estimator-id-4\" class=\"sk-toggleable__label sk-toggleable__label-arrow\">num</label><div class=\"sk-toggleable__content\"><pre>[&#x27;Temprature&#x27;]</pre></div></div></div><div class=\"sk-serial\"><div class=\"sk-item\"><div class=\"sk-serial\"><div class=\"sk-item\"><div class=\"sk-estimator sk-toggleable\"><input class=\"sk-toggleable__control sk-hidden--visually\" id=\"sk-estimator-id-5\" type=\"checkbox\" ><label for=\"sk-estimator-id-5\" class=\"sk-toggleable__label sk-toggleable__label-arrow\">Winsorizer</label><div class=\"sk-toggleable__content\"><pre>Winsorizer(capping_method=&#x27;iqr&#x27;, tail=&#x27;both&#x27;)</pre></div></div></div><div class=\"sk-item\"><div class=\"sk-estimator sk-toggleable\"><input class=\"sk-toggleable__control sk-hidden--visually\" id=\"sk-estimator-id-6\" type=\"checkbox\" ><label for=\"sk-estimator-id-6\" class=\"sk-toggleable__label sk-toggleable__label-arrow\">SimpleImputer</label><div class=\"sk-toggleable__content\"><pre>SimpleImputer(strategy=&#x27;median&#x27;)</pre></div></div></div><div class=\"sk-item\"><div class=\"sk-estimator sk-toggleable\"><input class=\"sk-toggleable__control sk-hidden--visually\" id=\"sk-estimator-id-7\" type=\"checkbox\" ><label for=\"sk-estimator-id-7\" class=\"sk-toggleable__label sk-toggleable__label-arrow\">MinMaxScaler</label><div class=\"sk-toggleable__content\"><pre>MinMaxScaler()</pre></div></div></div></div></div></div></div></div><div class=\"sk-parallel-item\"><div class=\"sk-item\"><div class=\"sk-label-container\"><div class=\"sk-label sk-toggleable\"><input class=\"sk-toggleable__control sk-hidden--visually\" id=\"sk-estimator-id-8\" type=\"checkbox\" ><label for=\"sk-estimator-id-8\" class=\"sk-toggleable__label sk-toggleable__label-arrow\">cat_ord</label><div class=\"sk-toggleable__content\"><pre>[&#x27;Odor&#x27;, &#x27;Fat&#x27;]</pre></div></div></div><div class=\"sk-serial\"><div class=\"sk-item\"><div class=\"sk-serial\"><div class=\"sk-item\"><div class=\"sk-estimator sk-toggleable\"><input class=\"sk-toggleable__control sk-hidden--visually\" id=\"sk-estimator-id-9\" type=\"checkbox\" ><label for=\"sk-estimator-id-9\" class=\"sk-toggleable__label sk-toggleable__label-arrow\">SimpleImputer</label><div class=\"sk-toggleable__content\"><pre>SimpleImputer(strategy=&#x27;most_frequent&#x27;)</pre></div></div></div><div class=\"sk-item\"><div class=\"sk-estimator sk-toggleable\"><input class=\"sk-toggleable__control sk-hidden--visually\" id=\"sk-estimator-id-10\" type=\"checkbox\" ><label for=\"sk-estimator-id-10\" class=\"sk-toggleable__label sk-toggleable__label-arrow\">OrdinalEncoder</label><div class=\"sk-toggleable__content\"><pre>OrdinalEncoder(categories=[[&#x27;Bad&#x27;, &#x27;Good&#x27;], [&#x27;Low&#x27;, &#x27;High&#x27;]])</pre></div></div></div></div></div></div></div></div><div class=\"sk-parallel-item\"><div class=\"sk-item\"><div class=\"sk-label-container\"><div class=\"sk-label sk-toggleable\"><input class=\"sk-toggleable__control sk-hidden--visually\" id=\"sk-estimator-id-11\" type=\"checkbox\" ><label for=\"sk-estimator-id-11\" class=\"sk-toggleable__label sk-toggleable__label-arrow\">cat_ohe</label><div class=\"sk-toggleable__content\"><pre>[&#x27;Turbidity&#x27;]</pre></div></div></div><div class=\"sk-serial\"><div class=\"sk-item\"><div class=\"sk-serial\"><div class=\"sk-item\"><div class=\"sk-estimator sk-toggleable\"><input class=\"sk-toggleable__control sk-hidden--visually\" id=\"sk-estimator-id-12\" type=\"checkbox\" ><label for=\"sk-estimator-id-12\" class=\"sk-toggleable__label sk-toggleable__label-arrow\">SimpleImputer</label><div class=\"sk-toggleable__content\"><pre>SimpleImputer(strategy=&#x27;most_frequent&#x27;)</pre></div></div></div><div class=\"sk-item\"><div class=\"sk-estimator sk-toggleable\"><input class=\"sk-toggleable__control sk-hidden--visually\" id=\"sk-estimator-id-13\" type=\"checkbox\" ><label for=\"sk-estimator-id-13\" class=\"sk-toggleable__label sk-toggleable__label-arrow\">OneHotEncoder</label><div class=\"sk-toggleable__content\"><pre>OneHotEncoder(sparse=False)</pre></div></div></div></div></div></div></div></div></div></div><div class=\"sk-item\"><div class=\"sk-estimator sk-toggleable\"><input class=\"sk-toggleable__control sk-hidden--visually\" id=\"sk-estimator-id-14\" type=\"checkbox\" ><label for=\"sk-estimator-id-14\" class=\"sk-toggleable__label sk-toggleable__label-arrow\">RandomForestClassifier</label><div class=\"sk-toggleable__content\"><pre>RandomForestClassifier(random_state=0)</pre></div></div></div></div></div></div></div></div></div></div></div></div>"
      ],
      "text/plain": [
       "GridSearchCV(cv=5,\n",
       "             estimator=Pipeline(steps=[('preprocess',\n",
       "                                        ColumnTransformer(transformers=[('num',\n",
       "                                                                         Pipeline(steps=[('outlier',\n",
       "                                                                                          Winsorizer(capping_method='iqr',\n",
       "                                                                                                     tail='both')),\n",
       "                                                                                         ('imputer',\n",
       "                                                                                          SimpleImputer(strategy='median')),\n",
       "                                                                                         ('scaler',\n",
       "                                                                                          MinMaxScaler())]),\n",
       "                                                                         ['Temprature']),\n",
       "                                                                        ('cat_ord',\n",
       "                                                                         Pipeline(steps=[('imputer_1',\n",
       "                                                                                          SimpleImputer(strategy='most_frequent')),\n",
       "                                                                                         ('ordinal_...\n",
       "                                                                         Pipeline(steps=[('imputer_2',\n",
       "                                                                                          SimpleImputer(strategy='most_frequent')),\n",
       "                                                                                         ('ohe_enc',\n",
       "                                                                                          OneHotEncoder(sparse=False))]),\n",
       "                                                                         ['Turbidity'])])),\n",
       "                                       ('model',\n",
       "                                        RandomForestClassifier(random_state=0))]),\n",
       "             param_grid=[{'model__criterion': ['gini', 'entropy'],\n",
       "                          'model__max_depth': [3, 5, 7, 9, 12, None],\n",
       "                          'model__max_features': [2, 3],\n",
       "                          'model__n_estimators': [50, 70, 90]}],\n",
       "             return_train_score=True, scoring='accuracy')"
      ]
     },
     "execution_count": 51,
     "metadata": {},
     "output_type": "execute_result"
    }
   ],
   "source": [
    "# pipeline preprocess + model\n",
    "rfc_pipe = Pipeline([\n",
    "        ('preprocess', full_pipeline),\n",
    "        ('model', RandomForestClassifier(random_state=0))\n",
    "    ])\n",
    "\n",
    "# hyperparameter tuning combination\n",
    "params = [\n",
    "    {'model__n_estimators': [50, 70, 90],           # 3\n",
    "     'model__max_features': [2, 3],                 # 2\n",
    "     'model__max_depth': [3, 5, 7, 9, 12, None],    # 6\n",
    "     'model__criterion': ['gini', 'entropy']},      # 2   Total 3*2*6*2 = 72 combinations\n",
    "  ]\n",
    "\n",
    "grid_search = GridSearchCV(rfc_pipe, params, cv=5,\n",
    "                           scoring='accuracy',\n",
    "                           return_train_score=True)\n",
    "\n",
    "grid_search.fit(X_train, y_train)"
   ]
  },
  {
   "cell_type": "code",
   "execution_count": 52,
   "metadata": {},
   "outputs": [
    {
     "data": {
      "text/html": [
       "<div>\n",
       "<style scoped>\n",
       "    .dataframe tbody tr th:only-of-type {\n",
       "        vertical-align: middle;\n",
       "    }\n",
       "\n",
       "    .dataframe tbody tr th {\n",
       "        vertical-align: top;\n",
       "    }\n",
       "\n",
       "    .dataframe thead th {\n",
       "        text-align: right;\n",
       "    }\n",
       "</style>\n",
       "<table border=\"1\" class=\"dataframe\">\n",
       "  <thead>\n",
       "    <tr style=\"text-align: right;\">\n",
       "      <th></th>\n",
       "      <th>mean_fit_time</th>\n",
       "      <th>std_fit_time</th>\n",
       "      <th>mean_score_time</th>\n",
       "      <th>std_score_time</th>\n",
       "      <th>param_model__criterion</th>\n",
       "      <th>param_model__max_depth</th>\n",
       "      <th>param_model__max_features</th>\n",
       "      <th>param_model__n_estimators</th>\n",
       "      <th>params</th>\n",
       "      <th>split0_test_score</th>\n",
       "      <th>...</th>\n",
       "      <th>mean_test_score</th>\n",
       "      <th>std_test_score</th>\n",
       "      <th>rank_test_score</th>\n",
       "      <th>split0_train_score</th>\n",
       "      <th>split1_train_score</th>\n",
       "      <th>split2_train_score</th>\n",
       "      <th>split3_train_score</th>\n",
       "      <th>split4_train_score</th>\n",
       "      <th>mean_train_score</th>\n",
       "      <th>std_train_score</th>\n",
       "    </tr>\n",
       "  </thead>\n",
       "  <tbody>\n",
       "    <tr>\n",
       "      <th>0</th>\n",
       "      <td>0.027751</td>\n",
       "      <td>0.001063</td>\n",
       "      <td>0.004761</td>\n",
       "      <td>0.000157</td>\n",
       "      <td>gini</td>\n",
       "      <td>3</td>\n",
       "      <td>2</td>\n",
       "      <td>50</td>\n",
       "      <td>{'model__criterion': 'gini', 'model__max_depth...</td>\n",
       "      <td>0.765101</td>\n",
       "      <td>...</td>\n",
       "      <td>0.780047</td>\n",
       "      <td>0.024939</td>\n",
       "      <td>61</td>\n",
       "      <td>0.802365</td>\n",
       "      <td>0.784148</td>\n",
       "      <td>0.792580</td>\n",
       "      <td>0.790894</td>\n",
       "      <td>0.775717</td>\n",
       "      <td>0.789141</td>\n",
       "      <td>0.008887</td>\n",
       "    </tr>\n",
       "    <tr>\n",
       "      <th>1</th>\n",
       "      <td>0.035601</td>\n",
       "      <td>0.000141</td>\n",
       "      <td>0.005205</td>\n",
       "      <td>0.000082</td>\n",
       "      <td>gini</td>\n",
       "      <td>3</td>\n",
       "      <td>2</td>\n",
       "      <td>70</td>\n",
       "      <td>{'model__criterion': 'gini', 'model__max_depth...</td>\n",
       "      <td>0.765101</td>\n",
       "      <td>...</td>\n",
       "      <td>0.780047</td>\n",
       "      <td>0.024939</td>\n",
       "      <td>61</td>\n",
       "      <td>0.802365</td>\n",
       "      <td>0.784148</td>\n",
       "      <td>0.792580</td>\n",
       "      <td>0.790894</td>\n",
       "      <td>0.775717</td>\n",
       "      <td>0.789141</td>\n",
       "      <td>0.008887</td>\n",
       "    </tr>\n",
       "    <tr>\n",
       "      <th>2</th>\n",
       "      <td>0.043753</td>\n",
       "      <td>0.000094</td>\n",
       "      <td>0.005690</td>\n",
       "      <td>0.000048</td>\n",
       "      <td>gini</td>\n",
       "      <td>3</td>\n",
       "      <td>2</td>\n",
       "      <td>90</td>\n",
       "      <td>{'model__criterion': 'gini', 'model__max_depth...</td>\n",
       "      <td>0.765101</td>\n",
       "      <td>...</td>\n",
       "      <td>0.773290</td>\n",
       "      <td>0.018277</td>\n",
       "      <td>68</td>\n",
       "      <td>0.802365</td>\n",
       "      <td>0.784148</td>\n",
       "      <td>0.774030</td>\n",
       "      <td>0.770658</td>\n",
       "      <td>0.775717</td>\n",
       "      <td>0.781384</td>\n",
       "      <td>0.011394</td>\n",
       "    </tr>\n",
       "    <tr>\n",
       "      <th>3</th>\n",
       "      <td>0.027532</td>\n",
       "      <td>0.000173</td>\n",
       "      <td>0.004529</td>\n",
       "      <td>0.000030</td>\n",
       "      <td>gini</td>\n",
       "      <td>3</td>\n",
       "      <td>3</td>\n",
       "      <td>50</td>\n",
       "      <td>{'model__criterion': 'gini', 'model__max_depth...</td>\n",
       "      <td>0.738255</td>\n",
       "      <td>...</td>\n",
       "      <td>0.749002</td>\n",
       "      <td>0.040305</td>\n",
       "      <td>72</td>\n",
       "      <td>0.792230</td>\n",
       "      <td>0.768971</td>\n",
       "      <td>0.772344</td>\n",
       "      <td>0.794266</td>\n",
       "      <td>0.760540</td>\n",
       "      <td>0.777670</td>\n",
       "      <td>0.013303</td>\n",
       "    </tr>\n",
       "    <tr>\n",
       "      <th>4</th>\n",
       "      <td>0.036009</td>\n",
       "      <td>0.000306</td>\n",
       "      <td>0.005190</td>\n",
       "      <td>0.000106</td>\n",
       "      <td>gini</td>\n",
       "      <td>3</td>\n",
       "      <td>3</td>\n",
       "      <td>70</td>\n",
       "      <td>{'model__criterion': 'gini', 'model__max_depth...</td>\n",
       "      <td>0.738255</td>\n",
       "      <td>...</td>\n",
       "      <td>0.761165</td>\n",
       "      <td>0.024431</td>\n",
       "      <td>70</td>\n",
       "      <td>0.792230</td>\n",
       "      <td>0.784148</td>\n",
       "      <td>0.774030</td>\n",
       "      <td>0.794266</td>\n",
       "      <td>0.760540</td>\n",
       "      <td>0.781043</td>\n",
       "      <td>0.012484</td>\n",
       "    </tr>\n",
       "    <tr>\n",
       "      <th>...</th>\n",
       "      <td>...</td>\n",
       "      <td>...</td>\n",
       "      <td>...</td>\n",
       "      <td>...</td>\n",
       "      <td>...</td>\n",
       "      <td>...</td>\n",
       "      <td>...</td>\n",
       "      <td>...</td>\n",
       "      <td>...</td>\n",
       "      <td>...</td>\n",
       "      <td>...</td>\n",
       "      <td>...</td>\n",
       "      <td>...</td>\n",
       "      <td>...</td>\n",
       "      <td>...</td>\n",
       "      <td>...</td>\n",
       "      <td>...</td>\n",
       "      <td>...</td>\n",
       "      <td>...</td>\n",
       "      <td>...</td>\n",
       "      <td>...</td>\n",
       "    </tr>\n",
       "    <tr>\n",
       "      <th>67</th>\n",
       "      <td>0.037190</td>\n",
       "      <td>0.000303</td>\n",
       "      <td>0.005247</td>\n",
       "      <td>0.000031</td>\n",
       "      <td>entropy</td>\n",
       "      <td>None</td>\n",
       "      <td>2</td>\n",
       "      <td>70</td>\n",
       "      <td>{'model__criterion': 'entropy', 'model__max_de...</td>\n",
       "      <td>0.859060</td>\n",
       "      <td>...</td>\n",
       "      <td>0.865055</td>\n",
       "      <td>0.020435</td>\n",
       "      <td>3</td>\n",
       "      <td>0.890203</td>\n",
       "      <td>0.885329</td>\n",
       "      <td>0.883642</td>\n",
       "      <td>0.890388</td>\n",
       "      <td>0.881956</td>\n",
       "      <td>0.886304</td>\n",
       "      <td>0.003430</td>\n",
       "    </tr>\n",
       "    <tr>\n",
       "      <th>68</th>\n",
       "      <td>0.045973</td>\n",
       "      <td>0.000293</td>\n",
       "      <td>0.005999</td>\n",
       "      <td>0.000043</td>\n",
       "      <td>entropy</td>\n",
       "      <td>None</td>\n",
       "      <td>2</td>\n",
       "      <td>90</td>\n",
       "      <td>{'model__criterion': 'entropy', 'model__max_de...</td>\n",
       "      <td>0.859060</td>\n",
       "      <td>...</td>\n",
       "      <td>0.865055</td>\n",
       "      <td>0.020435</td>\n",
       "      <td>3</td>\n",
       "      <td>0.890203</td>\n",
       "      <td>0.885329</td>\n",
       "      <td>0.883642</td>\n",
       "      <td>0.890388</td>\n",
       "      <td>0.881956</td>\n",
       "      <td>0.886304</td>\n",
       "      <td>0.003430</td>\n",
       "    </tr>\n",
       "    <tr>\n",
       "      <th>69</th>\n",
       "      <td>0.028684</td>\n",
       "      <td>0.000096</td>\n",
       "      <td>0.004656</td>\n",
       "      <td>0.000033</td>\n",
       "      <td>entropy</td>\n",
       "      <td>None</td>\n",
       "      <td>3</td>\n",
       "      <td>50</td>\n",
       "      <td>{'model__criterion': 'entropy', 'model__max_de...</td>\n",
       "      <td>0.859060</td>\n",
       "      <td>...</td>\n",
       "      <td>0.863704</td>\n",
       "      <td>0.019720</td>\n",
       "      <td>18</td>\n",
       "      <td>0.890203</td>\n",
       "      <td>0.885329</td>\n",
       "      <td>0.883642</td>\n",
       "      <td>0.890388</td>\n",
       "      <td>0.881956</td>\n",
       "      <td>0.886304</td>\n",
       "      <td>0.003430</td>\n",
       "    </tr>\n",
       "    <tr>\n",
       "      <th>70</th>\n",
       "      <td>0.037568</td>\n",
       "      <td>0.000262</td>\n",
       "      <td>0.005267</td>\n",
       "      <td>0.000072</td>\n",
       "      <td>entropy</td>\n",
       "      <td>None</td>\n",
       "      <td>3</td>\n",
       "      <td>70</td>\n",
       "      <td>{'model__criterion': 'entropy', 'model__max_de...</td>\n",
       "      <td>0.859060</td>\n",
       "      <td>...</td>\n",
       "      <td>0.863704</td>\n",
       "      <td>0.019720</td>\n",
       "      <td>18</td>\n",
       "      <td>0.890203</td>\n",
       "      <td>0.885329</td>\n",
       "      <td>0.883642</td>\n",
       "      <td>0.890388</td>\n",
       "      <td>0.881956</td>\n",
       "      <td>0.886304</td>\n",
       "      <td>0.003430</td>\n",
       "    </tr>\n",
       "    <tr>\n",
       "      <th>71</th>\n",
       "      <td>0.046666</td>\n",
       "      <td>0.000244</td>\n",
       "      <td>0.005882</td>\n",
       "      <td>0.000075</td>\n",
       "      <td>entropy</td>\n",
       "      <td>None</td>\n",
       "      <td>3</td>\n",
       "      <td>90</td>\n",
       "      <td>{'model__criterion': 'entropy', 'model__max_de...</td>\n",
       "      <td>0.859060</td>\n",
       "      <td>...</td>\n",
       "      <td>0.863704</td>\n",
       "      <td>0.019720</td>\n",
       "      <td>18</td>\n",
       "      <td>0.890203</td>\n",
       "      <td>0.885329</td>\n",
       "      <td>0.883642</td>\n",
       "      <td>0.890388</td>\n",
       "      <td>0.881956</td>\n",
       "      <td>0.886304</td>\n",
       "      <td>0.003430</td>\n",
       "    </tr>\n",
       "  </tbody>\n",
       "</table>\n",
       "<p>72 rows × 24 columns</p>\n",
       "</div>"
      ],
      "text/plain": [
       "    mean_fit_time  std_fit_time  mean_score_time  std_score_time  \\\n",
       "0        0.027751      0.001063         0.004761        0.000157   \n",
       "1        0.035601      0.000141         0.005205        0.000082   \n",
       "2        0.043753      0.000094         0.005690        0.000048   \n",
       "3        0.027532      0.000173         0.004529        0.000030   \n",
       "4        0.036009      0.000306         0.005190        0.000106   \n",
       "..            ...           ...              ...             ...   \n",
       "67       0.037190      0.000303         0.005247        0.000031   \n",
       "68       0.045973      0.000293         0.005999        0.000043   \n",
       "69       0.028684      0.000096         0.004656        0.000033   \n",
       "70       0.037568      0.000262         0.005267        0.000072   \n",
       "71       0.046666      0.000244         0.005882        0.000075   \n",
       "\n",
       "   param_model__criterion param_model__max_depth param_model__max_features  \\\n",
       "0                    gini                      3                         2   \n",
       "1                    gini                      3                         2   \n",
       "2                    gini                      3                         2   \n",
       "3                    gini                      3                         3   \n",
       "4                    gini                      3                         3   \n",
       "..                    ...                    ...                       ...   \n",
       "67                entropy                   None                         2   \n",
       "68                entropy                   None                         2   \n",
       "69                entropy                   None                         3   \n",
       "70                entropy                   None                         3   \n",
       "71                entropy                   None                         3   \n",
       "\n",
       "   param_model__n_estimators  \\\n",
       "0                         50   \n",
       "1                         70   \n",
       "2                         90   \n",
       "3                         50   \n",
       "4                         70   \n",
       "..                       ...   \n",
       "67                        70   \n",
       "68                        90   \n",
       "69                        50   \n",
       "70                        70   \n",
       "71                        90   \n",
       "\n",
       "                                               params  split0_test_score  ...  \\\n",
       "0   {'model__criterion': 'gini', 'model__max_depth...           0.765101  ...   \n",
       "1   {'model__criterion': 'gini', 'model__max_depth...           0.765101  ...   \n",
       "2   {'model__criterion': 'gini', 'model__max_depth...           0.765101  ...   \n",
       "3   {'model__criterion': 'gini', 'model__max_depth...           0.738255  ...   \n",
       "4   {'model__criterion': 'gini', 'model__max_depth...           0.738255  ...   \n",
       "..                                                ...                ...  ...   \n",
       "67  {'model__criterion': 'entropy', 'model__max_de...           0.859060  ...   \n",
       "68  {'model__criterion': 'entropy', 'model__max_de...           0.859060  ...   \n",
       "69  {'model__criterion': 'entropy', 'model__max_de...           0.859060  ...   \n",
       "70  {'model__criterion': 'entropy', 'model__max_de...           0.859060  ...   \n",
       "71  {'model__criterion': 'entropy', 'model__max_de...           0.859060  ...   \n",
       "\n",
       "    mean_test_score  std_test_score  rank_test_score  split0_train_score  \\\n",
       "0          0.780047        0.024939               61            0.802365   \n",
       "1          0.780047        0.024939               61            0.802365   \n",
       "2          0.773290        0.018277               68            0.802365   \n",
       "3          0.749002        0.040305               72            0.792230   \n",
       "4          0.761165        0.024431               70            0.792230   \n",
       "..              ...             ...              ...                 ...   \n",
       "67         0.865055        0.020435                3            0.890203   \n",
       "68         0.865055        0.020435                3            0.890203   \n",
       "69         0.863704        0.019720               18            0.890203   \n",
       "70         0.863704        0.019720               18            0.890203   \n",
       "71         0.863704        0.019720               18            0.890203   \n",
       "\n",
       "    split1_train_score  split2_train_score  split3_train_score  \\\n",
       "0             0.784148            0.792580            0.790894   \n",
       "1             0.784148            0.792580            0.790894   \n",
       "2             0.784148            0.774030            0.770658   \n",
       "3             0.768971            0.772344            0.794266   \n",
       "4             0.784148            0.774030            0.794266   \n",
       "..                 ...                 ...                 ...   \n",
       "67            0.885329            0.883642            0.890388   \n",
       "68            0.885329            0.883642            0.890388   \n",
       "69            0.885329            0.883642            0.890388   \n",
       "70            0.885329            0.883642            0.890388   \n",
       "71            0.885329            0.883642            0.890388   \n",
       "\n",
       "    split4_train_score  mean_train_score  std_train_score  \n",
       "0             0.775717          0.789141         0.008887  \n",
       "1             0.775717          0.789141         0.008887  \n",
       "2             0.775717          0.781384         0.011394  \n",
       "3             0.760540          0.777670         0.013303  \n",
       "4             0.760540          0.781043         0.012484  \n",
       "..                 ...               ...              ...  \n",
       "67            0.881956          0.886304         0.003430  \n",
       "68            0.881956          0.886304         0.003430  \n",
       "69            0.881956          0.886304         0.003430  \n",
       "70            0.881956          0.886304         0.003430  \n",
       "71            0.881956          0.886304         0.003430  \n",
       "\n",
       "[72 rows x 24 columns]"
      ]
     },
     "execution_count": 52,
     "metadata": {},
     "output_type": "execute_result"
    }
   ],
   "source": [
    "pd.DataFrame(grid_search.cv_results_)"
   ]
  },
  {
   "cell_type": "code",
   "execution_count": 53,
   "metadata": {},
   "outputs": [
    {
     "data": {
      "text/plain": [
       "{'model__criterion': 'gini',\n",
       " 'model__max_depth': 7,\n",
       " 'model__max_features': 2,\n",
       " 'model__n_estimators': 90}"
      ]
     },
     "execution_count": 53,
     "metadata": {},
     "output_type": "execute_result"
    }
   ],
   "source": [
    "grid_search.best_params_"
   ]
  },
  {
   "cell_type": "code",
   "execution_count": 54,
   "metadata": {},
   "outputs": [
    {
     "data": {
      "text/plain": [
       "0.8704607291855615"
      ]
     },
     "execution_count": 54,
     "metadata": {},
     "output_type": "execute_result"
    }
   ],
   "source": [
    "grid_search.best_score_"
   ]
  },
  {
   "cell_type": "code",
   "execution_count": 55,
   "metadata": {},
   "outputs": [
    {
     "name": "stdout",
     "output_type": "stream",
     "text": [
      "              precision    recall  f1-score   support\n",
      "\n",
      "           0       0.91      0.91      0.91       300\n",
      "           1       0.85      0.98      0.91       262\n",
      "           2       0.91      0.72      0.80       179\n",
      "\n",
      "    accuracy                           0.89       741\n",
      "   macro avg       0.89      0.87      0.87       741\n",
      "weighted avg       0.89      0.89      0.88       741\n",
      "\n",
      "              precision    recall  f1-score   support\n",
      "\n",
      "           0       0.92      0.90      0.91       129\n",
      "           1       0.81      0.97      0.89       112\n",
      "           2       0.84      0.64      0.73        77\n",
      "\n",
      "    accuracy                           0.86       318\n",
      "   macro avg       0.86      0.84      0.84       318\n",
      "weighted avg       0.86      0.86      0.86       318\n",
      "\n"
     ]
    }
   ],
   "source": [
    "model = grid_search.best_estimator_\n",
    "\n",
    "model.fit(X_train, y_train)\n",
    "\n",
    "model_train = model.predict(X_train)\n",
    "model_test = model.predict(X_test)\n",
    "\n",
    "print(classification_report(y_train, model_train))\n",
    "print(classification_report(y_test, model_test))"
   ]
  },
  {
   "attachments": {},
   "cell_type": "markdown",
   "metadata": {},
   "source": [
    "**combine pipeline: preprocess + model**"
   ]
  },
  {
   "cell_type": "code",
   "execution_count": 56,
   "metadata": {},
   "outputs": [
    {
     "data": {
      "text/html": [
       "<style>#sk-container-id-2 {color: black;background-color: white;}#sk-container-id-2 pre{padding: 0;}#sk-container-id-2 div.sk-toggleable {background-color: white;}#sk-container-id-2 label.sk-toggleable__label {cursor: pointer;display: block;width: 100%;margin-bottom: 0;padding: 0.3em;box-sizing: border-box;text-align: center;}#sk-container-id-2 label.sk-toggleable__label-arrow:before {content: \"▸\";float: left;margin-right: 0.25em;color: #696969;}#sk-container-id-2 label.sk-toggleable__label-arrow:hover:before {color: black;}#sk-container-id-2 div.sk-estimator:hover label.sk-toggleable__label-arrow:before {color: black;}#sk-container-id-2 div.sk-toggleable__content {max-height: 0;max-width: 0;overflow: hidden;text-align: left;background-color: #f0f8ff;}#sk-container-id-2 div.sk-toggleable__content pre {margin: 0.2em;color: black;border-radius: 0.25em;background-color: #f0f8ff;}#sk-container-id-2 input.sk-toggleable__control:checked~div.sk-toggleable__content {max-height: 200px;max-width: 100%;overflow: auto;}#sk-container-id-2 input.sk-toggleable__control:checked~label.sk-toggleable__label-arrow:before {content: \"▾\";}#sk-container-id-2 div.sk-estimator input.sk-toggleable__control:checked~label.sk-toggleable__label {background-color: #d4ebff;}#sk-container-id-2 div.sk-label input.sk-toggleable__control:checked~label.sk-toggleable__label {background-color: #d4ebff;}#sk-container-id-2 input.sk-hidden--visually {border: 0;clip: rect(1px 1px 1px 1px);clip: rect(1px, 1px, 1px, 1px);height: 1px;margin: -1px;overflow: hidden;padding: 0;position: absolute;width: 1px;}#sk-container-id-2 div.sk-estimator {font-family: monospace;background-color: #f0f8ff;border: 1px dotted black;border-radius: 0.25em;box-sizing: border-box;margin-bottom: 0.5em;}#sk-container-id-2 div.sk-estimator:hover {background-color: #d4ebff;}#sk-container-id-2 div.sk-parallel-item::after {content: \"\";width: 100%;border-bottom: 1px solid gray;flex-grow: 1;}#sk-container-id-2 div.sk-label:hover label.sk-toggleable__label {background-color: #d4ebff;}#sk-container-id-2 div.sk-serial::before {content: \"\";position: absolute;border-left: 1px solid gray;box-sizing: border-box;top: 0;bottom: 0;left: 50%;z-index: 0;}#sk-container-id-2 div.sk-serial {display: flex;flex-direction: column;align-items: center;background-color: white;padding-right: 0.2em;padding-left: 0.2em;position: relative;}#sk-container-id-2 div.sk-item {position: relative;z-index: 1;}#sk-container-id-2 div.sk-parallel {display: flex;align-items: stretch;justify-content: center;background-color: white;position: relative;}#sk-container-id-2 div.sk-item::before, #sk-container-id-2 div.sk-parallel-item::before {content: \"\";position: absolute;border-left: 1px solid gray;box-sizing: border-box;top: 0;bottom: 0;left: 50%;z-index: -1;}#sk-container-id-2 div.sk-parallel-item {display: flex;flex-direction: column;z-index: 1;position: relative;background-color: white;}#sk-container-id-2 div.sk-parallel-item:first-child::after {align-self: flex-end;width: 50%;}#sk-container-id-2 div.sk-parallel-item:last-child::after {align-self: flex-start;width: 50%;}#sk-container-id-2 div.sk-parallel-item:only-child::after {width: 0;}#sk-container-id-2 div.sk-dashed-wrapped {border: 1px dashed gray;margin: 0 0.4em 0.5em 0.4em;box-sizing: border-box;padding-bottom: 0.4em;background-color: white;}#sk-container-id-2 div.sk-label label {font-family: monospace;font-weight: bold;display: inline-block;line-height: 1.2em;}#sk-container-id-2 div.sk-label-container {text-align: center;}#sk-container-id-2 div.sk-container {/* jupyter's `normalize.less` sets `[hidden] { display: none; }` but bootstrap.min.css set `[hidden] { display: none !important; }` so we also need the `!important` here to be able to override the default hidden behavior on the sphinx rendered scikit-learn.org. See: https://github.com/scikit-learn/scikit-learn/issues/21755 */display: inline-block !important;position: relative;}#sk-container-id-2 div.sk-text-repr-fallback {display: none;}</style><div id=\"sk-container-id-2\" class=\"sk-top-container\"><div class=\"sk-text-repr-fallback\"><pre>ColumnTransformer(transformers=[(&#x27;num&#x27;,\n",
       "                                 Pipeline(steps=[(&#x27;outlier&#x27;,\n",
       "                                                  Winsorizer(capping_method=&#x27;iqr&#x27;,\n",
       "                                                             tail=&#x27;both&#x27;)),\n",
       "                                                 (&#x27;imputer&#x27;,\n",
       "                                                  SimpleImputer(strategy=&#x27;median&#x27;)),\n",
       "                                                 (&#x27;scaler&#x27;, MinMaxScaler())]),\n",
       "                                 [&#x27;Temprature&#x27;]),\n",
       "                                (&#x27;cat_ord&#x27;,\n",
       "                                 Pipeline(steps=[(&#x27;imputer_1&#x27;,\n",
       "                                                  SimpleImputer(strategy=&#x27;most_frequent&#x27;)),\n",
       "                                                 (&#x27;ordinal_enc&#x27;,\n",
       "                                                  OrdinalEncoder(categories=[[&#x27;Bad&#x27;,\n",
       "                                                                              &#x27;Good&#x27;],\n",
       "                                                                             [&#x27;Low&#x27;,\n",
       "                                                                              &#x27;High&#x27;]]))]),\n",
       "                                 [&#x27;Odor&#x27;, &#x27;Fat&#x27;]),\n",
       "                                (&#x27;cat_ohe&#x27;,\n",
       "                                 Pipeline(steps=[(&#x27;imputer_2&#x27;,\n",
       "                                                  SimpleImputer(strategy=&#x27;most_frequent&#x27;)),\n",
       "                                                 (&#x27;ohe_enc&#x27;,\n",
       "                                                  OneHotEncoder(sparse=False))]),\n",
       "                                 [&#x27;Turbidity&#x27;])])</pre><b>In a Jupyter environment, please rerun this cell to show the HTML representation or trust the notebook. <br />On GitHub, the HTML representation is unable to render, please try loading this page with nbviewer.org.</b></div><div class=\"sk-container\" hidden><div class=\"sk-item sk-dashed-wrapped\"><div class=\"sk-label-container\"><div class=\"sk-label sk-toggleable\"><input class=\"sk-toggleable__control sk-hidden--visually\" id=\"sk-estimator-id-15\" type=\"checkbox\" ><label for=\"sk-estimator-id-15\" class=\"sk-toggleable__label sk-toggleable__label-arrow\">ColumnTransformer</label><div class=\"sk-toggleable__content\"><pre>ColumnTransformer(transformers=[(&#x27;num&#x27;,\n",
       "                                 Pipeline(steps=[(&#x27;outlier&#x27;,\n",
       "                                                  Winsorizer(capping_method=&#x27;iqr&#x27;,\n",
       "                                                             tail=&#x27;both&#x27;)),\n",
       "                                                 (&#x27;imputer&#x27;,\n",
       "                                                  SimpleImputer(strategy=&#x27;median&#x27;)),\n",
       "                                                 (&#x27;scaler&#x27;, MinMaxScaler())]),\n",
       "                                 [&#x27;Temprature&#x27;]),\n",
       "                                (&#x27;cat_ord&#x27;,\n",
       "                                 Pipeline(steps=[(&#x27;imputer_1&#x27;,\n",
       "                                                  SimpleImputer(strategy=&#x27;most_frequent&#x27;)),\n",
       "                                                 (&#x27;ordinal_enc&#x27;,\n",
       "                                                  OrdinalEncoder(categories=[[&#x27;Bad&#x27;,\n",
       "                                                                              &#x27;Good&#x27;],\n",
       "                                                                             [&#x27;Low&#x27;,\n",
       "                                                                              &#x27;High&#x27;]]))]),\n",
       "                                 [&#x27;Odor&#x27;, &#x27;Fat&#x27;]),\n",
       "                                (&#x27;cat_ohe&#x27;,\n",
       "                                 Pipeline(steps=[(&#x27;imputer_2&#x27;,\n",
       "                                                  SimpleImputer(strategy=&#x27;most_frequent&#x27;)),\n",
       "                                                 (&#x27;ohe_enc&#x27;,\n",
       "                                                  OneHotEncoder(sparse=False))]),\n",
       "                                 [&#x27;Turbidity&#x27;])])</pre></div></div></div><div class=\"sk-parallel\"><div class=\"sk-parallel-item\"><div class=\"sk-item\"><div class=\"sk-label-container\"><div class=\"sk-label sk-toggleable\"><input class=\"sk-toggleable__control sk-hidden--visually\" id=\"sk-estimator-id-16\" type=\"checkbox\" ><label for=\"sk-estimator-id-16\" class=\"sk-toggleable__label sk-toggleable__label-arrow\">num</label><div class=\"sk-toggleable__content\"><pre>[&#x27;Temprature&#x27;]</pre></div></div></div><div class=\"sk-serial\"><div class=\"sk-item\"><div class=\"sk-serial\"><div class=\"sk-item\"><div class=\"sk-estimator sk-toggleable\"><input class=\"sk-toggleable__control sk-hidden--visually\" id=\"sk-estimator-id-17\" type=\"checkbox\" ><label for=\"sk-estimator-id-17\" class=\"sk-toggleable__label sk-toggleable__label-arrow\">Winsorizer</label><div class=\"sk-toggleable__content\"><pre>Winsorizer(capping_method=&#x27;iqr&#x27;, tail=&#x27;both&#x27;)</pre></div></div></div><div class=\"sk-item\"><div class=\"sk-estimator sk-toggleable\"><input class=\"sk-toggleable__control sk-hidden--visually\" id=\"sk-estimator-id-18\" type=\"checkbox\" ><label for=\"sk-estimator-id-18\" class=\"sk-toggleable__label sk-toggleable__label-arrow\">SimpleImputer</label><div class=\"sk-toggleable__content\"><pre>SimpleImputer(strategy=&#x27;median&#x27;)</pre></div></div></div><div class=\"sk-item\"><div class=\"sk-estimator sk-toggleable\"><input class=\"sk-toggleable__control sk-hidden--visually\" id=\"sk-estimator-id-19\" type=\"checkbox\" ><label for=\"sk-estimator-id-19\" class=\"sk-toggleable__label sk-toggleable__label-arrow\">MinMaxScaler</label><div class=\"sk-toggleable__content\"><pre>MinMaxScaler()</pre></div></div></div></div></div></div></div></div><div class=\"sk-parallel-item\"><div class=\"sk-item\"><div class=\"sk-label-container\"><div class=\"sk-label sk-toggleable\"><input class=\"sk-toggleable__control sk-hidden--visually\" id=\"sk-estimator-id-20\" type=\"checkbox\" ><label for=\"sk-estimator-id-20\" class=\"sk-toggleable__label sk-toggleable__label-arrow\">cat_ord</label><div class=\"sk-toggleable__content\"><pre>[&#x27;Odor&#x27;, &#x27;Fat&#x27;]</pre></div></div></div><div class=\"sk-serial\"><div class=\"sk-item\"><div class=\"sk-serial\"><div class=\"sk-item\"><div class=\"sk-estimator sk-toggleable\"><input class=\"sk-toggleable__control sk-hidden--visually\" id=\"sk-estimator-id-21\" type=\"checkbox\" ><label for=\"sk-estimator-id-21\" class=\"sk-toggleable__label sk-toggleable__label-arrow\">SimpleImputer</label><div class=\"sk-toggleable__content\"><pre>SimpleImputer(strategy=&#x27;most_frequent&#x27;)</pre></div></div></div><div class=\"sk-item\"><div class=\"sk-estimator sk-toggleable\"><input class=\"sk-toggleable__control sk-hidden--visually\" id=\"sk-estimator-id-22\" type=\"checkbox\" ><label for=\"sk-estimator-id-22\" class=\"sk-toggleable__label sk-toggleable__label-arrow\">OrdinalEncoder</label><div class=\"sk-toggleable__content\"><pre>OrdinalEncoder(categories=[[&#x27;Bad&#x27;, &#x27;Good&#x27;], [&#x27;Low&#x27;, &#x27;High&#x27;]])</pre></div></div></div></div></div></div></div></div><div class=\"sk-parallel-item\"><div class=\"sk-item\"><div class=\"sk-label-container\"><div class=\"sk-label sk-toggleable\"><input class=\"sk-toggleable__control sk-hidden--visually\" id=\"sk-estimator-id-23\" type=\"checkbox\" ><label for=\"sk-estimator-id-23\" class=\"sk-toggleable__label sk-toggleable__label-arrow\">cat_ohe</label><div class=\"sk-toggleable__content\"><pre>[&#x27;Turbidity&#x27;]</pre></div></div></div><div class=\"sk-serial\"><div class=\"sk-item\"><div class=\"sk-serial\"><div class=\"sk-item\"><div class=\"sk-estimator sk-toggleable\"><input class=\"sk-toggleable__control sk-hidden--visually\" id=\"sk-estimator-id-24\" type=\"checkbox\" ><label for=\"sk-estimator-id-24\" class=\"sk-toggleable__label sk-toggleable__label-arrow\">SimpleImputer</label><div class=\"sk-toggleable__content\"><pre>SimpleImputer(strategy=&#x27;most_frequent&#x27;)</pre></div></div></div><div class=\"sk-item\"><div class=\"sk-estimator sk-toggleable\"><input class=\"sk-toggleable__control sk-hidden--visually\" id=\"sk-estimator-id-25\" type=\"checkbox\" ><label for=\"sk-estimator-id-25\" class=\"sk-toggleable__label sk-toggleable__label-arrow\">OneHotEncoder</label><div class=\"sk-toggleable__content\"><pre>OneHotEncoder(sparse=False)</pre></div></div></div></div></div></div></div></div></div></div></div></div>"
      ],
      "text/plain": [
       "ColumnTransformer(transformers=[('num',\n",
       "                                 Pipeline(steps=[('outlier',\n",
       "                                                  Winsorizer(capping_method='iqr',\n",
       "                                                             tail='both')),\n",
       "                                                 ('imputer',\n",
       "                                                  SimpleImputer(strategy='median')),\n",
       "                                                 ('scaler', MinMaxScaler())]),\n",
       "                                 ['Temprature']),\n",
       "                                ('cat_ord',\n",
       "                                 Pipeline(steps=[('imputer_1',\n",
       "                                                  SimpleImputer(strategy='most_frequent')),\n",
       "                                                 ('ordinal_enc',\n",
       "                                                  OrdinalEncoder(categories=[['Bad',\n",
       "                                                                              'Good'],\n",
       "                                                                             ['Low',\n",
       "                                                                              'High']]))]),\n",
       "                                 ['Odor', 'Fat']),\n",
       "                                ('cat_ohe',\n",
       "                                 Pipeline(steps=[('imputer_2',\n",
       "                                                  SimpleImputer(strategy='most_frequent')),\n",
       "                                                 ('ohe_enc',\n",
       "                                                  OneHotEncoder(sparse=False))]),\n",
       "                                 ['Turbidity'])])"
      ]
     },
     "execution_count": 56,
     "metadata": {},
     "output_type": "execute_result"
    }
   ],
   "source": [
    "full_pipeline"
   ]
  },
  {
   "cell_type": "code",
   "execution_count": 57,
   "metadata": {},
   "outputs": [
    {
     "data": {
      "text/html": [
       "<div>\n",
       "<style scoped>\n",
       "    .dataframe tbody tr th:only-of-type {\n",
       "        vertical-align: middle;\n",
       "    }\n",
       "\n",
       "    .dataframe tbody tr th {\n",
       "        vertical-align: top;\n",
       "    }\n",
       "\n",
       "    .dataframe thead th {\n",
       "        text-align: right;\n",
       "    }\n",
       "</style>\n",
       "<table border=\"1\" class=\"dataframe\">\n",
       "  <thead>\n",
       "    <tr style=\"text-align: right;\">\n",
       "      <th></th>\n",
       "      <th>pH</th>\n",
       "      <th>Temprature</th>\n",
       "      <th>Taste</th>\n",
       "      <th>Odor</th>\n",
       "      <th>Fat</th>\n",
       "      <th>Turbidity</th>\n",
       "      <th>Colour</th>\n",
       "    </tr>\n",
       "  </thead>\n",
       "  <tbody>\n",
       "    <tr>\n",
       "      <th>143</th>\n",
       "      <td>3.0</td>\n",
       "      <td>40</td>\n",
       "      <td>Good</td>\n",
       "      <td>Bad</td>\n",
       "      <td>Low</td>\n",
       "      <td>Low</td>\n",
       "      <td>255.0</td>\n",
       "    </tr>\n",
       "    <tr>\n",
       "      <th>576</th>\n",
       "      <td>6.6</td>\n",
       "      <td>40</td>\n",
       "      <td>Good</td>\n",
       "      <td>Bad</td>\n",
       "      <td>High</td>\n",
       "      <td>High</td>\n",
       "      <td>255.0</td>\n",
       "    </tr>\n",
       "    <tr>\n",
       "      <th>686</th>\n",
       "      <td>3.0</td>\n",
       "      <td>40</td>\n",
       "      <td>Good</td>\n",
       "      <td>Good</td>\n",
       "      <td>High</td>\n",
       "      <td>High</td>\n",
       "      <td>255.0</td>\n",
       "    </tr>\n",
       "    <tr>\n",
       "      <th>544</th>\n",
       "      <td>6.5</td>\n",
       "      <td>37</td>\n",
       "      <td>Bad</td>\n",
       "      <td>Bad</td>\n",
       "      <td>Low</td>\n",
       "      <td>Low</td>\n",
       "      <td>255.0</td>\n",
       "    </tr>\n",
       "    <tr>\n",
       "      <th>889</th>\n",
       "      <td>6.8</td>\n",
       "      <td>45</td>\n",
       "      <td>Good</td>\n",
       "      <td>Good</td>\n",
       "      <td>High</td>\n",
       "      <td>High</td>\n",
       "      <td>245.0</td>\n",
       "    </tr>\n",
       "    <tr>\n",
       "      <th>...</th>\n",
       "      <td>...</td>\n",
       "      <td>...</td>\n",
       "      <td>...</td>\n",
       "      <td>...</td>\n",
       "      <td>...</td>\n",
       "      <td>...</td>\n",
       "      <td>...</td>\n",
       "    </tr>\n",
       "    <tr>\n",
       "      <th>440</th>\n",
       "      <td>6.6</td>\n",
       "      <td>45</td>\n",
       "      <td>Bad</td>\n",
       "      <td>Bad</td>\n",
       "      <td>Low</td>\n",
       "      <td>High</td>\n",
       "      <td>250.0</td>\n",
       "    </tr>\n",
       "    <tr>\n",
       "      <th>840</th>\n",
       "      <td>6.5</td>\n",
       "      <td>36</td>\n",
       "      <td>Bad</td>\n",
       "      <td>Bad</td>\n",
       "      <td>High</td>\n",
       "      <td>Low</td>\n",
       "      <td>255.0</td>\n",
       "    </tr>\n",
       "    <tr>\n",
       "      <th>429</th>\n",
       "      <td>6.7</td>\n",
       "      <td>38</td>\n",
       "      <td>Good</td>\n",
       "      <td>Bad</td>\n",
       "      <td>High</td>\n",
       "      <td>Low</td>\n",
       "      <td>255.0</td>\n",
       "    </tr>\n",
       "    <tr>\n",
       "      <th>462</th>\n",
       "      <td>5.5</td>\n",
       "      <td>45</td>\n",
       "      <td>Good</td>\n",
       "      <td>Bad</td>\n",
       "      <td>High</td>\n",
       "      <td>High</td>\n",
       "      <td>250.0</td>\n",
       "    </tr>\n",
       "    <tr>\n",
       "      <th>1008</th>\n",
       "      <td>3.0</td>\n",
       "      <td>40</td>\n",
       "      <td>Good</td>\n",
       "      <td>Good</td>\n",
       "      <td>High</td>\n",
       "      <td>High</td>\n",
       "      <td>255.0</td>\n",
       "    </tr>\n",
       "  </tbody>\n",
       "</table>\n",
       "<p>741 rows × 7 columns</p>\n",
       "</div>"
      ],
      "text/plain": [
       "       pH  Temprature Taste  Odor   Fat Turbidity  Colour\n",
       "143   3.0          40  Good   Bad   Low       Low   255.0\n",
       "576   6.6          40  Good   Bad  High      High   255.0\n",
       "686   3.0          40  Good  Good  High      High   255.0\n",
       "544   6.5          37   Bad   Bad   Low       Low   255.0\n",
       "889   6.8          45  Good  Good  High      High   245.0\n",
       "...   ...         ...   ...   ...   ...       ...     ...\n",
       "440   6.6          45   Bad   Bad   Low      High   250.0\n",
       "840   6.5          36   Bad   Bad  High       Low   255.0\n",
       "429   6.7          38  Good   Bad  High       Low   255.0\n",
       "462   5.5          45  Good   Bad  High      High   250.0\n",
       "1008  3.0          40  Good  Good  High      High   255.0\n",
       "\n",
       "[741 rows x 7 columns]"
      ]
     },
     "execution_count": 57,
     "metadata": {},
     "output_type": "execute_result"
    }
   ],
   "source": [
    "X_train"
   ]
  },
  {
   "cell_type": "code",
   "execution_count": 58,
   "metadata": {},
   "outputs": [
    {
     "name": "stdout",
     "output_type": "stream",
     "text": [
      "              precision    recall  f1-score   support\n",
      "\n",
      "           0       0.92      0.90      0.91       129\n",
      "           1       0.81      0.97      0.89       112\n",
      "           2       0.84      0.64      0.73        77\n",
      "\n",
      "    accuracy                           0.86       318\n",
      "   macro avg       0.86      0.84      0.84       318\n",
      "weighted avg       0.86      0.86      0.86       318\n",
      "\n"
     ]
    }
   ],
   "source": [
    "# persiapan save model\n",
    "all_process = Pipeline([\n",
    "    (\"preprocess\", full_pipeline),\n",
    "    (\"classification\", RandomForestClassifier(max_depth=7, max_features=2, n_estimators=90,\n",
    "                       random_state=0))\n",
    "])\n",
    "\n",
    "all_process.fit(X_train, y_train)\n",
    "hasil = all_process.predict(X_test)\n",
    "\n",
    "print(classification_report(y_test, hasil))"
   ]
  },
  {
   "cell_type": "code",
   "execution_count": 59,
   "metadata": {},
   "outputs": [],
   "source": [
    "# save model\n",
    "# ensure that your model fitted before saved\n",
    "import pickle\n",
    "\n",
    "pickle.dump(all_process, open('milk_pred.pkl', 'wb'))"
   ]
  },
  {
   "attachments": {},
   "cell_type": "markdown",
   "metadata": {},
   "source": [
    "## MODEL INFERENCE"
   ]
  },
  {
   "cell_type": "code",
   "execution_count": 60,
   "metadata": {},
   "outputs": [],
   "source": [
    "# Step 1 - Import dependecies\n",
    "model = pickle.load(open('milk_pred.pkl', 'rb'))"
   ]
  },
  {
   "cell_type": "code",
   "execution_count": 61,
   "metadata": {},
   "outputs": [
    {
     "data": {
      "text/plain": [
       "array([[6.5, 37, 'Bad', 'Bad', 'Low', 'Low', 245.0]], dtype=object)"
      ]
     },
     "execution_count": 61,
     "metadata": {},
     "output_type": "execute_result"
    }
   ],
   "source": [
    "X_train.sample(1).values"
   ]
  },
  {
   "cell_type": "code",
   "execution_count": 62,
   "metadata": {},
   "outputs": [
    {
     "data": {
      "text/html": [
       "<div>\n",
       "<style scoped>\n",
       "    .dataframe tbody tr th:only-of-type {\n",
       "        vertical-align: middle;\n",
       "    }\n",
       "\n",
       "    .dataframe tbody tr th {\n",
       "        vertical-align: top;\n",
       "    }\n",
       "\n",
       "    .dataframe thead th {\n",
       "        text-align: right;\n",
       "    }\n",
       "</style>\n",
       "<table border=\"1\" class=\"dataframe\">\n",
       "  <thead>\n",
       "    <tr style=\"text-align: right;\">\n",
       "      <th></th>\n",
       "      <th>pH</th>\n",
       "      <th>Temprature</th>\n",
       "      <th>Taste</th>\n",
       "      <th>Odor</th>\n",
       "      <th>Fat</th>\n",
       "      <th>Turbidity</th>\n",
       "      <th>Colour</th>\n",
       "    </tr>\n",
       "  </thead>\n",
       "  <tbody>\n",
       "    <tr>\n",
       "      <th>0</th>\n",
       "      <td>6.7</td>\n",
       "      <td>55</td>\n",
       "      <td>Good</td>\n",
       "      <td>Good</td>\n",
       "      <td>Low</td>\n",
       "      <td>High</td>\n",
       "      <td>240.0</td>\n",
       "    </tr>\n",
       "  </tbody>\n",
       "</table>\n",
       "</div>"
      ],
      "text/plain": [
       "    pH  Temprature Taste  Odor  Fat Turbidity  Colour\n",
       "0  6.7          55  Good  Good  Low      High   240.0"
      ]
     },
     "execution_count": 62,
     "metadata": {},
     "output_type": "execute_result"
    }
   ],
   "source": [
    "# Step 2 - Input New Data\n",
    "# Create in DataFrame format\n",
    "new = pd.DataFrame(data=[[6.7, 55, 'Good', 'Good', 'Low', 'High', 240.0]],\n",
    "                   columns=X_train.columns)\n",
    "new"
   ]
  },
  {
   "cell_type": "code",
   "execution_count": 63,
   "metadata": {},
   "outputs": [
    {
     "data": {
      "text/plain": [
       "array([0])"
      ]
     },
     "execution_count": 63,
     "metadata": {},
     "output_type": "execute_result"
    }
   ],
   "source": [
    "# Step 3 - Send data into pipeline\n",
    "# preprocess and predict\n",
    "result = model.predict(new)\n",
    "result"
   ]
  },
  {
   "cell_type": "code",
   "execution_count": 64,
   "metadata": {},
   "outputs": [
    {
     "name": "stdout",
     "output_type": "stream",
     "text": [
      "Low\n"
     ]
    }
   ],
   "source": [
    "# Step 4 - Result interpretation\n",
    "if result[0] == 0:\n",
    "    print('Low')\n",
    "elif result[0] == 1:\n",
    "    print('Medium')\n",
    "else:\n",
    "    print('High')"
   ]
  },
  {
   "attachments": {},
   "cell_type": "markdown",
   "metadata": {},
   "source": [
    "----------------------------\n",
    "----------------------------"
   ]
  },
  {
   "cell_type": "code",
   "execution_count": 65,
   "metadata": {},
   "outputs": [
    {
     "data": {
      "text/html": [
       "<div>\n",
       "<style scoped>\n",
       "    .dataframe tbody tr th:only-of-type {\n",
       "        vertical-align: middle;\n",
       "    }\n",
       "\n",
       "    .dataframe tbody tr th {\n",
       "        vertical-align: top;\n",
       "    }\n",
       "\n",
       "    .dataframe thead th {\n",
       "        text-align: right;\n",
       "    }\n",
       "</style>\n",
       "<table border=\"1\" class=\"dataframe\">\n",
       "  <thead>\n",
       "    <tr style=\"text-align: right;\">\n",
       "      <th></th>\n",
       "      <th>pH</th>\n",
       "      <th>Temprature</th>\n",
       "      <th>Taste</th>\n",
       "      <th>Odor</th>\n",
       "      <th>Fat</th>\n",
       "      <th>Turbidity</th>\n",
       "      <th>Colour</th>\n",
       "      <th>Grade</th>\n",
       "    </tr>\n",
       "  </thead>\n",
       "  <tbody>\n",
       "    <tr>\n",
       "      <th>655</th>\n",
       "      <td>6.7</td>\n",
       "      <td>38</td>\n",
       "      <td>Good</td>\n",
       "      <td>Bad</td>\n",
       "      <td>High</td>\n",
       "      <td>Low</td>\n",
       "      <td>255.0</td>\n",
       "      <td>2</td>\n",
       "    </tr>\n",
       "    <tr>\n",
       "      <th>167</th>\n",
       "      <td>6.8</td>\n",
       "      <td>45</td>\n",
       "      <td>Bad</td>\n",
       "      <td>Good</td>\n",
       "      <td>High</td>\n",
       "      <td>High</td>\n",
       "      <td>255.0</td>\n",
       "      <td>2</td>\n",
       "    </tr>\n",
       "    <tr>\n",
       "      <th>508</th>\n",
       "      <td>6.8</td>\n",
       "      <td>40</td>\n",
       "      <td>Good</td>\n",
       "      <td>Good</td>\n",
       "      <td>High</td>\n",
       "      <td>High</td>\n",
       "      <td>255.0</td>\n",
       "      <td>2</td>\n",
       "    </tr>\n",
       "  </tbody>\n",
       "</table>\n",
       "</div>"
      ],
      "text/plain": [
       "      pH  Temprature Taste  Odor   Fat Turbidity  Colour  Grade\n",
       "655  6.7          38  Good   Bad  High       Low   255.0      2\n",
       "167  6.8          45   Bad  Good  High      High   255.0      2\n",
       "508  6.8          40  Good  Good  High      High   255.0      2"
      ]
     },
     "execution_count": 65,
     "metadata": {},
     "output_type": "execute_result"
    }
   ],
   "source": [
    "df[df['Grade']==2].sample(3)"
   ]
  },
  {
   "cell_type": "code",
   "execution_count": 66,
   "metadata": {},
   "outputs": [
    {
     "data": {
      "text/plain": [
       "'1.1.1'"
      ]
     },
     "execution_count": 66,
     "metadata": {},
     "output_type": "execute_result"
    }
   ],
   "source": [
    "import sklearn\n",
    "sklearn.__version__"
   ]
  },
  {
   "cell_type": "code",
   "execution_count": 67,
   "metadata": {},
   "outputs": [
    {
     "data": {
      "text/plain": [
       "'1.5.2'"
      ]
     },
     "execution_count": 67,
     "metadata": {},
     "output_type": "execute_result"
    }
   ],
   "source": [
    "import feature_engine\n",
    "feature_engine.__version__"
   ]
  }
 ],
 "metadata": {
  "kernelspec": {
   "display_name": "Python 3.8.5 ('base')",
   "language": "python",
   "name": "python3"
  },
  "language_info": {
   "codemirror_mode": {
    "name": "ipython",
    "version": 3
   },
   "file_extension": ".py",
   "mimetype": "text/x-python",
   "name": "python",
   "nbconvert_exporter": "python",
   "pygments_lexer": "ipython3",
   "version": "3.9.13"
  },
  "orig_nbformat": 4,
  "vscode": {
   "interpreter": {
    "hash": "e4cce46d6be9934fbd27f9ca0432556941ea5bdf741d4f4d64c6cd7f8dfa8fba"
   }
  }
 },
 "nbformat": 4,
 "nbformat_minor": 2
}
