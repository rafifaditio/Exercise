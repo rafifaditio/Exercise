{
  "nbformat": 4,
  "nbformat_minor": 0,
  "metadata": {
    "colab": {
      "provenance": [],
      "collapsed_sections": []
    },
    "kernelspec": {
      "name": "python3",
      "display_name": "Python 3"
    },
    "language_info": {
      "name": "python"
    }
  },
  "cells": [
    {
      "cell_type": "code",
      "source": [
        "def nama_func(nama, domisili):\n",
        "  print(f'baris 1: {nama}')\n",
        "  print(f'baris 2: {domisili}')"
      ],
      "metadata": {
        "id": "S3s134jN5W4F"
      },
      "execution_count": 7,
      "outputs": []
    },
    {
      "cell_type": "code",
      "source": [
        "nama_func(nama='rafif', domisili='jakarta')"
      ],
      "metadata": {
        "colab": {
          "base_uri": "https://localhost:8080/"
        },
        "id": "VFCtr9PH5gUi",
        "outputId": "0ea15ac0-fe9b-4b00-971b-ffe583deb94f"
      },
      "execution_count": 8,
      "outputs": [
        {
          "output_type": "stream",
          "name": "stdout",
          "text": [
            "baris 1: rafif\n",
            "baris 2: jakarta\n"
          ]
        }
      ]
    },
    {
      "cell_type": "code",
      "source": [
        "# cara 1 - pemanggilan berurutan, jika tanpa pendefinisian argumen\n",
        "nama_func('septian', 'bali')"
      ],
      "metadata": {
        "colab": {
          "base_uri": "https://localhost:8080/"
        },
        "id": "9DE8gr9j6X6B",
        "outputId": "2ccf92b2-a4a5-486a-daf8-081b18eb5b64"
      },
      "execution_count": 9,
      "outputs": [
        {
          "output_type": "stream",
          "name": "stdout",
          "text": [
            "baris 1: septian\n",
            "baris 2: bali\n"
          ]
        }
      ]
    },
    {
      "cell_type": "code",
      "source": [
        "nama_func('bali', 'septian')"
      ],
      "metadata": {
        "colab": {
          "base_uri": "https://localhost:8080/"
        },
        "id": "5HmDdI2H6qu_",
        "outputId": "ba72d8f8-d79c-4612-d8d4-dbb0da044be5"
      },
      "execution_count": 11,
      "outputs": [
        {
          "output_type": "stream",
          "name": "stdout",
          "text": [
            "baris 1: bali\n",
            "baris 2: septian\n"
          ]
        }
      ]
    },
    {
      "cell_type": "code",
      "source": [
        "# cara 2 - mendefinisikan argumen/parameternya, tanpa urutan\n",
        "nama_func(domisili='bali', nama='septian')"
      ],
      "metadata": {
        "colab": {
          "base_uri": "https://localhost:8080/"
        },
        "id": "Dqw8kLwa63_u",
        "outputId": "eed22f87-de12-4945-e168-d256a56639af"
      },
      "execution_count": 12,
      "outputs": [
        {
          "output_type": "stream",
          "name": "stdout",
          "text": [
            "baris 1: septian\n",
            "baris 2: bali\n"
          ]
        }
      ]
    },
    {
      "cell_type": "code",
      "source": [
        "def func2(nama='rangga', umur, domisili='bandung'):\n",
        "  print(f'baris 1: {nama}')\n",
        "  print(f'baris 2: {domisili}')\n",
        "  print(umur)"
      ],
      "metadata": {
        "colab": {
          "base_uri": "https://localhost:8080/",
          "height": 132
        },
        "id": "QW0lGuGJBwuS",
        "outputId": "4ab2102a-818f-43f0-f13a-8a44447dc7f8"
      },
      "execution_count": 23,
      "outputs": [
        {
          "output_type": "error",
          "ename": "SyntaxError",
          "evalue": "ignored",
          "traceback": [
            "\u001b[0;36m  File \u001b[0;32m\"<ipython-input-23-af035212a665>\"\u001b[0;36m, line \u001b[0;32m1\u001b[0m\n\u001b[0;31m    def func2(nama='rangga', umur, domisili='bandung'):\u001b[0m\n\u001b[0m             ^\u001b[0m\n\u001b[0;31mSyntaxError\u001b[0m\u001b[0;31m:\u001b[0m non-default argument follows default argument\n"
          ]
        }
      ]
    },
    {
      "cell_type": "code",
      "source": [
        "func2()"
      ],
      "metadata": {
        "colab": {
          "base_uri": "https://localhost:8080/"
        },
        "id": "_EXF8gsIB8H7",
        "outputId": "5e28859f-2208-4980-8252-052febc4a710"
      },
      "execution_count": 18,
      "outputs": [
        {
          "output_type": "stream",
          "name": "stdout",
          "text": [
            "baris 1: rangga\n",
            "baris 2: bandung\n"
          ]
        }
      ]
    },
    {
      "cell_type": "code",
      "source": [
        "func2(domisili='solo')"
      ],
      "metadata": {
        "colab": {
          "base_uri": "https://localhost:8080/"
        },
        "id": "kH8tHjNTCYYz",
        "outputId": "e41f4dcb-4c43-4040-f217-e769fb0f9994"
      },
      "execution_count": 19,
      "outputs": [
        {
          "output_type": "stream",
          "name": "stdout",
          "text": [
            "baris 1: rangga\n",
            "baris 2: solo\n"
          ]
        }
      ]
    },
    {
      "cell_type": "code",
      "source": [
        "def func2(nama='rangga', domisili):\n",
        "  print(f'baris 1: {nama}')\n",
        "  print(f'baris 2: {domisili}')"
      ],
      "metadata": {
        "colab": {
          "base_uri": "https://localhost:8080/",
          "height": 132
        },
        "id": "WIgxnqr5CdmJ",
        "outputId": "8e3f5266-1b23-4ddd-d8f0-7f356246b749"
      },
      "execution_count": 20,
      "outputs": [
        {
          "output_type": "error",
          "ename": "SyntaxError",
          "evalue": "ignored",
          "traceback": [
            "\u001b[0;36m  File \u001b[0;32m\"<ipython-input-20-9081006188c1>\"\u001b[0;36m, line \u001b[0;32m1\u001b[0m\n\u001b[0;31m    def func2(nama='rangga', domisili):\u001b[0m\n\u001b[0m             ^\u001b[0m\n\u001b[0;31mSyntaxError\u001b[0m\u001b[0;31m:\u001b[0m non-default argument follows default argument\n"
          ]
        }
      ]
    },
    {
      "cell_type": "code",
      "source": [
        "def func2(nama, domisili='bandung'):\n",
        "  print(f'baris 1: {nama}')\n",
        "  print(f'baris 2: {domisili}')"
      ],
      "metadata": {
        "id": "6XM0cEbPCk_L"
      },
      "execution_count": 21,
      "outputs": []
    },
    {
      "cell_type": "code",
      "source": [
        "func2(nama='aji')"
      ],
      "metadata": {
        "colab": {
          "base_uri": "https://localhost:8080/"
        },
        "id": "7IklDvXcCp-y",
        "outputId": "c8f07abc-3702-4715-9703-5dee22c55d34"
      },
      "execution_count": 22,
      "outputs": [
        {
          "output_type": "stream",
          "name": "stdout",
          "text": [
            "baris 1: aji\n",
            "baris 2: bandung\n"
          ]
        }
      ]
    },
    {
      "cell_type": "code",
      "execution_count": null,
      "metadata": {
        "id": "bhG-zOwZXt4m"
      },
      "outputs": [],
      "source": [
        "def Hello_Function(name):\n",
        "  \"\"\"\n",
        "  <docstring>\n",
        "  function ini bertujuan untuk menyapa pembaca\n",
        "  1. input nama\n",
        "  2. input pekerjaan\n",
        "  \"\"\"\n",
        "  print('Hallo', name)\n",
        "  print('How are you?')"
      ]
    },
    {
      "cell_type": "code",
      "source": [
        "Hello_Function(name = 'Rafif')"
      ],
      "metadata": {
        "colab": {
          "base_uri": "https://localhost:8080/"
        },
        "id": "N5SwdDqQda4X",
        "outputId": "31a41285-b1c2-4fe7-9631-db379c076735"
      },
      "execution_count": null,
      "outputs": [
        {
          "output_type": "stream",
          "name": "stdout",
          "text": [
            "Hallo Rafif\n",
            "How are you?\n"
          ]
        }
      ]
    },
    {
      "cell_type": "code",
      "source": [
        "def Profil(nama, pekerjaan):\n",
        "  print('Nama: ', nama)\n",
        "  print('Pekerjaan: ', pekerjaan)"
      ],
      "metadata": {
        "id": "CTRhste2eKqi"
      },
      "execution_count": null,
      "outputs": []
    },
    {
      "cell_type": "code",
      "source": [
        "# required arguments\n",
        "Profil('Rafif', 'Instruktur')"
      ],
      "metadata": {
        "colab": {
          "base_uri": "https://localhost:8080/"
        },
        "id": "AJVqc0LHeksA",
        "outputId": "eaae73db-81f5-44f9-f5d2-c1e313f846f1"
      },
      "execution_count": null,
      "outputs": [
        {
          "output_type": "stream",
          "name": "stdout",
          "text": [
            "Nama:  Rafif\n",
            "Pekerjaan:  Instruktur\n"
          ]
        }
      ]
    },
    {
      "cell_type": "code",
      "source": [
        "Profil('Instruktur', 'Rafif')"
      ],
      "metadata": {
        "colab": {
          "base_uri": "https://localhost:8080/"
        },
        "id": "oGNgtek_e2EJ",
        "outputId": "a5d29d5f-98d7-45d5-99f7-5554764df1bf"
      },
      "execution_count": null,
      "outputs": [
        {
          "output_type": "stream",
          "name": "stdout",
          "text": [
            "Nama:  Instruktur\n",
            "Pekerjaan:  Rafif\n"
          ]
        }
      ]
    },
    {
      "cell_type": "code",
      "source": [
        "# keyword arguments\n",
        "Profil(pekerjaan = 'Instruktur', nama = 'Rafif')"
      ],
      "metadata": {
        "colab": {
          "base_uri": "https://localhost:8080/"
        },
        "id": "qMIBT8-kfBbK",
        "outputId": "9ea6dff1-9838-49ec-f503-50b5aaa314af"
      },
      "execution_count": null,
      "outputs": [
        {
          "output_type": "stream",
          "name": "stdout",
          "text": [
            "Nama:  Rafif\n",
            "Pekerjaan:  Instruktur\n"
          ]
        }
      ]
    },
    {
      "cell_type": "code",
      "source": [
        "# default argument\n",
        "def Profil(nama, pekerjaan = 'Instrukstur'):\n",
        "  print('Nama: ', nama)\n",
        "  print('Pekerjaan: ', pekerjaan)"
      ],
      "metadata": {
        "id": "OcZ3xi3DfxgM"
      },
      "execution_count": null,
      "outputs": []
    },
    {
      "cell_type": "code",
      "source": [
        "Profil('Fahmi')"
      ],
      "metadata": {
        "colab": {
          "base_uri": "https://localhost:8080/"
        },
        "id": "GGvNcnQugPBw",
        "outputId": "13db53f9-ba1d-4113-baeb-c00fee20fabb"
      },
      "execution_count": null,
      "outputs": [
        {
          "output_type": "stream",
          "name": "stdout",
          "text": [
            "Nama:  Fahmi\n",
            "Pekerjaan:  Instrukstur\n"
          ]
        }
      ]
    },
    {
      "cell_type": "code",
      "source": [
        "Profil('Fahmi', 'Student')"
      ],
      "metadata": {
        "colab": {
          "base_uri": "https://localhost:8080/"
        },
        "id": "dAHZm4gUf09a",
        "outputId": "ad9f5be3-791c-4e11-87b9-3440ed5ada8c"
      },
      "execution_count": null,
      "outputs": [
        {
          "output_type": "stream",
          "name": "stdout",
          "text": [
            "Nama:  Fahmi\n",
            "Pekerjaan:  Student\n"
          ]
        }
      ]
    },
    {
      "cell_type": "code",
      "source": [
        "# peletakkan default argument di belakang/setelah non-default\n",
        "def Profil(pekerjaan = 'Instrukstur', nama):\n",
        "  print('Nama: ', nama)\n",
        "  print('Pekerjaan: ', pekerjaan)"
      ],
      "metadata": {
        "colab": {
          "base_uri": "https://localhost:8080/",
          "height": 133
        },
        "id": "8dMUQBgigaXo",
        "outputId": "b66ebafe-5b31-44d1-9ee6-97be5b49d42b"
      },
      "execution_count": null,
      "outputs": [
        {
          "output_type": "error",
          "ename": "SyntaxError",
          "evalue": "ignored",
          "traceback": [
            "\u001b[0;36m  File \u001b[0;32m\"<ipython-input-17-9aa71c9ff0db>\"\u001b[0;36m, line \u001b[0;32m1\u001b[0m\n\u001b[0;31m    def Profil(pekerjaan = 'Instrukstur', nama):\u001b[0m\n\u001b[0m              ^\u001b[0m\n\u001b[0;31mSyntaxError\u001b[0m\u001b[0;31m:\u001b[0m non-default argument follows default argument\n"
          ]
        }
      ]
    },
    {
      "cell_type": "code",
      "source": [
        "# Variable-length Argument\n",
        "# *args\n",
        "# **kwargs\n",
        "\n",
        "def contoh(*tup, **dic):\n",
        "  print('Argument Args: ', tup)\n",
        "  print('Argument kwargs: ', dic)"
      ],
      "metadata": {
        "id": "4fAFQG9Kg1sZ"
      },
      "execution_count": null,
      "outputs": []
    },
    {
      "cell_type": "code",
      "source": [
        "contoh(2,3,4,5,6,7,8, **{'data_1': 20, 'data_2': 70})"
      ],
      "metadata": {
        "colab": {
          "base_uri": "https://localhost:8080/"
        },
        "id": "TO1qLdmzhclo",
        "outputId": "3aa4ed70-b57f-4cd5-94fa-a0fa66eeadfb"
      },
      "execution_count": null,
      "outputs": [
        {
          "output_type": "stream",
          "name": "stdout",
          "text": [
            "Argument Args:  (2, 3, 4, 5, 6, 7, 8)\n",
            "Argument kwargs:  {'data_1': 20, 'data_2': 70}\n"
          ]
        }
      ]
    },
    {
      "cell_type": "code",
      "source": [
        "tuples = (1, 2, 3, 4, 5)\n",
        "dictionary = {'data_1': 20, 'data_2': 70}\n",
        "\n",
        "contoh(*tuples, **dictionary)"
      ],
      "metadata": {
        "colab": {
          "base_uri": "https://localhost:8080/"
        },
        "id": "5zkhhANFiEgL",
        "outputId": "2f1ec3de-0232-4045-c22a-9c0e46080798"
      },
      "execution_count": null,
      "outputs": [
        {
          "output_type": "stream",
          "name": "stdout",
          "text": [
            "Argument Args:  (1, 2, 3, 4, 5)\n",
            "Argument kwargs:  {'data_1': 20, 'data_2': 70}\n"
          ]
        }
      ]
    },
    {
      "cell_type": "markdown",
      "source": [
        "**Global Variable vs Local Variable**"
      ],
      "metadata": {
        "id": "NFOlpZO2i2rd"
      }
    },
    {
      "cell_type": "code",
      "source": [
        "total = 0                                               # global var\n",
        "nilai = 90                                              # global var\n",
        "\n",
        "def tambah(var1, var2):\n",
        "  # global total\n",
        "  total = var1 + var2                                   # local var\n",
        "  print('nilai total di dalam variabel: ', total)\n",
        "  print('akses global nilai dalam function: ', nilai)\n",
        "  return total\n",
        "\n",
        "tambah(2,3)\n",
        "print(' ')\n",
        "print('nilai total di luar variabel: ', total)"
      ],
      "metadata": {
        "colab": {
          "base_uri": "https://localhost:8080/"
        },
        "id": "MB3Hw2AAi2L5",
        "outputId": "150c8866-e7de-4e38-ee17-c854192d50fe"
      },
      "execution_count": null,
      "outputs": [
        {
          "output_type": "stream",
          "name": "stdout",
          "text": [
            "nilai total di dalam variabel:  5\n",
            "akses global nilai dalam function:  90\n",
            " \n",
            "nilai total di luar variabel:  0\n"
          ]
        }
      ]
    },
    {
      "cell_type": "markdown",
      "source": [
        "**print vs return**"
      ],
      "metadata": {
        "id": "P4m091A0k2Tp"
      }
    },
    {
      "cell_type": "code",
      "source": [],
      "metadata": {
        "id": "DKLEkMlpEFa5"
      },
      "execution_count": null,
      "outputs": []
    },
    {
      "cell_type": "code",
      "source": [
        "# print\n",
        "\n",
        "def tambah(var1, var2):\n",
        "  tambah = var1 + var2\n",
        "  kali = var1 * var2\n",
        "  print(tambah)\n",
        "  print(kali)"
      ],
      "metadata": {
        "id": "O9lb2Yysk1o1"
      },
      "execution_count": 35,
      "outputs": []
    },
    {
      "cell_type": "code",
      "source": [
        "tambah(3,7)"
      ],
      "metadata": {
        "colab": {
          "base_uri": "https://localhost:8080/"
        },
        "id": "DwxOUNcWmOg2",
        "outputId": "f1d68f4a-4933-4c80-8895-7d90b4aa757f"
      },
      "execution_count": 36,
      "outputs": [
        {
          "output_type": "stream",
          "name": "stdout",
          "text": [
            "10\n",
            "21\n"
          ]
        }
      ]
    },
    {
      "cell_type": "code",
      "source": [
        "type(hasil)"
      ],
      "metadata": {
        "colab": {
          "base_uri": "https://localhost:8080/"
        },
        "id": "Z2KdmH00mYfT",
        "outputId": "bd39d813-e221-4ec6-a3d5-a0168efe86da"
      },
      "execution_count": 27,
      "outputs": [
        {
          "output_type": "execute_result",
          "data": {
            "text/plain": [
              "NoneType"
            ]
          },
          "metadata": {},
          "execution_count": 27
        }
      ]
    },
    {
      "cell_type": "code",
      "source": [
        "tambah(3, 7) + 2"
      ],
      "metadata": {
        "colab": {
          "base_uri": "https://localhost:8080/",
          "height": 184
        },
        "id": "syB3TGjkml_H",
        "outputId": "54a5f1b6-efdd-4096-de8c-f1f98cf3f3f4"
      },
      "execution_count": 26,
      "outputs": [
        {
          "output_type": "stream",
          "name": "stdout",
          "text": [
            "10\n"
          ]
        },
        {
          "output_type": "error",
          "ename": "TypeError",
          "evalue": "ignored",
          "traceback": [
            "\u001b[0;31m---------------------------------------------------------------------------\u001b[0m",
            "\u001b[0;31mTypeError\u001b[0m                                 Traceback (most recent call last)",
            "\u001b[0;32m<ipython-input-26-bf4d2e52d7c2>\u001b[0m in \u001b[0;36m<module>\u001b[0;34m\u001b[0m\n\u001b[0;32m----> 1\u001b[0;31m \u001b[0mtambah\u001b[0m\u001b[0;34m(\u001b[0m\u001b[0;36m3\u001b[0m\u001b[0;34m,\u001b[0m \u001b[0;36m7\u001b[0m\u001b[0;34m)\u001b[0m \u001b[0;34m+\u001b[0m \u001b[0;36m2\u001b[0m\u001b[0;34m\u001b[0m\u001b[0;34m\u001b[0m\u001b[0m\n\u001b[0m",
            "\u001b[0;31mTypeError\u001b[0m: unsupported operand type(s) for +: 'NoneType' and 'int'"
          ]
        }
      ]
    },
    {
      "cell_type": "code",
      "source": [
        "# return\n",
        "\n",
        "def tambah_return(var1, var2):\n",
        "  jumlah = var1 + var2\n",
        "  kali = var1 * var2\n",
        "  return jumlah, kali"
      ],
      "metadata": {
        "id": "eQykU9WUnUsB"
      },
      "execution_count": 41,
      "outputs": []
    },
    {
      "cell_type": "code",
      "source": [
        "hasil_jumlah, hasil_kali = tambah_return(7, 5)\n",
        "print(hasil_jumlah)\n",
        "print(hasil_kali)"
      ],
      "metadata": {
        "colab": {
          "base_uri": "https://localhost:8080/"
        },
        "id": "-6DTwDahFfa7",
        "outputId": "166326fc-c1fd-44e2-a74f-651bd6a1de9e"
      },
      "execution_count": 43,
      "outputs": [
        {
          "output_type": "stream",
          "name": "stdout",
          "text": [
            "12\n",
            "35\n"
          ]
        }
      ]
    },
    {
      "cell_type": "code",
      "source": [
        "hasil_jumlah = tambah_return(7, 5)\n",
        "print(hasil_jumlah)\n",
        "# print(hasil_kali)"
      ],
      "metadata": {
        "colab": {
          "base_uri": "https://localhost:8080/"
        },
        "id": "i13bekoimz6f",
        "outputId": "9f8703ab-b5c8-437d-ae5e-3627e3d3aec1"
      },
      "execution_count": 31,
      "outputs": [
        {
          "output_type": "stream",
          "name": "stdout",
          "text": [
            "12\n"
          ]
        }
      ]
    },
    {
      "cell_type": "code",
      "source": [
        "tambah_return(7, 5) + 2"
      ],
      "metadata": {
        "colab": {
          "base_uri": "https://localhost:8080/"
        },
        "id": "Udr-pA23m_qP",
        "outputId": "388426f3-1b9a-4a51-adee-6196e6e1b235"
      },
      "execution_count": 33,
      "outputs": [
        {
          "output_type": "execute_result",
          "data": {
            "text/plain": [
              "14"
            ]
          },
          "metadata": {},
          "execution_count": 33
        }
      ]
    },
    {
      "cell_type": "code",
      "source": [
        "type(tambah_return(7, 5))"
      ],
      "metadata": {
        "colab": {
          "base_uri": "https://localhost:8080/"
        },
        "id": "JWybWh0RFG-J",
        "outputId": "a4d26e03-15d0-49e3-b564-2ef097542417"
      },
      "execution_count": 34,
      "outputs": [
        {
          "output_type": "execute_result",
          "data": {
            "text/plain": [
              "int"
            ]
          },
          "metadata": {},
          "execution_count": 34
        }
      ]
    },
    {
      "cell_type": "code",
      "source": [
        "test = 14\n",
        "type(test) == int"
      ],
      "metadata": {
        "colab": {
          "base_uri": "https://localhost:8080/"
        },
        "id": "DHb5a4Ogrujx",
        "outputId": "185d0d84-be87-437f-ffdd-4154ed674676"
      },
      "execution_count": null,
      "outputs": [
        {
          "output_type": "execute_result",
          "data": {
            "text/plain": [
              "True"
            ]
          },
          "metadata": {},
          "execution_count": 87
        }
      ]
    },
    {
      "cell_type": "code",
      "source": [],
      "metadata": {
        "id": "jZ9F2ES2r27I"
      },
      "execution_count": null,
      "outputs": []
    },
    {
      "cell_type": "code",
      "source": [
        "def tambah_return():\n",
        "  var1 = int(input('Please input integer: '))\n",
        "  var2 = int(input('Please input integer: '))\n",
        "  if (type(var1) == int):\n",
        "    if (type(var2) == int):\n",
        "      jumlah = var1 + var2\n",
        "      kali = var1 * var2\n",
        "      print('Hasil Jumlah: ', jumlah)\n",
        "      print('Hasil Kali: ', kali)\n",
        "      return jumlah, kali\n",
        "  else:\n",
        "    print('Please input integer')"
      ],
      "metadata": {
        "id": "6R0mqontrJqr"
      },
      "execution_count": null,
      "outputs": []
    },
    {
      "cell_type": "code",
      "source": [
        "tambah_return()"
      ],
      "metadata": {
        "colab": {
          "base_uri": "https://localhost:8080/",
          "height": 312
        },
        "id": "FlFrWGhAsJ5b",
        "outputId": "07230510-8930-44d1-f814-a29e0979746d"
      },
      "execution_count": null,
      "outputs": [
        {
          "name": "stdout",
          "output_type": "stream",
          "text": [
            "Please input integer: 'halo'\n"
          ]
        },
        {
          "output_type": "error",
          "ename": "ValueError",
          "evalue": "ignored",
          "traceback": [
            "\u001b[0;31m---------------------------------------------------------------------------\u001b[0m",
            "\u001b[0;31mValueError\u001b[0m                                Traceback (most recent call last)",
            "\u001b[0;32m<ipython-input-100-a07e88ff9ab4>\u001b[0m in \u001b[0;36m<module>\u001b[0;34m()\u001b[0m\n\u001b[0;32m----> 1\u001b[0;31m \u001b[0mtambah_return\u001b[0m\u001b[0;34m(\u001b[0m\u001b[0;34m)\u001b[0m\u001b[0;34m\u001b[0m\u001b[0;34m\u001b[0m\u001b[0m\n\u001b[0m",
            "\u001b[0;32m<ipython-input-98-e3b65cb60234>\u001b[0m in \u001b[0;36mtambah_return\u001b[0;34m()\u001b[0m\n\u001b[1;32m      1\u001b[0m \u001b[0;32mdef\u001b[0m \u001b[0mtambah_return\u001b[0m\u001b[0;34m(\u001b[0m\u001b[0;34m)\u001b[0m\u001b[0;34m:\u001b[0m\u001b[0;34m\u001b[0m\u001b[0;34m\u001b[0m\u001b[0m\n\u001b[0;32m----> 2\u001b[0;31m   \u001b[0mvar1\u001b[0m \u001b[0;34m=\u001b[0m \u001b[0mint\u001b[0m\u001b[0;34m(\u001b[0m\u001b[0minput\u001b[0m\u001b[0;34m(\u001b[0m\u001b[0;34m'Please input integer: '\u001b[0m\u001b[0;34m)\u001b[0m\u001b[0;34m)\u001b[0m\u001b[0;34m\u001b[0m\u001b[0;34m\u001b[0m\u001b[0m\n\u001b[0m\u001b[1;32m      3\u001b[0m   \u001b[0mvar2\u001b[0m \u001b[0;34m=\u001b[0m \u001b[0mint\u001b[0m\u001b[0;34m(\u001b[0m\u001b[0minput\u001b[0m\u001b[0;34m(\u001b[0m\u001b[0;34m'Please input integer: '\u001b[0m\u001b[0;34m)\u001b[0m\u001b[0;34m)\u001b[0m\u001b[0;34m\u001b[0m\u001b[0;34m\u001b[0m\u001b[0m\n\u001b[1;32m      4\u001b[0m   \u001b[0;32mif\u001b[0m \u001b[0;34m(\u001b[0m\u001b[0mtype\u001b[0m\u001b[0;34m(\u001b[0m\u001b[0mvar1\u001b[0m\u001b[0;34m)\u001b[0m \u001b[0;34m==\u001b[0m \u001b[0mint\u001b[0m\u001b[0;34m)\u001b[0m\u001b[0;34m:\u001b[0m\u001b[0;34m\u001b[0m\u001b[0;34m\u001b[0m\u001b[0m\n\u001b[1;32m      5\u001b[0m     \u001b[0;32mif\u001b[0m \u001b[0;34m(\u001b[0m\u001b[0mtype\u001b[0m\u001b[0;34m(\u001b[0m\u001b[0mvar2\u001b[0m\u001b[0;34m)\u001b[0m \u001b[0;34m==\u001b[0m \u001b[0mint\u001b[0m\u001b[0;34m)\u001b[0m\u001b[0;34m:\u001b[0m\u001b[0;34m\u001b[0m\u001b[0;34m\u001b[0m\u001b[0m\n",
            "\u001b[0;31mValueError\u001b[0m: invalid literal for int() with base 10: \"'halo'\""
          ]
        }
      ]
    },
    {
      "cell_type": "markdown",
      "source": [
        "**Anonymous Function**"
      ],
      "metadata": {
        "id": "6C5zfN6hoR6w"
      }
    },
    {
      "cell_type": "code",
      "source": [
        "def double(val):\n",
        "  return val * 2"
      ],
      "metadata": {
        "id": "5uTTLeV7oRoh"
      },
      "execution_count": 44,
      "outputs": []
    },
    {
      "cell_type": "code",
      "source": [
        "double(8)"
      ],
      "metadata": {
        "colab": {
          "base_uri": "https://localhost:8080/"
        },
        "id": "LeFwva5kobXj",
        "outputId": "413777e5-f2a6-4042-d4d2-62d47db41cc0"
      },
      "execution_count": 45,
      "outputs": [
        {
          "output_type": "execute_result",
          "data": {
            "text/plain": [
              "16"
            ]
          },
          "metadata": {},
          "execution_count": 45
        }
      ]
    },
    {
      "cell_type": "code",
      "source": [
        "kali_2 = lambda val: val * 2\n",
        "\n",
        "kali_2(5)"
      ],
      "metadata": {
        "colab": {
          "base_uri": "https://localhost:8080/"
        },
        "id": "OUiJE97poji9",
        "outputId": "5740ae7c-c9ff-48c3-a5dd-07bf1877afdd"
      },
      "execution_count": 47,
      "outputs": [
        {
          "output_type": "execute_result",
          "data": {
            "text/plain": [
              "10"
            ]
          },
          "metadata": {},
          "execution_count": 47
        }
      ]
    },
    {
      "cell_type": "code",
      "source": [
        "def kali_3_bilangan(a1, a2, a3):\n",
        "  hasil = a1 * a2 * a3\n",
        "  return hasil\n",
        "\n",
        "kali_3_bilangan(3, 2, 1)"
      ],
      "metadata": {
        "colab": {
          "base_uri": "https://localhost:8080/"
        },
        "id": "iLPr8J26pK-y",
        "outputId": "1caa76c8-dec9-4a64-f86d-6a0671b298b5"
      },
      "execution_count": null,
      "outputs": [
        {
          "output_type": "execute_result",
          "data": {
            "text/plain": [
              "6"
            ]
          },
          "metadata": {},
          "execution_count": 68
        }
      ]
    },
    {
      "cell_type": "code",
      "source": [
        "my_func = lambda angka_1, angka_2, angka_3: angka_1 * angka_2 * angka_3\n",
        "\n",
        "my_func(angka_1 = 10, angka_2 = 20, angka_3 = 30)"
      ],
      "metadata": {
        "colab": {
          "base_uri": "https://localhost:8080/"
        },
        "id": "xFJLz0HbpW7P",
        "outputId": "512c93bd-a419-43fe-8ddd-4a54e65f42e7"
      },
      "execution_count": null,
      "outputs": [
        {
          "output_type": "execute_result",
          "data": {
            "text/plain": [
              "6000"
            ]
          },
          "metadata": {},
          "execution_count": 71
        }
      ]
    },
    {
      "cell_type": "markdown",
      "source": [
        "**Practices**"
      ],
      "metadata": {
        "id": "hXVcA61q3GHM"
      }
    },
    {
      "cell_type": "code",
      "source": [
        "skor = {'Rafif': 70, 'Fauzi': 80, 'Ali': 75, 'Danang': 55, 'Jonathan': 90, 'Rivaldi': 150}\n",
        "skor"
      ],
      "metadata": {
        "id": "V1UB5CBK3HuR"
      },
      "execution_count": null,
      "outputs": []
    },
    {
      "cell_type": "code",
      "source": [
        "# akses keys\n",
        "skor.keys()"
      ],
      "metadata": {
        "colab": {
          "base_uri": "https://localhost:8080/"
        },
        "id": "MF8zQf3b3IY-",
        "outputId": "56eb9b1f-3f0f-4c9a-d883-c30332ce2f00"
      },
      "execution_count": null,
      "outputs": [
        {
          "output_type": "execute_result",
          "data": {
            "text/plain": [
              "dict_keys(['Rafif', 'Fauzi', 'Ali', 'Danang', 'Jonathan', 'Rivaldi'])"
            ]
          },
          "metadata": {},
          "execution_count": 102
        }
      ]
    },
    {
      "cell_type": "code",
      "source": [
        "# akses value\n",
        "skor.values()"
      ],
      "metadata": {
        "colab": {
          "base_uri": "https://localhost:8080/"
        },
        "id": "rDWa73C53q7C",
        "outputId": "414f2f36-98d8-4dd7-947f-bc39d52d5a23"
      },
      "execution_count": null,
      "outputs": [
        {
          "output_type": "execute_result",
          "data": {
            "text/plain": [
              "dict_values([70, 80, 75, 55, 90, 150])"
            ]
          },
          "metadata": {},
          "execution_count": 104
        }
      ]
    },
    {
      "cell_type": "code",
      "source": [
        "# akses pasangan keys-values\n",
        "skor.items()"
      ],
      "metadata": {
        "colab": {
          "base_uri": "https://localhost:8080/"
        },
        "id": "IZWqiMcy3r_Y",
        "outputId": "a409903c-8c5d-44d1-b2e0-1e92641b2abc"
      },
      "execution_count": null,
      "outputs": [
        {
          "output_type": "execute_result",
          "data": {
            "text/plain": [
              "dict_items([('Rafif', 70), ('Fauzi', 80), ('Ali', 75), ('Danang', 55), ('Jonathan', 90), ('Rivaldi', 150)])"
            ]
          },
          "metadata": {},
          "execution_count": 105
        }
      ]
    },
    {
      "cell_type": "code",
      "source": [
        "skor['Ali']"
      ],
      "metadata": {
        "colab": {
          "base_uri": "https://localhost:8080/"
        },
        "id": "CKnW5R-e34aL",
        "outputId": "7c413894-1f92-493d-f820-3d31f2ac2bac"
      },
      "execution_count": null,
      "outputs": [
        {
          "output_type": "execute_result",
          "data": {
            "text/plain": [
              "75"
            ]
          },
          "metadata": {},
          "execution_count": 106
        }
      ]
    },
    {
      "cell_type": "markdown",
      "source": [
        "Nilai\n",
        "\n",
        "- A: [80 - 100]\n",
        "- B: [70 - 80)\n",
        "- C: [60 - 70)\n",
        "- D: [40 - 60)\n",
        "- E: [0 - 40)"
      ],
      "metadata": {
        "id": "xQoRcTKc4L7t"
      }
    },
    {
      "cell_type": "code",
      "source": [
        "skor = {'Rafif': 70, 'Fauzi': 80, 'Ali': 75, 'Danang': 55, 'Jonathan': 90, 'Rivaldi': 150}\n",
        "skor"
      ],
      "metadata": {
        "colab": {
          "base_uri": "https://localhost:8080/"
        },
        "id": "uUtqUe5l4bNS",
        "outputId": "a1577b46-216b-4d5d-b563-6cadd9324a23"
      },
      "execution_count": null,
      "outputs": [
        {
          "output_type": "execute_result",
          "data": {
            "text/plain": [
              "{'Ali': 75,\n",
              " 'Danang': 55,\n",
              " 'Fauzi': 80,\n",
              " 'Jonathan': 90,\n",
              " 'Rafif': 70,\n",
              " 'Rivaldi': 150}"
            ]
          },
          "metadata": {},
          "execution_count": 107
        }
      ]
    },
    {
      "cell_type": "code",
      "source": [
        "def to_grade(**kwargs):  \n",
        "  grade = {}\n",
        "\n",
        "  for nama, nilai in kwargs.items():\n",
        "    if 0 <= nilai <= 100:\n",
        "      if nilai >= 80:\n",
        "        grade[nama] = 'A'\n",
        "      elif nilai >= 70:\n",
        "        grade[nama] = 'B'\n",
        "      elif nilai >= 60:\n",
        "        grade[nama] = 'C'\n",
        "      elif nilai >= 40:\n",
        "        grade[nama] = 'D'\n",
        "      else:\n",
        "        grade[nama] = 'E'\n",
        "    else:\n",
        "      grade[nama] = 'error'\n",
        "  return grade"
      ],
      "metadata": {
        "id": "z_JHuHjy5nB9"
      },
      "execution_count": null,
      "outputs": []
    },
    {
      "cell_type": "code",
      "source": [
        "skor_baru = {'Syahrul': 70, 'Rachma': 85, 'Dian': 90}\n",
        "\n",
        "to_grade(**skor_baru)"
      ],
      "metadata": {
        "colab": {
          "base_uri": "https://localhost:8080/"
        },
        "id": "7xj1hDKN7tOw",
        "outputId": "ab71f6ab-f2e6-4adb-ada7-cf57fa7bca99"
      },
      "execution_count": null,
      "outputs": [
        {
          "output_type": "execute_result",
          "data": {
            "text/plain": [
              "{'Dian': 'A', 'Rachma': 'A', 'Syahrul': 'B'}"
            ]
          },
          "metadata": {},
          "execution_count": 122
        }
      ]
    },
    {
      "cell_type": "code",
      "source": [
        "grade"
      ],
      "metadata": {
        "colab": {
          "base_uri": "https://localhost:8080/"
        },
        "id": "OQx5NA-U7UtN",
        "outputId": "94b0ce70-cf30-417d-eaf7-13322df557ab"
      },
      "execution_count": null,
      "outputs": [
        {
          "output_type": "execute_result",
          "data": {
            "text/plain": [
              "{'Ali': 'B',\n",
              " 'Danang': 'D',\n",
              " 'Fauzi': 'A',\n",
              " 'Jonathan': 'A',\n",
              " 'Rafif': 'B',\n",
              " 'Rivaldi': 'error'}"
            ]
          },
          "metadata": {},
          "execution_count": 117
        }
      ]
    },
    {
      "cell_type": "code",
      "source": [
        "skor.update(skor_baru)"
      ],
      "metadata": {
        "id": "3lZ-q2P59gnN"
      },
      "execution_count": null,
      "outputs": []
    },
    {
      "cell_type": "code",
      "source": [
        "skor"
      ],
      "metadata": {
        "colab": {
          "base_uri": "https://localhost:8080/"
        },
        "id": "XxK6heg-7XkD",
        "outputId": "f892e88a-bd46-41fc-847e-33128cc3e092"
      },
      "execution_count": null,
      "outputs": [
        {
          "output_type": "execute_result",
          "data": {
            "text/plain": [
              "{'Ali': 75,\n",
              " 'Danang': 55,\n",
              " 'Dian': 90,\n",
              " 'Fauzi': 80,\n",
              " 'Jonathan': 90,\n",
              " 'Rachma': 85,\n",
              " 'Rafif': 70,\n",
              " 'Rivaldi': 150,\n",
              " 'Syahrul': 70}"
            ]
          },
          "metadata": {},
          "execution_count": 125
        }
      ]
    },
    {
      "cell_type": "code",
      "source": [
        "dic = {'a': 1, 'b': 2, 'c':3}\n",
        "dic['f'] = 5\n",
        "\n",
        "dic"
      ],
      "metadata": {
        "colab": {
          "base_uri": "https://localhost:8080/"
        },
        "id": "Isuyr8bj6Qn1",
        "outputId": "6ece111d-9487-4d94-a3f6-e74241974fd5"
      },
      "execution_count": null,
      "outputs": [
        {
          "output_type": "execute_result",
          "data": {
            "text/plain": [
              "{'a': 1, 'b': 2, 'c': 3, 'f': 5}"
            ]
          },
          "metadata": {},
          "execution_count": 115
        }
      ]
    },
    {
      "cell_type": "code",
      "source": [
        "\n",
        "\n",
        "if 0 <= nilai <= 100:\n",
        "  if nilai >= 80:\n",
        "    print(f'Skor {nilai} mendapatkan grade A')\n",
        "  elif nilai >= 70:\n",
        "    print(f'Skor {nilai} mendapatkan grade B')\n",
        "  elif nilai >= 60:\n",
        "    print(f'Skor {nilai} mendapatkan grade C')\n",
        "  elif nilai >= 40:\n",
        "    print(f'Skor {nilai} mendapatkan grade D')\n",
        "  else:\n",
        "    print(f'Skor {nilai} mendapatkan grade E')\n",
        "else:\n",
        "  print(f'Skor {nilai} di luar rentang')"
      ],
      "metadata": {
        "colab": {
          "base_uri": "https://localhost:8080/"
        },
        "id": "q5NwU73r4LrD",
        "outputId": "1b97abc6-61ce-4497-c310-8489c64405cb"
      },
      "execution_count": null,
      "outputs": [
        {
          "output_type": "stream",
          "name": "stdout",
          "text": [
            "Skor 90 mendapatkan grade A\n"
          ]
        }
      ]
    }
  ]
}