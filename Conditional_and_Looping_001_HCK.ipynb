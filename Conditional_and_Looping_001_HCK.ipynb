{
  "nbformat": 4,
  "nbformat_minor": 0,
  "metadata": {
    "colab": {
      "provenance": [],
      "collapsed_sections": []
    },
    "kernelspec": {
      "name": "python3",
      "display_name": "Python 3"
    },
    "language_info": {
      "name": "python"
    }
  },
  "cells": [
    {
      "cell_type": "markdown",
      "source": [
        "**Variable**"
      ],
      "metadata": {
        "id": "AWMRytYik7GB"
      }
    },
    {
      "cell_type": "code",
      "source": [
        "'Hallo'"
      ],
      "metadata": {
        "colab": {
          "base_uri": "https://localhost:8080/",
          "height": 35
        },
        "id": "k-RoYPJaWivd",
        "outputId": "d279225b-c4ae-4342-a46d-687141469937"
      },
      "execution_count": 1,
      "outputs": [
        {
          "output_type": "execute_result",
          "data": {
            "text/plain": [
              "'Hallo'"
            ],
            "application/vnd.google.colaboratory.intrinsic+json": {
              "type": "string"
            }
          },
          "metadata": {},
          "execution_count": 1
        }
      ]
    },
    {
      "cell_type": "code",
      "source": [
        "'halo'"
      ],
      "metadata": {
        "colab": {
          "base_uri": "https://localhost:8080/",
          "height": 35
        },
        "id": "RAHwyi3HpXdh",
        "outputId": "c55923ad-e78a-426a-ea70-abad3ff9e03b"
      },
      "execution_count": 2,
      "outputs": [
        {
          "output_type": "execute_result",
          "data": {
            "text/plain": [
              "'halo'"
            ],
            "application/vnd.google.colaboratory.intrinsic+json": {
              "type": "string"
            }
          },
          "metadata": {},
          "execution_count": 2
        }
      ]
    },
    {
      "cell_type": "code",
      "execution_count": 3,
      "metadata": {
        "id": "2lM4S3lSk1Qn"
      },
      "outputs": [],
      "source": [
        "x = \"Hallo\""
      ]
    },
    {
      "cell_type": "code",
      "source": [
        "y\n",
        "y = 5"
      ],
      "metadata": {
        "id": "dwhDYUb_prA5"
      },
      "execution_count": null,
      "outputs": []
    },
    {
      "cell_type": "code",
      "source": [
        "# Prosedural execution\n",
        "y = 5\n",
        "y"
      ],
      "metadata": {
        "colab": {
          "base_uri": "https://localhost:8080/"
        },
        "id": "A7Q2prQ3mJA7",
        "outputId": "785b6d17-cb6e-435b-9b20-d4e8f0a91d42"
      },
      "execution_count": 7,
      "outputs": [
        {
          "output_type": "execute_result",
          "data": {
            "text/plain": [
              "5"
            ]
          },
          "metadata": {},
          "execution_count": 7
        }
      ]
    },
    {
      "cell_type": "code",
      "source": [
        "# case sensitive\n",
        "Y"
      ],
      "metadata": {
        "colab": {
          "base_uri": "https://localhost:8080/",
          "height": 169
        },
        "id": "UXj8cJ73mYf5",
        "outputId": "110df579-c75b-4a2a-d073-0ffd301adb08"
      },
      "execution_count": null,
      "outputs": [
        {
          "output_type": "error",
          "ename": "NameError",
          "evalue": "ignored",
          "traceback": [
            "\u001b[0;31m---------------------------------------------------------------------------\u001b[0m",
            "\u001b[0;31mNameError\u001b[0m                                 Traceback (most recent call last)",
            "\u001b[0;32m<ipython-input-10-c881daf1af41>\u001b[0m in \u001b[0;36m<module>\u001b[0;34m()\u001b[0m\n\u001b[0;32m----> 1\u001b[0;31m \u001b[0mY\u001b[0m\u001b[0;34m\u001b[0m\u001b[0;34m\u001b[0m\u001b[0m\n\u001b[0m",
            "\u001b[0;31mNameError\u001b[0m: name 'Y' is not defined"
          ]
        }
      ]
    },
    {
      "cell_type": "markdown",
      "source": [
        "**Conditional**"
      ],
      "metadata": {
        "id": "iEJdsIfok9e8"
      }
    },
    {
      "cell_type": "code",
      "source": [
        "if False:\n",
        "  print('halo')\n",
        "  print('baris 1')"
      ],
      "metadata": {
        "id": "uNPbNso9qyv_"
      },
      "execution_count": 9,
      "outputs": []
    },
    {
      "cell_type": "code",
      "source": [
        "print(f'nilai {angka} di atas 10')"
      ],
      "metadata": {
        "colab": {
          "base_uri": "https://localhost:8080/"
        },
        "id": "6jSBWs96rlVV",
        "outputId": "ae6d56bc-3f22-4bcf-ac68-cde19dc6a42c"
      },
      "execution_count": 14,
      "outputs": [
        {
          "output_type": "stream",
          "name": "stdout",
          "text": [
            "nilai 20 di atas 10\n"
          ]
        }
      ]
    },
    {
      "cell_type": "code",
      "source": [
        "angka = 2\n",
        "\n",
        "if angka > 10:\n",
        "  print(f'nilai {angka} di atas 10')\n",
        "elif angka == 10:\n",
        "  print(f'nilai {angka} sama dengan 10')\n",
        "elif angka > 5:\n",
        "  print(f'nilai {angka} di atas 5, di bawah 10')\n",
        "else:\n",
        "  print(f'nilai {angka} di bawah 10')"
      ],
      "metadata": {
        "colab": {
          "base_uri": "https://localhost:8080/"
        },
        "id": "geUPYs6frNMu",
        "outputId": "f7010620-e993-4e7c-d9a6-cc7217ad391d"
      },
      "execution_count": 25,
      "outputs": [
        {
          "output_type": "stream",
          "name": "stdout",
          "text": [
            "nilai 2 di bawah 10\n"
          ]
        }
      ]
    },
    {
      "cell_type": "code",
      "source": [
        "angka = 20\n",
        "\n",
        "if angka > 10:\n",
        "  print(f'nilai {angka} di atas 10')\n",
        "if angka == 10:\n",
        "  print(f'nilai {angka} sama dengan 10')\n",
        "else:\n",
        "  print(f'nilai {angka} di bawah 10')"
      ],
      "metadata": {
        "colab": {
          "base_uri": "https://localhost:8080/"
        },
        "id": "fGIQtrZDuTIj",
        "outputId": "77f1d38b-d754-4c17-d20e-7074b3c98de8"
      },
      "execution_count": 33,
      "outputs": [
        {
          "output_type": "stream",
          "name": "stdout",
          "text": [
            "nilai 20 di atas 10\n"
          ]
        }
      ]
    },
    {
      "cell_type": "code",
      "source": [
        "angka = 20\n",
        "\n",
        "else angka > 10:\n",
        "  print(f'nilai {angka} di atas 10')"
      ],
      "metadata": {
        "colab": {
          "base_uri": "https://localhost:8080/",
          "height": 132
        },
        "id": "Sdcy0o2Wtskj",
        "outputId": "039e0717-a767-42fd-9d26-c69d7648cf7a"
      },
      "execution_count": 29,
      "outputs": [
        {
          "output_type": "error",
          "ename": "SyntaxError",
          "evalue": "ignored",
          "traceback": [
            "\u001b[0;36m  File \u001b[0;32m\"<ipython-input-29-d5f486948cac>\"\u001b[0;36m, line \u001b[0;32m3\u001b[0m\n\u001b[0;31m    else angka > 10:\u001b[0m\n\u001b[0m       ^\u001b[0m\n\u001b[0;31mSyntaxError\u001b[0m\u001b[0;31m:\u001b[0m invalid syntax\n"
          ]
        }
      ]
    },
    {
      "cell_type": "code",
      "source": [
        "angka > 10"
      ],
      "metadata": {
        "colab": {
          "base_uri": "https://localhost:8080/"
        },
        "id": "zbwJ91j7rOOK",
        "outputId": "97b86d85-9595-476a-aadb-b149759cdeec"
      },
      "execution_count": 18,
      "outputs": [
        {
          "output_type": "execute_result",
          "data": {
            "text/plain": [
              "False"
            ]
          },
          "metadata": {},
          "execution_count": 18
        }
      ]
    },
    {
      "cell_type": "code",
      "source": [],
      "metadata": {
        "id": "IS5H1xWMrOLQ"
      },
      "execution_count": null,
      "outputs": []
    },
    {
      "cell_type": "code",
      "source": [],
      "metadata": {
        "id": "dYWNlC_NrOIK"
      },
      "execution_count": null,
      "outputs": []
    },
    {
      "cell_type": "code",
      "source": [],
      "metadata": {
        "id": "CAvQaqjWrOGd"
      },
      "execution_count": null,
      "outputs": []
    },
    {
      "cell_type": "code",
      "source": [],
      "metadata": {
        "id": "X2WqA4DbrOFF"
      },
      "execution_count": null,
      "outputs": []
    },
    {
      "cell_type": "code",
      "source": [],
      "metadata": {
        "id": "wCOne96GrOCK"
      },
      "execution_count": null,
      "outputs": []
    },
    {
      "cell_type": "code",
      "source": [
        "angka = 10\n",
        "\n",
        "print(f'nilai {angka} == 10')"
      ],
      "metadata": {
        "colab": {
          "base_uri": "https://localhost:8080/"
        },
        "id": "JenpsmLmaCSH",
        "outputId": "807e3b8a-3cc4-4203-d17e-6fd0f2028097"
      },
      "execution_count": null,
      "outputs": [
        {
          "output_type": "stream",
          "name": "stdout",
          "text": [
            "nilai 10 == 10\n"
          ]
        }
      ]
    },
    {
      "cell_type": "code",
      "source": [
        "angka = 5\n",
        "\n",
        "if angka>20:\n",
        "  print(f'nilai {angka} diatas 20')\n",
        "elif angka == 20:\n",
        "  print(f'nilai {angka} sama dengan 20')\n",
        "elif angka > 10:\n",
        "  print(f'nilai {angka} diantara 10 dan 20')\n",
        "else:\n",
        "  print(f'nilai {angka} dibawah 20')"
      ],
      "metadata": {
        "colab": {
          "base_uri": "https://localhost:8080/"
        },
        "id": "BUqnNsaKYA-Q",
        "outputId": "0e4063e4-d406-4689-c6f6-ebd51f55d9df"
      },
      "execution_count": null,
      "outputs": [
        {
          "output_type": "stream",
          "name": "stdout",
          "text": [
            "nilai 5 dibawah 20\n"
          ]
        }
      ]
    },
    {
      "cell_type": "code",
      "source": [
        "angka = 30\n",
        "\n",
        "else:\n",
        "  print(f'nilai {angka} diatas 20')"
      ],
      "metadata": {
        "colab": {
          "base_uri": "https://localhost:8080/",
          "height": 132
        },
        "id": "jFS4zXumYdUU",
        "outputId": "a61220b7-e81f-44b7-90d0-551c90a7dbb4"
      },
      "execution_count": null,
      "outputs": [
        {
          "output_type": "error",
          "ename": "SyntaxError",
          "evalue": "ignored",
          "traceback": [
            "\u001b[0;36m  File \u001b[0;32m\"<ipython-input-36-8b1b00a87c46>\"\u001b[0;36m, line \u001b[0;32m3\u001b[0m\n\u001b[0;31m    else:\u001b[0m\n\u001b[0m       ^\u001b[0m\n\u001b[0;31mSyntaxError\u001b[0m\u001b[0;31m:\u001b[0m invalid syntax\n"
          ]
        }
      ]
    },
    {
      "cell_type": "code",
      "source": [
        "angka = 50\n",
        "\n",
        "if angka > 30:\n",
        "  print(f'nilai {angka} di atas 30')\n",
        "elif angka == 30:\n",
        "  print(f'nilai {angka} sama dengan 30')\n",
        "else:\n",
        "  print(f'nilai {angka} di bawah 30')"
      ],
      "metadata": {
        "colab": {
          "base_uri": "https://localhost:8080/"
        },
        "id": "EFNPGdZFn4hS",
        "outputId": "d51bc384-2b6a-4d34-b8b7-96dc11b301c9"
      },
      "execution_count": null,
      "outputs": [
        {
          "output_type": "stream",
          "name": "stdout",
          "text": [
            "nilai 50 di atas 30\n"
          ]
        }
      ]
    },
    {
      "cell_type": "code",
      "source": [
        "angka == 30"
      ],
      "metadata": {
        "colab": {
          "base_uri": "https://localhost:8080/"
        },
        "id": "VUsryO_zoOJv",
        "outputId": "a5677054-04fb-4d38-bfc1-046ea3830cc0"
      },
      "execution_count": null,
      "outputs": [
        {
          "output_type": "execute_result",
          "data": {
            "text/plain": [
              "False"
            ]
          },
          "metadata": {},
          "execution_count": 22
        }
      ]
    },
    {
      "cell_type": "code",
      "source": [
        "print(f'nilai {angka} sama dengan 30')"
      ],
      "metadata": {
        "colab": {
          "base_uri": "https://localhost:8080/"
        },
        "id": "4sBowRyrpbmg",
        "outputId": "0b1fdbe3-ae57-4288-e1f6-b549c972fe88"
      },
      "execution_count": null,
      "outputs": [
        {
          "output_type": "stream",
          "name": "stdout",
          "text": [
            "nilai 25 sama dengan 30\n"
          ]
        }
      ]
    },
    {
      "cell_type": "markdown",
      "source": [
        "Nilai\n",
        "\n",
        "- A: [80 - 100]\n",
        "- B: [70 - 80)\n",
        "- C: [60 - 70)\n",
        "- D: [40 - 60)\n",
        "- E: [0 - 40)"
      ],
      "metadata": {
        "id": "7y9KzK-osgeO"
      }
    },
    {
      "cell_type": "code",
      "source": [
        "nilai = -5\n",
        "\n",
        "\n",
        "if nilai >= 80:\n",
        "  print(f'Skor {nilai} mendapatkan grade A')\n",
        "elif nilai >= 70:\n",
        "  print(f'Skor {nilai} mendapatkan grade B')\n",
        "elif nilai >= 60:\n",
        "  print(f'Skor {nilai} mendapatkan grade C')\n",
        "elif nilai >= 40:\n",
        "  print(f'Skor {nilai} mendapatkan grade D')\n",
        "else:\n",
        "  print(f'Skor {nilai} mendapatkan grade E')"
      ],
      "metadata": {
        "colab": {
          "base_uri": "https://localhost:8080/"
        },
        "id": "LyN79a8OonJ-",
        "outputId": "0f12dfd8-a3a9-46a3-e654-0d15a688320f"
      },
      "execution_count": null,
      "outputs": [
        {
          "output_type": "stream",
          "name": "stdout",
          "text": [
            "Skor -5 mendapatkan grade E\n"
          ]
        }
      ]
    },
    {
      "cell_type": "code",
      "source": [
        "nilai = 50\n",
        "\n",
        "if 0 <= nilai <= 100:\n",
        "  if nilai >= 80:\n",
        "    print(f'Skor {nilai} mendapatkan grade A')\n",
        "  elif nilai >= 70:\n",
        "    print(f'Skor {nilai} mendapatkan grade B')\n",
        "  elif nilai >= 60:\n",
        "    print(f'Skor {nilai} mendapatkan grade C')\n",
        "  elif nilai >= 40:\n",
        "    print(f'Skor {nilai} mendapatkan grade D')\n",
        "  else:\n",
        "    print(f'Skor {nilai} mendapatkan grade E')\n",
        "else:\n",
        "  print(f'Skor {nilai} di luar rentang')\n"
      ],
      "metadata": {
        "colab": {
          "base_uri": "https://localhost:8080/"
        },
        "id": "N28rS5qqvxPD",
        "outputId": "a1879a4b-3adc-4d75-b86d-fbcb36896870"
      },
      "execution_count": null,
      "outputs": [
        {
          "output_type": "stream",
          "name": "stdout",
          "text": [
            "Skor 50 mendapatkan grade D\n"
          ]
        }
      ]
    },
    {
      "cell_type": "code",
      "source": [
        "cities = ['Pekanbaru', 'Kalimantan Barat', 'Semarang', 'Yogyakarta']\n",
        "\n",
        "kota = 'Yogyakarta'\n",
        "\n",
        "if kota in cities:\n",
        "  print(f'kota {kota} terdapat dalam list cities')"
      ],
      "metadata": {
        "colab": {
          "base_uri": "https://localhost:8080/"
        },
        "id": "ZDjHuFeywiZI",
        "outputId": "386242b2-cb58-4de0-ac24-acee0653b095"
      },
      "execution_count": null,
      "outputs": [
        {
          "output_type": "stream",
          "name": "stdout",
          "text": [
            "kota Yogyakarta terdapat dalam list cities\n"
          ]
        }
      ]
    },
    {
      "cell_type": "code",
      "source": [
        "kota in cities"
      ],
      "metadata": {
        "colab": {
          "base_uri": "https://localhost:8080/"
        },
        "id": "jDLsVLVew8-o",
        "outputId": "a66ba147-7981-4858-bd83-e0cc3d93d2b9"
      },
      "execution_count": null,
      "outputs": [
        {
          "output_type": "execute_result",
          "data": {
            "text/plain": [
              "False"
            ]
          },
          "metadata": {},
          "execution_count": 50
        }
      ]
    },
    {
      "cell_type": "code",
      "source": [
        "print('kota {} terdapat dalam list {}'.format(kota, cities))"
      ],
      "metadata": {
        "colab": {
          "base_uri": "https://localhost:8080/"
        },
        "id": "uYGi-rEuxunJ",
        "outputId": "7dad44fc-a7b9-4a51-8b60-9f2426f3e502"
      },
      "execution_count": null,
      "outputs": [
        {
          "output_type": "stream",
          "name": "stdout",
          "text": [
            "kota Yogyakarta terdapat dalam list ['Pekanbaru', 'Kalimantan Barat', 'Semarang', 'Yogyakarta']\n"
          ]
        }
      ]
    },
    {
      "cell_type": "markdown",
      "source": [
        "**Looping: While**"
      ],
      "metadata": {
        "id": "M-2n-xQPlAqM"
      }
    },
    {
      "cell_type": "code",
      "source": [
        "# infinite loop\n",
        "while True:\n",
        "  print('Halo')\n",
        "  print('Apa Kabar?')"
      ],
      "metadata": {
        "id": "0wcbaBRTlEPq"
      },
      "execution_count": null,
      "outputs": []
    },
    {
      "cell_type": "code",
      "source": [
        "i = 0\n",
        "\n",
        "while i < 5:\n",
        "  print(i)\n",
        "  i = i + 1"
      ],
      "metadata": {
        "colab": {
          "base_uri": "https://localhost:8080/"
        },
        "id": "Mgya2Sd0zCTK",
        "outputId": "9f7b4a85-a018-402f-db50-3154cd9829d7"
      },
      "execution_count": null,
      "outputs": [
        {
          "output_type": "stream",
          "name": "stdout",
          "text": [
            "0\n",
            "1\n",
            "2\n",
            "3\n",
            "4\n"
          ]
        }
      ]
    },
    {
      "cell_type": "code",
      "source": [
        "i = 1\n",
        "\n",
        "while i <= 10:\n",
        "  print(f'5 x {i} = {5 * i}')\n",
        "  i = i + 1"
      ],
      "metadata": {
        "colab": {
          "base_uri": "https://localhost:8080/"
        },
        "id": "eiENYrqu0w2j",
        "outputId": "fb943ee8-7c9e-4e2e-ab1a-3ed9b8c63a27"
      },
      "execution_count": null,
      "outputs": [
        {
          "output_type": "stream",
          "name": "stdout",
          "text": [
            "5 x 1 = 5\n",
            "5 x 2 = 10\n",
            "5 x 3 = 15\n",
            "5 x 4 = 20\n",
            "5 x 5 = 25\n",
            "5 x 6 = 30\n",
            "5 x 7 = 35\n",
            "5 x 8 = 40\n",
            "5 x 9 = 45\n",
            "5 x 10 = 50\n"
          ]
        }
      ]
    },
    {
      "cell_type": "code",
      "source": [
        "i = 1\n",
        "j = 1\n",
        "\n",
        "while i <= 10:\n",
        "  print(f'perkalian {i}')\n",
        "  while j <= 10:\n",
        "    print(f'{i} x {j} = {i * j}')\n",
        "    j = j + 1\n",
        "  print('-' * 50)\n",
        "  i = i + 1\n",
        "  j = 1"
      ],
      "metadata": {
        "colab": {
          "base_uri": "https://localhost:8080/"
        },
        "id": "GgaX6kqu1mzy",
        "outputId": "c243843a-1117-45dc-d29c-4da2370b6544"
      },
      "execution_count": null,
      "outputs": [
        {
          "output_type": "stream",
          "name": "stdout",
          "text": [
            "perkalian 1\n",
            "1 x 1 = 1\n",
            "1 x 2 = 2\n",
            "1 x 3 = 3\n",
            "1 x 4 = 4\n",
            "1 x 5 = 5\n",
            "1 x 6 = 6\n",
            "1 x 7 = 7\n",
            "1 x 8 = 8\n",
            "1 x 9 = 9\n",
            "1 x 10 = 10\n",
            "--------------------------------------------------\n",
            "perkalian 2\n",
            "2 x 1 = 2\n",
            "2 x 2 = 4\n",
            "2 x 3 = 6\n",
            "2 x 4 = 8\n",
            "2 x 5 = 10\n",
            "2 x 6 = 12\n",
            "2 x 7 = 14\n",
            "2 x 8 = 16\n",
            "2 x 9 = 18\n",
            "2 x 10 = 20\n",
            "--------------------------------------------------\n",
            "perkalian 3\n",
            "3 x 1 = 3\n",
            "3 x 2 = 6\n",
            "3 x 3 = 9\n",
            "3 x 4 = 12\n",
            "3 x 5 = 15\n",
            "3 x 6 = 18\n",
            "3 x 7 = 21\n",
            "3 x 8 = 24\n",
            "3 x 9 = 27\n",
            "3 x 10 = 30\n",
            "--------------------------------------------------\n",
            "perkalian 4\n",
            "4 x 1 = 4\n",
            "4 x 2 = 8\n",
            "4 x 3 = 12\n",
            "4 x 4 = 16\n",
            "4 x 5 = 20\n",
            "4 x 6 = 24\n",
            "4 x 7 = 28\n",
            "4 x 8 = 32\n",
            "4 x 9 = 36\n",
            "4 x 10 = 40\n",
            "--------------------------------------------------\n",
            "perkalian 5\n",
            "5 x 1 = 5\n",
            "5 x 2 = 10\n",
            "5 x 3 = 15\n",
            "5 x 4 = 20\n",
            "5 x 5 = 25\n",
            "5 x 6 = 30\n",
            "5 x 7 = 35\n",
            "5 x 8 = 40\n",
            "5 x 9 = 45\n",
            "5 x 10 = 50\n",
            "--------------------------------------------------\n",
            "perkalian 6\n",
            "6 x 1 = 6\n",
            "6 x 2 = 12\n",
            "6 x 3 = 18\n",
            "6 x 4 = 24\n",
            "6 x 5 = 30\n",
            "6 x 6 = 36\n",
            "6 x 7 = 42\n",
            "6 x 8 = 48\n",
            "6 x 9 = 54\n",
            "6 x 10 = 60\n",
            "--------------------------------------------------\n",
            "perkalian 7\n",
            "7 x 1 = 7\n",
            "7 x 2 = 14\n",
            "7 x 3 = 21\n",
            "7 x 4 = 28\n",
            "7 x 5 = 35\n",
            "7 x 6 = 42\n",
            "7 x 7 = 49\n",
            "7 x 8 = 56\n",
            "7 x 9 = 63\n",
            "7 x 10 = 70\n",
            "--------------------------------------------------\n",
            "perkalian 8\n",
            "8 x 1 = 8\n",
            "8 x 2 = 16\n",
            "8 x 3 = 24\n",
            "8 x 4 = 32\n",
            "8 x 5 = 40\n",
            "8 x 6 = 48\n",
            "8 x 7 = 56\n",
            "8 x 8 = 64\n",
            "8 x 9 = 72\n",
            "8 x 10 = 80\n",
            "--------------------------------------------------\n",
            "perkalian 9\n",
            "9 x 1 = 9\n",
            "9 x 2 = 18\n",
            "9 x 3 = 27\n",
            "9 x 4 = 36\n",
            "9 x 5 = 45\n",
            "9 x 6 = 54\n",
            "9 x 7 = 63\n",
            "9 x 8 = 72\n",
            "9 x 9 = 81\n",
            "9 x 10 = 90\n",
            "--------------------------------------------------\n",
            "perkalian 10\n",
            "10 x 1 = 10\n",
            "10 x 2 = 20\n",
            "10 x 3 = 30\n",
            "10 x 4 = 40\n",
            "10 x 5 = 50\n",
            "10 x 6 = 60\n",
            "10 x 7 = 70\n",
            "10 x 8 = 80\n",
            "10 x 9 = 90\n",
            "10 x 10 = 100\n",
            "--------------------------------------------------\n"
          ]
        }
      ]
    },
    {
      "cell_type": "code",
      "source": [
        "# update variabel\n",
        "\n",
        "angka = 5\n",
        "angka"
      ],
      "metadata": {
        "colab": {
          "base_uri": "https://localhost:8080/"
        },
        "id": "Awrt5outzWL0",
        "outputId": "27ea8538-24bb-4f1c-beff-47062326d001"
      },
      "execution_count": null,
      "outputs": [
        {
          "output_type": "execute_result",
          "data": {
            "text/plain": [
              "5"
            ]
          },
          "metadata": {},
          "execution_count": 68
        }
      ]
    },
    {
      "cell_type": "code",
      "source": [
        "angka = angka + 1"
      ],
      "metadata": {
        "id": "DibeWRD4zZW4"
      },
      "execution_count": null,
      "outputs": []
    },
    {
      "cell_type": "code",
      "source": [
        "angka"
      ],
      "metadata": {
        "colab": {
          "base_uri": "https://localhost:8080/"
        },
        "id": "b8pqpQvLzfxa",
        "outputId": "878f32cb-38a4-47e8-92a3-f4dfc75db88d"
      },
      "execution_count": null,
      "outputs": [
        {
          "output_type": "execute_result",
          "data": {
            "text/plain": [
              "8"
            ]
          },
          "metadata": {},
          "execution_count": 63
        }
      ]
    },
    {
      "cell_type": "markdown",
      "source": [
        "**Looping: For**"
      ],
      "metadata": {
        "id": "_xQdnHpZlFBf"
      }
    },
    {
      "cell_type": "code",
      "source": [
        "cities = ['Pekanbaru', 'Kalimantan Barat', 'Semarang', 'Yogyakarta', 'Bandung', 'Bogor']\n",
        "\n",
        "cities"
      ],
      "metadata": {
        "colab": {
          "base_uri": "https://localhost:8080/"
        },
        "id": "41pd00c4lG_f",
        "outputId": "8e0dc337-54b4-4798-9abd-3943e8b20fb6"
      },
      "execution_count": 36,
      "outputs": [
        {
          "output_type": "execute_result",
          "data": {
            "text/plain": [
              "['Pekanbaru', 'Kalimantan Barat', 'Semarang', 'Yogyakarta', 'Bandung', 'Bogor']"
            ]
          },
          "metadata": {},
          "execution_count": 36
        }
      ]
    },
    {
      "cell_type": "code",
      "source": [
        "for hasil_enum, temp_var in enumerate(cities):\n",
        "  print(hasil_enum)\n",
        "  print(temp_var)"
      ],
      "metadata": {
        "colab": {
          "base_uri": "https://localhost:8080/"
        },
        "id": "XBd_BQZtwtFT",
        "outputId": "bd5a9be4-12ba-4448-c955-ea114fef257f"
      },
      "execution_count": 39,
      "outputs": [
        {
          "output_type": "stream",
          "name": "stdout",
          "text": [
            "0\n",
            "Pekanbaru\n",
            "1\n",
            "Kalimantan Barat\n",
            "2\n",
            "Semarang\n",
            "3\n",
            "Yogyakarta\n",
            "4\n",
            "Bandung\n",
            "5\n",
            "Bogor\n"
          ]
        }
      ]
    },
    {
      "cell_type": "code",
      "source": [
        "cities[4]"
      ],
      "metadata": {
        "colab": {
          "base_uri": "https://localhost:8080/",
          "height": 36
        },
        "id": "-7L_F1oU8Osa",
        "outputId": "1984f693-b815-4bc6-d50f-15a9a44aa282"
      },
      "execution_count": null,
      "outputs": [
        {
          "output_type": "execute_result",
          "data": {
            "text/plain": [
              "'Bandung'"
            ],
            "application/vnd.google.colaboratory.intrinsic+json": {
              "type": "string"
            }
          },
          "metadata": {},
          "execution_count": 89
        }
      ]
    },
    {
      "cell_type": "code",
      "source": [
        "idx = 0\n",
        "\n",
        "while idx < len(cities):\n",
        "  print(cities[idx])\n",
        "  idx += 1                # sama seperti idx = idx + 1\n",
        "  print('-'*50)"
      ],
      "metadata": {
        "colab": {
          "base_uri": "https://localhost:8080/"
        },
        "id": "Crk1qRu97mnL",
        "outputId": "1613d630-b9c5-46d5-9729-3f7ca707198c"
      },
      "execution_count": null,
      "outputs": [
        {
          "output_type": "stream",
          "name": "stdout",
          "text": [
            "Pekanbaru\n",
            "--------------------------------------------------\n",
            "Kalimantan Barat\n",
            "--------------------------------------------------\n",
            "Semarang\n",
            "--------------------------------------------------\n",
            "Yogyakarta\n",
            "--------------------------------------------------\n",
            "Bandung\n",
            "--------------------------------------------------\n",
            "Bogor\n",
            "--------------------------------------------------\n"
          ]
        }
      ]
    },
    {
      "cell_type": "code",
      "source": [
        "len(cities)"
      ],
      "metadata": {
        "colab": {
          "base_uri": "https://localhost:8080/"
        },
        "id": "v5mtnXp_7z6J",
        "outputId": "deaad6b6-f011-4cde-d7d0-8d4537b18f1e"
      },
      "execution_count": null,
      "outputs": [
        {
          "output_type": "execute_result",
          "data": {
            "text/plain": [
              "6"
            ]
          },
          "metadata": {},
          "execution_count": 85
        }
      ]
    },
    {
      "cell_type": "code",
      "source": [
        "for i in range(1, 11):\n",
        "  print(f'5 x {i} = {5 * i}')"
      ],
      "metadata": {
        "id": "36UOLEyW53wz",
        "colab": {
          "base_uri": "https://localhost:8080/"
        },
        "outputId": "8445b3f6-5571-49f3-f368-177e331866c9"
      },
      "execution_count": null,
      "outputs": [
        {
          "output_type": "stream",
          "name": "stdout",
          "text": [
            "5 x 1 = 5\n",
            "5 x 2 = 10\n",
            "5 x 3 = 15\n",
            "5 x 4 = 20\n",
            "5 x 5 = 25\n",
            "5 x 6 = 30\n",
            "5 x 7 = 35\n",
            "5 x 8 = 40\n",
            "5 x 9 = 45\n",
            "5 x 10 = 50\n"
          ]
        }
      ]
    },
    {
      "cell_type": "code",
      "source": [
        "for i in range(1, 11):\n",
        "  for j in range(1, 11):\n",
        "    print(f'{i} x {j} = {i * j}')\n",
        "  print('-'* 50)"
      ],
      "metadata": {
        "id": "381kKIyE6yO2",
        "colab": {
          "base_uri": "https://localhost:8080/"
        },
        "outputId": "dbc1b013-9e3a-4a9a-bd57-956d0751cbde"
      },
      "execution_count": null,
      "outputs": [
        {
          "output_type": "stream",
          "name": "stdout",
          "text": [
            "1 x 1 = 1\n",
            "1 x 2 = 2\n",
            "1 x 3 = 3\n",
            "1 x 4 = 4\n",
            "1 x 5 = 5\n",
            "1 x 6 = 6\n",
            "1 x 7 = 7\n",
            "1 x 8 = 8\n",
            "1 x 9 = 9\n",
            "1 x 10 = 10\n",
            "--------------------------------------------------\n",
            "2 x 1 = 2\n",
            "2 x 2 = 4\n",
            "2 x 3 = 6\n",
            "2 x 4 = 8\n",
            "2 x 5 = 10\n",
            "2 x 6 = 12\n",
            "2 x 7 = 14\n",
            "2 x 8 = 16\n",
            "2 x 9 = 18\n",
            "2 x 10 = 20\n",
            "--------------------------------------------------\n",
            "3 x 1 = 3\n",
            "3 x 2 = 6\n",
            "3 x 3 = 9\n",
            "3 x 4 = 12\n",
            "3 x 5 = 15\n",
            "3 x 6 = 18\n",
            "3 x 7 = 21\n",
            "3 x 8 = 24\n",
            "3 x 9 = 27\n",
            "3 x 10 = 30\n",
            "--------------------------------------------------\n",
            "4 x 1 = 4\n",
            "4 x 2 = 8\n",
            "4 x 3 = 12\n",
            "4 x 4 = 16\n",
            "4 x 5 = 20\n",
            "4 x 6 = 24\n",
            "4 x 7 = 28\n",
            "4 x 8 = 32\n",
            "4 x 9 = 36\n",
            "4 x 10 = 40\n",
            "--------------------------------------------------\n",
            "5 x 1 = 5\n",
            "5 x 2 = 10\n",
            "5 x 3 = 15\n",
            "5 x 4 = 20\n",
            "5 x 5 = 25\n",
            "5 x 6 = 30\n",
            "5 x 7 = 35\n",
            "5 x 8 = 40\n",
            "5 x 9 = 45\n",
            "5 x 10 = 50\n",
            "--------------------------------------------------\n",
            "6 x 1 = 6\n",
            "6 x 2 = 12\n",
            "6 x 3 = 18\n",
            "6 x 4 = 24\n",
            "6 x 5 = 30\n",
            "6 x 6 = 36\n",
            "6 x 7 = 42\n",
            "6 x 8 = 48\n",
            "6 x 9 = 54\n",
            "6 x 10 = 60\n",
            "--------------------------------------------------\n",
            "7 x 1 = 7\n",
            "7 x 2 = 14\n",
            "7 x 3 = 21\n",
            "7 x 4 = 28\n",
            "7 x 5 = 35\n",
            "7 x 6 = 42\n",
            "7 x 7 = 49\n",
            "7 x 8 = 56\n",
            "7 x 9 = 63\n",
            "7 x 10 = 70\n",
            "--------------------------------------------------\n",
            "8 x 1 = 8\n",
            "8 x 2 = 16\n",
            "8 x 3 = 24\n",
            "8 x 4 = 32\n",
            "8 x 5 = 40\n",
            "8 x 6 = 48\n",
            "8 x 7 = 56\n",
            "8 x 8 = 64\n",
            "8 x 9 = 72\n",
            "8 x 10 = 80\n",
            "--------------------------------------------------\n",
            "9 x 1 = 9\n",
            "9 x 2 = 18\n",
            "9 x 3 = 27\n",
            "9 x 4 = 36\n",
            "9 x 5 = 45\n",
            "9 x 6 = 54\n",
            "9 x 7 = 63\n",
            "9 x 8 = 72\n",
            "9 x 9 = 81\n",
            "9 x 10 = 90\n",
            "--------------------------------------------------\n",
            "10 x 1 = 10\n",
            "10 x 2 = 20\n",
            "10 x 3 = 30\n",
            "10 x 4 = 40\n",
            "10 x 5 = 50\n",
            "10 x 6 = 60\n",
            "10 x 7 = 70\n",
            "10 x 8 = 80\n",
            "10 x 9 = 90\n",
            "10 x 10 = 100\n",
            "--------------------------------------------------\n"
          ]
        }
      ]
    },
    {
      "cell_type": "code",
      "source": [
        "i = 1\n",
        "j = 1\n",
        "\n",
        "while i <= 10:\n",
        "  print(f'perkalian {i}')\n",
        "  while j <= 10:\n",
        "    print(f'{i} x {j} = {i * j}')\n",
        "    j = j + 1\n",
        "  print('-' * 50)\n",
        "  i = i + 1\n",
        "  j = 1"
      ],
      "metadata": {
        "id": "BmPlnFlf7CAZ"
      },
      "execution_count": null,
      "outputs": []
    },
    {
      "cell_type": "code",
      "source": [
        "list(range(1, 11))"
      ],
      "metadata": {
        "colab": {
          "base_uri": "https://localhost:8080/"
        },
        "id": "3meBFJ0b5_2G",
        "outputId": "4fde0f5d-2ced-46a3-aa9c-796a2ca7f741"
      },
      "execution_count": null,
      "outputs": [
        {
          "output_type": "execute_result",
          "data": {
            "text/plain": [
              "[1, 2, 3, 4, 5, 6, 7, 8, 9, 10]"
            ]
          },
          "metadata": {},
          "execution_count": 79
        }
      ]
    },
    {
      "cell_type": "markdown",
      "source": [
        "**Control Flow Statement**"
      ],
      "metadata": {
        "id": "pnbhQCiplIDS"
      }
    },
    {
      "cell_type": "code",
      "source": [
        "# continue\n",
        "i = 0\n",
        "\n",
        "while i <= 10:\n",
        "  i = i + 1\n",
        "  if i in [7, 8, 9]:\n",
        "    continue\n",
        "  print(i)"
      ],
      "metadata": {
        "colab": {
          "base_uri": "https://localhost:8080/"
        },
        "id": "H6TPDCFIlLz8",
        "outputId": "d2ef9c3e-f8b3-4c97-81b7-07ee4c8fbacb"
      },
      "execution_count": null,
      "outputs": [
        {
          "output_type": "stream",
          "name": "stdout",
          "text": [
            "1\n",
            "2\n",
            "3\n",
            "4\n",
            "5\n",
            "6\n",
            "7\n",
            "8\n",
            "9\n",
            "10\n",
            "11\n"
          ]
        }
      ]
    },
    {
      "cell_type": "code",
      "source": [
        "# break\n",
        "i = 0\n",
        "\n",
        "while i <= 10:\n",
        "  i = i + 1\n",
        "  print(i)\n",
        "  if i == 8:\n",
        "    print('nilai i sudah 8')\n",
        "    break"
      ],
      "metadata": {
        "colab": {
          "base_uri": "https://localhost:8080/"
        },
        "id": "PY4gF87r8sYa",
        "outputId": "35aca8f0-0fd2-488c-9810-dff766df87c4"
      },
      "execution_count": null,
      "outputs": [
        {
          "output_type": "stream",
          "name": "stdout",
          "text": [
            "1\n",
            "2\n",
            "3\n",
            "4\n",
            "5\n",
            "6\n",
            "7\n",
            "8\n",
            "nilai i sudah 8\n"
          ]
        }
      ]
    }
  ]
}