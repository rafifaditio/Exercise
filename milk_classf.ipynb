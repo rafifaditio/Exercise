{
 "cells": [
  {
   "cell_type": "code",
   "execution_count": 1,
   "metadata": {},
   "outputs": [],
   "source": [
    "import pandas as pd\n",
    "import numpy as np\n",
    "import matplotlib.pyplot as plt\n",
    "import seaborn as sns\n",
    "\n",
    "from sklearn.model_selection import train_test_split\n",
    "from feature_engine.outliers import Winsorizer\n",
    "from sklearn.impute import SimpleImputer\n",
    "from sklearn.preprocessing import StandardScaler, MinMaxScaler, OneHotEncoder, OrdinalEncoder\n",
    "from sklearn.pipeline import Pipeline\n",
    "from sklearn.compose import ColumnTransformer\n",
    "from sklearn.linear_model import LogisticRegression\n",
    "from sklearn.svm import SVC\n",
    "from sklearn.tree import DecisionTreeClassifier\n",
    "from sklearn.ensemble import RandomForestClassifier\n",
    "from sklearn.model_selection import GridSearchCV\n",
    "from sklearn.metrics import classification_report\n",
    "\n",
    "import warnings\n",
    "warnings.filterwarnings(action='ignore')"
   ]
  },
  {
   "cell_type": "code",
   "execution_count": 2,
   "metadata": {},
   "outputs": [
    {
     "data": {
      "text/html": [
       "<div>\n",
       "<style scoped>\n",
       "    .dataframe tbody tr th:only-of-type {\n",
       "        vertical-align: middle;\n",
       "    }\n",
       "\n",
       "    .dataframe tbody tr th {\n",
       "        vertical-align: top;\n",
       "    }\n",
       "\n",
       "    .dataframe thead th {\n",
       "        text-align: right;\n",
       "    }\n",
       "</style>\n",
       "<table border=\"1\" class=\"dataframe\">\n",
       "  <thead>\n",
       "    <tr style=\"text-align: right;\">\n",
       "      <th></th>\n",
       "      <th>pH</th>\n",
       "      <th>Temprature</th>\n",
       "      <th>Taste</th>\n",
       "      <th>Odor</th>\n",
       "      <th>Fat</th>\n",
       "      <th>Turbidity</th>\n",
       "      <th>Colour</th>\n",
       "      <th>Grade</th>\n",
       "    </tr>\n",
       "  </thead>\n",
       "  <tbody>\n",
       "    <tr>\n",
       "      <th>0</th>\n",
       "      <td>6.6</td>\n",
       "      <td>35</td>\n",
       "      <td>Good</td>\n",
       "      <td>Bad</td>\n",
       "      <td>High</td>\n",
       "      <td>Low</td>\n",
       "      <td>254.0</td>\n",
       "      <td>high</td>\n",
       "    </tr>\n",
       "    <tr>\n",
       "      <th>1</th>\n",
       "      <td>6.6</td>\n",
       "      <td>36</td>\n",
       "      <td>Bad</td>\n",
       "      <td>Good</td>\n",
       "      <td>Low</td>\n",
       "      <td>High</td>\n",
       "      <td>253.0</td>\n",
       "      <td>high</td>\n",
       "    </tr>\n",
       "    <tr>\n",
       "      <th>2</th>\n",
       "      <td>8.5</td>\n",
       "      <td>70</td>\n",
       "      <td>Good</td>\n",
       "      <td>Good</td>\n",
       "      <td>High</td>\n",
       "      <td>High</td>\n",
       "      <td>246.0</td>\n",
       "      <td>low</td>\n",
       "    </tr>\n",
       "    <tr>\n",
       "      <th>3</th>\n",
       "      <td>9.5</td>\n",
       "      <td>34</td>\n",
       "      <td>Good</td>\n",
       "      <td>Good</td>\n",
       "      <td>Low</td>\n",
       "      <td>High</td>\n",
       "      <td>255.0</td>\n",
       "      <td>low</td>\n",
       "    </tr>\n",
       "    <tr>\n",
       "      <th>4</th>\n",
       "      <td>6.6</td>\n",
       "      <td>37</td>\n",
       "      <td>Bad</td>\n",
       "      <td>Bad</td>\n",
       "      <td>Low</td>\n",
       "      <td>Low</td>\n",
       "      <td>255.0</td>\n",
       "      <td>medium</td>\n",
       "    </tr>\n",
       "  </tbody>\n",
       "</table>\n",
       "</div>"
      ],
      "text/plain": [
       "    pH  Temprature Taste  Odor  Fat  Turbidity  Colour   Grade\n",
       "0  6.6          35  Good   Bad  High       Low   254.0    high\n",
       "1  6.6          36   Bad  Good   Low      High   253.0    high\n",
       "2  8.5          70  Good  Good  High      High   246.0     low\n",
       "3  9.5          34  Good  Good   Low      High   255.0     low\n",
       "4  6.6          37   Bad   Bad   Low       Low   255.0  medium"
      ]
     },
     "execution_count": 2,
     "metadata": {},
     "output_type": "execute_result"
    }
   ],
   "source": [
    "df = pd.read_csv('milk.csv')\n",
    "df.head()"
   ]
  },
  {
   "cell_type": "code",
   "execution_count": 3,
   "metadata": {},
   "outputs": [
    {
     "name": "stdout",
     "output_type": "stream",
     "text": [
      "<class 'pandas.core.frame.DataFrame'>\n",
      "RangeIndex: 1059 entries, 0 to 1058\n",
      "Data columns (total 8 columns):\n",
      " #   Column      Non-Null Count  Dtype  \n",
      "---  ------      --------------  -----  \n",
      " 0   pH          1042 non-null   float64\n",
      " 1   Temprature  1059 non-null   int64  \n",
      " 2   Taste       1032 non-null   object \n",
      " 3   Odor        1059 non-null   object \n",
      " 4   Fat         1059 non-null   object \n",
      " 5   Turbidity   1059 non-null   object \n",
      " 6   Colour      1033 non-null   float64\n",
      " 7   Grade       1059 non-null   object \n",
      "dtypes: float64(2), int64(1), object(5)\n",
      "memory usage: 66.3+ KB\n"
     ]
    }
   ],
   "source": [
    "df.info()"
   ]
  },
  {
   "cell_type": "code",
   "execution_count": 4,
   "metadata": {},
   "outputs": [
    {
     "data": {
      "text/plain": [
       "pH            17\n",
       "Temprature     0\n",
       "Taste         27\n",
       "Odor           0\n",
       "Fat            0\n",
       "Turbidity      0\n",
       "Colour        26\n",
       "Grade          0\n",
       "dtype: int64"
      ]
     },
     "execution_count": 4,
     "metadata": {},
     "output_type": "execute_result"
    }
   ],
   "source": [
    "df.isnull().sum()"
   ]
  },
  {
   "cell_type": "code",
   "execution_count": 5,
   "metadata": {},
   "outputs": [
    {
     "data": {
      "text/html": [
       "<div>\n",
       "<style scoped>\n",
       "    .dataframe tbody tr th:only-of-type {\n",
       "        vertical-align: middle;\n",
       "    }\n",
       "\n",
       "    .dataframe tbody tr th {\n",
       "        vertical-align: top;\n",
       "    }\n",
       "\n",
       "    .dataframe thead th {\n",
       "        text-align: right;\n",
       "    }\n",
       "</style>\n",
       "<table border=\"1\" class=\"dataframe\">\n",
       "  <thead>\n",
       "    <tr style=\"text-align: right;\">\n",
       "      <th></th>\n",
       "      <th>pH</th>\n",
       "      <th>Temprature</th>\n",
       "      <th>Colour</th>\n",
       "    </tr>\n",
       "  </thead>\n",
       "  <tbody>\n",
       "    <tr>\n",
       "      <th>count</th>\n",
       "      <td>1042.000000</td>\n",
       "      <td>1059.000000</td>\n",
       "      <td>1033.000000</td>\n",
       "    </tr>\n",
       "    <tr>\n",
       "      <th>mean</th>\n",
       "      <td>6.625624</td>\n",
       "      <td>44.226629</td>\n",
       "      <td>251.820910</td>\n",
       "    </tr>\n",
       "    <tr>\n",
       "      <th>std</th>\n",
       "      <td>1.401326</td>\n",
       "      <td>10.098364</td>\n",
       "      <td>4.321152</td>\n",
       "    </tr>\n",
       "    <tr>\n",
       "      <th>min</th>\n",
       "      <td>3.000000</td>\n",
       "      <td>34.000000</td>\n",
       "      <td>240.000000</td>\n",
       "    </tr>\n",
       "    <tr>\n",
       "      <th>25%</th>\n",
       "      <td>6.500000</td>\n",
       "      <td>38.000000</td>\n",
       "      <td>250.000000</td>\n",
       "    </tr>\n",
       "    <tr>\n",
       "      <th>50%</th>\n",
       "      <td>6.700000</td>\n",
       "      <td>41.000000</td>\n",
       "      <td>255.000000</td>\n",
       "    </tr>\n",
       "    <tr>\n",
       "      <th>75%</th>\n",
       "      <td>6.800000</td>\n",
       "      <td>45.000000</td>\n",
       "      <td>255.000000</td>\n",
       "    </tr>\n",
       "    <tr>\n",
       "      <th>max</th>\n",
       "      <td>9.500000</td>\n",
       "      <td>90.000000</td>\n",
       "      <td>255.000000</td>\n",
       "    </tr>\n",
       "  </tbody>\n",
       "</table>\n",
       "</div>"
      ],
      "text/plain": [
       "                pH   Temprature       Colour\n",
       "count  1042.000000  1059.000000  1033.000000\n",
       "mean      6.625624    44.226629   251.820910\n",
       "std       1.401326    10.098364     4.321152\n",
       "min       3.000000    34.000000   240.000000\n",
       "25%       6.500000    38.000000   250.000000\n",
       "50%       6.700000    41.000000   255.000000\n",
       "75%       6.800000    45.000000   255.000000\n",
       "max       9.500000    90.000000   255.000000"
      ]
     },
     "execution_count": 5,
     "metadata": {},
     "output_type": "execute_result"
    }
   ],
   "source": [
    "df.describe()"
   ]
  },
  {
   "cell_type": "code",
   "execution_count": 6,
   "metadata": {},
   "outputs": [
    {
     "name": "stdout",
     "output_type": "stream",
     "text": [
      "Taste\n",
      "Good    564\n",
      "Bad     468\n",
      "Name: Taste, dtype: int64\n",
      "------------------------------\n",
      "Odor\n",
      "Bad     601\n",
      "Good    458\n",
      "Name: Odor, dtype: int64\n",
      "------------------------------\n",
      "Fat \n",
      "High    711\n",
      "Low     348\n",
      "Name: Fat , dtype: int64\n",
      "------------------------------\n",
      "Turbidity\n",
      "Low     539\n",
      "High    520\n",
      "Name: Turbidity, dtype: int64\n",
      "------------------------------\n",
      "Grade\n",
      "low       429\n",
      "medium    374\n",
      "high      256\n",
      "Name: Grade, dtype: int64\n",
      "------------------------------\n"
     ]
    }
   ],
   "source": [
    "cat_col = df.select_dtypes(include=['object']).columns.tolist()\n",
    "\n",
    "for i in cat_col:\n",
    "    print(i)\n",
    "    print(df[i].value_counts())\n",
    "    print('-'*30)"
   ]
  },
  {
   "cell_type": "markdown",
   "metadata": {},
   "source": [
    "## **Data Cleaning**"
   ]
  },
  {
   "cell_type": "code",
   "execution_count": 7,
   "metadata": {},
   "outputs": [],
   "source": [
    "# rename column\n",
    "df.rename({'Fat ': 'Fat'}, axis=1, inplace=True)"
   ]
  },
  {
   "cell_type": "code",
   "execution_count": 8,
   "metadata": {},
   "outputs": [
    {
     "data": {
      "text/plain": [
       "Index(['pH', 'Temprature', 'Taste', 'Odor', 'Fat', 'Turbidity', 'Colour',\n",
       "       'Grade'],\n",
       "      dtype='object')"
      ]
     },
     "execution_count": 8,
     "metadata": {},
     "output_type": "execute_result"
    }
   ],
   "source": [
    "df.columns"
   ]
  },
  {
   "cell_type": "code",
   "execution_count": 9,
   "metadata": {},
   "outputs": [
    {
     "data": {
      "text/plain": [
       "low       429\n",
       "medium    374\n",
       "high      256\n",
       "Name: Grade, dtype: int64"
      ]
     },
     "execution_count": 9,
     "metadata": {},
     "output_type": "execute_result"
    }
   ],
   "source": [
    "# target encoding\n",
    "df.Grade.value_counts()"
   ]
  },
  {
   "cell_type": "code",
   "execution_count": 10,
   "metadata": {},
   "outputs": [
    {
     "data": {
      "text/plain": [
       "0    429\n",
       "1    374\n",
       "2    256\n",
       "Name: Grade, dtype: int64"
      ]
     },
     "execution_count": 10,
     "metadata": {},
     "output_type": "execute_result"
    }
   ],
   "source": [
    "df.Grade.replace({'low': 0, 'medium': 1, 'high': 2}, inplace=True)\n",
    "df.Grade.value_counts()"
   ]
  },
  {
   "cell_type": "code",
   "execution_count": 11,
   "metadata": {},
   "outputs": [
    {
     "name": "stdout",
     "output_type": "stream",
     "text": [
      "(741, 7)\n",
      "(318, 7)\n",
      "(741,)\n",
      "(318,)\n"
     ]
    }
   ],
   "source": [
    "# split\n",
    "X = df.drop('Grade', axis=1)\n",
    "y = df.Grade\n",
    "\n",
    "X_train, X_test, y_train, y_test = train_test_split(X, y, test_size=0.3, stratify=y, random_state=0)\n",
    "\n",
    "for i in [X_train, X_test, y_train, y_test]:\n",
    "    print(i.shape)"
   ]
  },
  {
   "cell_type": "code",
   "execution_count": 12,
   "metadata": {},
   "outputs": [
    {
     "data": {
      "text/plain": [
       "(741, 8)"
      ]
     },
     "execution_count": 12,
     "metadata": {},
     "output_type": "execute_result"
    }
   ],
   "source": [
    "df_eda = pd.concat([X_train, y_train], axis=1)\n",
    "df_eda.shape"
   ]
  },
  {
   "cell_type": "code",
   "execution_count": 13,
   "metadata": {},
   "outputs": [],
   "source": [
    "X_train_eda = X_train.copy()"
   ]
  },
  {
   "cell_type": "markdown",
   "metadata": {},
   "source": [
    "## **EDA for Modeling**"
   ]
  },
  {
   "cell_type": "code",
   "execution_count": 14,
   "metadata": {},
   "outputs": [
    {
     "data": {
      "text/html": [
       "<div>\n",
       "<style scoped>\n",
       "    .dataframe tbody tr th:only-of-type {\n",
       "        vertical-align: middle;\n",
       "    }\n",
       "\n",
       "    .dataframe tbody tr th {\n",
       "        vertical-align: top;\n",
       "    }\n",
       "\n",
       "    .dataframe thead th {\n",
       "        text-align: right;\n",
       "    }\n",
       "</style>\n",
       "<table border=\"1\" class=\"dataframe\">\n",
       "  <thead>\n",
       "    <tr style=\"text-align: right;\">\n",
       "      <th></th>\n",
       "      <th>pH</th>\n",
       "      <th>Temprature</th>\n",
       "      <th>Taste</th>\n",
       "      <th>Odor</th>\n",
       "      <th>Fat</th>\n",
       "      <th>Turbidity</th>\n",
       "      <th>Colour</th>\n",
       "      <th>Grade</th>\n",
       "    </tr>\n",
       "  </thead>\n",
       "  <tbody>\n",
       "    <tr>\n",
       "      <th>143</th>\n",
       "      <td>3.0</td>\n",
       "      <td>40</td>\n",
       "      <td>Good</td>\n",
       "      <td>Bad</td>\n",
       "      <td>Low</td>\n",
       "      <td>Low</td>\n",
       "      <td>255.0</td>\n",
       "      <td>0</td>\n",
       "    </tr>\n",
       "    <tr>\n",
       "      <th>576</th>\n",
       "      <td>6.6</td>\n",
       "      <td>40</td>\n",
       "      <td>Good</td>\n",
       "      <td>Bad</td>\n",
       "      <td>High</td>\n",
       "      <td>High</td>\n",
       "      <td>255.0</td>\n",
       "      <td>2</td>\n",
       "    </tr>\n",
       "    <tr>\n",
       "      <th>686</th>\n",
       "      <td>3.0</td>\n",
       "      <td>40</td>\n",
       "      <td>Good</td>\n",
       "      <td>Good</td>\n",
       "      <td>High</td>\n",
       "      <td>High</td>\n",
       "      <td>255.0</td>\n",
       "      <td>0</td>\n",
       "    </tr>\n",
       "    <tr>\n",
       "      <th>544</th>\n",
       "      <td>6.5</td>\n",
       "      <td>37</td>\n",
       "      <td>Bad</td>\n",
       "      <td>Bad</td>\n",
       "      <td>Low</td>\n",
       "      <td>Low</td>\n",
       "      <td>255.0</td>\n",
       "      <td>1</td>\n",
       "    </tr>\n",
       "    <tr>\n",
       "      <th>889</th>\n",
       "      <td>6.8</td>\n",
       "      <td>45</td>\n",
       "      <td>Good</td>\n",
       "      <td>Good</td>\n",
       "      <td>High</td>\n",
       "      <td>High</td>\n",
       "      <td>245.0</td>\n",
       "      <td>2</td>\n",
       "    </tr>\n",
       "  </tbody>\n",
       "</table>\n",
       "</div>"
      ],
      "text/plain": [
       "      pH  Temprature Taste  Odor   Fat Turbidity  Colour  Grade\n",
       "143  3.0          40  Good   Bad   Low       Low   255.0      0\n",
       "576  6.6          40  Good   Bad  High      High   255.0      2\n",
       "686  3.0          40  Good  Good  High      High   255.0      0\n",
       "544  6.5          37   Bad   Bad   Low       Low   255.0      1\n",
       "889  6.8          45  Good  Good  High      High   245.0      2"
      ]
     },
     "execution_count": 14,
     "metadata": {},
     "output_type": "execute_result"
    }
   ],
   "source": [
    "df_eda.head()"
   ]
  },
  {
   "cell_type": "code",
   "execution_count": 15,
   "metadata": {},
   "outputs": [],
   "source": [
    "num_col = ['pH', 'Temprature', 'Colour']\n",
    "cat_col = ['Taste', 'Odor', 'Fat', 'Turbidity']"
   ]
  },
  {
   "cell_type": "markdown",
   "metadata": {},
   "source": [
    "**numerical preprocess**"
   ]
  },
  {
   "cell_type": "code",
   "execution_count": 16,
   "metadata": {},
   "outputs": [
    {
     "data": {
      "text/html": [
       "<div>\n",
       "<style scoped>\n",
       "    .dataframe tbody tr th:only-of-type {\n",
       "        vertical-align: middle;\n",
       "    }\n",
       "\n",
       "    .dataframe tbody tr th {\n",
       "        vertical-align: top;\n",
       "    }\n",
       "\n",
       "    .dataframe thead th {\n",
       "        text-align: right;\n",
       "    }\n",
       "</style>\n",
       "<table border=\"1\" class=\"dataframe\">\n",
       "  <thead>\n",
       "    <tr style=\"text-align: right;\">\n",
       "      <th></th>\n",
       "      <th>pH</th>\n",
       "      <th>Temprature</th>\n",
       "      <th>Colour</th>\n",
       "    </tr>\n",
       "  </thead>\n",
       "  <tbody>\n",
       "    <tr>\n",
       "      <th>0</th>\n",
       "      <td>6.6</td>\n",
       "      <td>35</td>\n",
       "      <td>254.0</td>\n",
       "    </tr>\n",
       "    <tr>\n",
       "      <th>1</th>\n",
       "      <td>6.6</td>\n",
       "      <td>36</td>\n",
       "      <td>253.0</td>\n",
       "    </tr>\n",
       "    <tr>\n",
       "      <th>2</th>\n",
       "      <td>8.5</td>\n",
       "      <td>70</td>\n",
       "      <td>246.0</td>\n",
       "    </tr>\n",
       "    <tr>\n",
       "      <th>3</th>\n",
       "      <td>9.5</td>\n",
       "      <td>34</td>\n",
       "      <td>255.0</td>\n",
       "    </tr>\n",
       "    <tr>\n",
       "      <th>4</th>\n",
       "      <td>6.6</td>\n",
       "      <td>37</td>\n",
       "      <td>255.0</td>\n",
       "    </tr>\n",
       "    <tr>\n",
       "      <th>...</th>\n",
       "      <td>...</td>\n",
       "      <td>...</td>\n",
       "      <td>...</td>\n",
       "    </tr>\n",
       "    <tr>\n",
       "      <th>1054</th>\n",
       "      <td>6.7</td>\n",
       "      <td>45</td>\n",
       "      <td>247.0</td>\n",
       "    </tr>\n",
       "    <tr>\n",
       "      <th>1055</th>\n",
       "      <td>6.7</td>\n",
       "      <td>38</td>\n",
       "      <td>255.0</td>\n",
       "    </tr>\n",
       "    <tr>\n",
       "      <th>1056</th>\n",
       "      <td>3.0</td>\n",
       "      <td>40</td>\n",
       "      <td>255.0</td>\n",
       "    </tr>\n",
       "    <tr>\n",
       "      <th>1057</th>\n",
       "      <td>6.8</td>\n",
       "      <td>43</td>\n",
       "      <td>250.0</td>\n",
       "    </tr>\n",
       "    <tr>\n",
       "      <th>1058</th>\n",
       "      <td>8.6</td>\n",
       "      <td>55</td>\n",
       "      <td>255.0</td>\n",
       "    </tr>\n",
       "  </tbody>\n",
       "</table>\n",
       "<p>1059 rows × 3 columns</p>\n",
       "</div>"
      ],
      "text/plain": [
       "       pH  Temprature  Colour\n",
       "0     6.6          35   254.0\n",
       "1     6.6          36   253.0\n",
       "2     8.5          70   246.0\n",
       "3     9.5          34   255.0\n",
       "4     6.6          37   255.0\n",
       "...   ...         ...     ...\n",
       "1054  6.7          45   247.0\n",
       "1055  6.7          38   255.0\n",
       "1056  3.0          40   255.0\n",
       "1057  6.8          43   250.0\n",
       "1058  8.6          55   255.0\n",
       "\n",
       "[1059 rows x 3 columns]"
      ]
     },
     "execution_count": 16,
     "metadata": {},
     "output_type": "execute_result"
    }
   ],
   "source": [
    "df[num_col]"
   ]
  },
  {
   "cell_type": "code",
   "execution_count": 17,
   "metadata": {},
   "outputs": [
    {
     "data": {
      "image/png": "[encoded data removed]",
      "text/plain": [
       "<Figure size 1800x720 with 3 Axes>"
      ]
     },
     "metadata": {
      "needs_background": "light"
     },
     "output_type": "display_data"
    }
   ],
   "source": [
    "fig, ax = plt.subplots(ncols=3, figsize=[25,10])\n",
    "ax = ax.flatten()\n",
    "\n",
    "for idx, col in enumerate(num_col):\n",
    "    sns.histplot(df_eda[col], ax=ax[idx])\n",
    "    ax[idx].set_title(f'{num_col[idx]} skew: {df_eda[col].skew()}')"
   ]
  },
  {
   "cell_type": "code",
   "execution_count": 18,
   "metadata": {},
   "outputs": [
    {
     "name": "stdout",
     "output_type": "stream",
     "text": [
      "percentage:  0.0 %\n"
     ]
    }
   ],
   "source": [
    "# outlier detection in pH\n",
    "# gaussian\n",
    "upper = df_eda['pH'].mean() + (3*df['pH'].std())\n",
    "lower = df_eda['pH'].mean() - (3*df['pH'].std())\n",
    "\n",
    "outlier = df_eda[(df_eda['pH'] <= lower) | (df_eda['pH'] >= upper)]\n",
    "\n",
    "print('percentage: ', len(outlier)/df.shape[0] * 100, '%')"
   ]
  },
  {
   "cell_type": "code",
   "execution_count": 19,
   "metadata": {},
   "outputs": [
    {
     "name": "stdout",
     "output_type": "stream",
     "text": [
      "percentage:  3.9660056657223794 %\n",
      "upper:  66.0\n",
      "lower:  17.0\n"
     ]
    }
   ],
   "source": [
    "# outlier detection in Temperature\n",
    "Q1 = df_eda['Temprature'].quantile(.25)\n",
    "Q3 = df_eda['Temprature'].quantile(.75)\n",
    "\n",
    "IQR = Q3 - Q1\n",
    "\n",
    "upper = Q3 + (3*IQR)\n",
    "lower = Q1 - (3*IQR)\n",
    "\n",
    "outlier = df_eda[(df_eda['Temprature'] <= lower) | (df_eda['Temprature'] >= upper)]\n",
    "\n",
    "print('percentage: ', len(outlier)/df.shape[0] * 100, '%')\n",
    "print('upper: ', upper)\n",
    "print('lower: ', lower)"
   ]
  },
  {
   "cell_type": "code",
   "execution_count": 20,
   "metadata": {},
   "outputs": [
    {
     "name": "stdout",
     "output_type": "stream",
     "text": [
      "percentage:  0.0 %\n"
     ]
    }
   ],
   "source": [
    "# outlier detection in Colour\n",
    "Q1 = df_eda['Colour'].quantile(.25)\n",
    "Q3 = df_eda['Colour'].quantile(.75)\n",
    "\n",
    "IQR = Q3 - Q1\n",
    "\n",
    "upper = Q3 + (3*IQR)\n",
    "lower = Q1 - (3*IQR)\n",
    "\n",
    "outlier = df_eda[(df_eda['Colour'] <= lower) | (df_eda['Colour'] >= upper)]\n",
    "\n",
    "print('percentage: ', len(outlier)/df.shape[0] * 100, '%')"
   ]
  },
  {
   "cell_type": "markdown",
   "metadata": {},
   "source": [
    "outlier only exist in Temprature columns, using fold 3 IQR. will be handled using winsorizer transformer"
   ]
  },
  {
   "cell_type": "code",
   "execution_count": 21,
   "metadata": {},
   "outputs": [
    {
     "data": {
      "text/html": [
       "<div>\n",
       "<style scoped>\n",
       "    .dataframe tbody tr th:only-of-type {\n",
       "        vertical-align: middle;\n",
       "    }\n",
       "\n",
       "    .dataframe tbody tr th {\n",
       "        vertical-align: top;\n",
       "    }\n",
       "\n",
       "    .dataframe thead th {\n",
       "        text-align: right;\n",
       "    }\n",
       "</style>\n",
       "<table border=\"1\" class=\"dataframe\">\n",
       "  <thead>\n",
       "    <tr style=\"text-align: right;\">\n",
       "      <th></th>\n",
       "      <th>pH</th>\n",
       "      <th>Temprature</th>\n",
       "      <th>Colour</th>\n",
       "    </tr>\n",
       "  </thead>\n",
       "  <tbody>\n",
       "    <tr>\n",
       "      <th>count</th>\n",
       "      <td>729.000000</td>\n",
       "      <td>741.000000</td>\n",
       "      <td>723.000000</td>\n",
       "    </tr>\n",
       "    <tr>\n",
       "      <th>mean</th>\n",
       "      <td>6.593964</td>\n",
       "      <td>43.847503</td>\n",
       "      <td>251.788382</td>\n",
       "    </tr>\n",
       "    <tr>\n",
       "      <th>std</th>\n",
       "      <td>1.406321</td>\n",
       "      <td>8.431742</td>\n",
       "      <td>4.309466</td>\n",
       "    </tr>\n",
       "    <tr>\n",
       "      <th>min</th>\n",
       "      <td>3.000000</td>\n",
       "      <td>34.000000</td>\n",
       "      <td>240.000000</td>\n",
       "    </tr>\n",
       "    <tr>\n",
       "      <th>25%</th>\n",
       "      <td>6.500000</td>\n",
       "      <td>38.000000</td>\n",
       "      <td>248.000000</td>\n",
       "    </tr>\n",
       "    <tr>\n",
       "      <th>50%</th>\n",
       "      <td>6.700000</td>\n",
       "      <td>41.000000</td>\n",
       "      <td>255.000000</td>\n",
       "    </tr>\n",
       "    <tr>\n",
       "      <th>75%</th>\n",
       "      <td>6.800000</td>\n",
       "      <td>45.000000</td>\n",
       "      <td>255.000000</td>\n",
       "    </tr>\n",
       "    <tr>\n",
       "      <th>max</th>\n",
       "      <td>9.500000</td>\n",
       "      <td>66.000000</td>\n",
       "      <td>255.000000</td>\n",
       "    </tr>\n",
       "  </tbody>\n",
       "</table>\n",
       "</div>"
      ],
      "text/plain": [
       "               pH  Temprature      Colour\n",
       "count  729.000000  741.000000  723.000000\n",
       "mean     6.593964   43.847503  251.788382\n",
       "std      1.406321    8.431742    4.309466\n",
       "min      3.000000   34.000000  240.000000\n",
       "25%      6.500000   38.000000  248.000000\n",
       "50%      6.700000   41.000000  255.000000\n",
       "75%      6.800000   45.000000  255.000000\n",
       "max      9.500000   66.000000  255.000000"
      ]
     },
     "execution_count": 21,
     "metadata": {},
     "output_type": "execute_result"
    }
   ],
   "source": [
    "wins = Winsorizer(capping_method='iqr', tail='both', fold=3, variables=['Temprature'])\n",
    "\n",
    "X_train_eda = wins.fit_transform(X_train_eda)\n",
    "X_train_eda.describe()"
   ]
  },
  {
   "cell_type": "markdown",
   "metadata": {},
   "source": [
    "**missing value handling**"
   ]
  },
  {
   "cell_type": "code",
   "execution_count": 22,
   "metadata": {},
   "outputs": [
    {
     "data": {
      "text/plain": [
       "pH            12\n",
       "Temprature     0\n",
       "Colour        18\n",
       "dtype: int64"
      ]
     },
     "execution_count": 22,
     "metadata": {},
     "output_type": "execute_result"
    }
   ],
   "source": [
    "X_train_eda[num_col].isnull().sum()"
   ]
  },
  {
   "cell_type": "markdown",
   "metadata": {},
   "source": [
    "missing value on numerical columns will be handled using median estimator from each columns"
   ]
  },
  {
   "cell_type": "code",
   "execution_count": 23,
   "metadata": {},
   "outputs": [
    {
     "data": {
      "text/plain": [
       "pH            0\n",
       "Temprature    0\n",
       "Colour        0\n",
       "dtype: int64"
      ]
     },
     "execution_count": 23,
     "metadata": {},
     "output_type": "execute_result"
    }
   ],
   "source": [
    "imp_num = SimpleImputer(strategy='median')\n",
    "\n",
    "X_train_eda[num_col] = imp_num.fit_transform(X_train_eda[num_col])\n",
    "X_train_eda[num_col].isnull().sum()"
   ]
  },
  {
   "cell_type": "code",
   "execution_count": 24,
   "metadata": {},
   "outputs": [
    {
     "data": {
      "text/plain": [
       "array([  6.7,  41. , 255. ])"
      ]
     },
     "execution_count": 24,
     "metadata": {},
     "output_type": "execute_result"
    }
   ],
   "source": [
    "imp_num.statistics_"
   ]
  },
  {
   "cell_type": "code",
   "execution_count": 25,
   "metadata": {},
   "outputs": [
    {
     "data": {
      "text/html": [
       "<div>\n",
       "<style scoped>\n",
       "    .dataframe tbody tr th:only-of-type {\n",
       "        vertical-align: middle;\n",
       "    }\n",
       "\n",
       "    .dataframe tbody tr th {\n",
       "        vertical-align: top;\n",
       "    }\n",
       "\n",
       "    .dataframe thead th {\n",
       "        text-align: right;\n",
       "    }\n",
       "</style>\n",
       "<table border=\"1\" class=\"dataframe\">\n",
       "  <thead>\n",
       "    <tr style=\"text-align: right;\">\n",
       "      <th></th>\n",
       "      <th>pH</th>\n",
       "      <th>Temprature</th>\n",
       "      <th>Colour</th>\n",
       "    </tr>\n",
       "  </thead>\n",
       "  <tbody>\n",
       "    <tr>\n",
       "      <th>count</th>\n",
       "      <td>741.000000</td>\n",
       "      <td>741.000000</td>\n",
       "      <td>741.000000</td>\n",
       "    </tr>\n",
       "    <tr>\n",
       "      <th>mean</th>\n",
       "      <td>6.595682</td>\n",
       "      <td>43.847503</td>\n",
       "      <td>251.866397</td>\n",
       "    </tr>\n",
       "    <tr>\n",
       "      <th>std</th>\n",
       "      <td>1.394936</td>\n",
       "      <td>8.431742</td>\n",
       "      <td>4.285389</td>\n",
       "    </tr>\n",
       "    <tr>\n",
       "      <th>min</th>\n",
       "      <td>3.000000</td>\n",
       "      <td>34.000000</td>\n",
       "      <td>240.000000</td>\n",
       "    </tr>\n",
       "    <tr>\n",
       "      <th>25%</th>\n",
       "      <td>6.500000</td>\n",
       "      <td>38.000000</td>\n",
       "      <td>250.000000</td>\n",
       "    </tr>\n",
       "    <tr>\n",
       "      <th>50%</th>\n",
       "      <td>6.700000</td>\n",
       "      <td>41.000000</td>\n",
       "      <td>255.000000</td>\n",
       "    </tr>\n",
       "    <tr>\n",
       "      <th>75%</th>\n",
       "      <td>6.800000</td>\n",
       "      <td>45.000000</td>\n",
       "      <td>255.000000</td>\n",
       "    </tr>\n",
       "    <tr>\n",
       "      <th>max</th>\n",
       "      <td>9.500000</td>\n",
       "      <td>66.000000</td>\n",
       "      <td>255.000000</td>\n",
       "    </tr>\n",
       "  </tbody>\n",
       "</table>\n",
       "</div>"
      ],
      "text/plain": [
       "               pH  Temprature      Colour\n",
       "count  741.000000  741.000000  741.000000\n",
       "mean     6.595682   43.847503  251.866397\n",
       "std      1.394936    8.431742    4.285389\n",
       "min      3.000000   34.000000  240.000000\n",
       "25%      6.500000   38.000000  250.000000\n",
       "50%      6.700000   41.000000  255.000000\n",
       "75%      6.800000   45.000000  255.000000\n",
       "max      9.500000   66.000000  255.000000"
      ]
     },
     "execution_count": 25,
     "metadata": {},
     "output_type": "execute_result"
    }
   ],
   "source": [
    "X_train_eda.describe()"
   ]
  },
  {
   "cell_type": "markdown",
   "metadata": {},
   "source": [
    "**scaling features numeric**"
   ]
  },
  {
   "cell_type": "code",
   "execution_count": 26,
   "metadata": {},
   "outputs": [
    {
     "data": {
      "text/html": [
       "<div>\n",
       "<style scoped>\n",
       "    .dataframe tbody tr th:only-of-type {\n",
       "        vertical-align: middle;\n",
       "    }\n",
       "\n",
       "    .dataframe tbody tr th {\n",
       "        vertical-align: top;\n",
       "    }\n",
       "\n",
       "    .dataframe thead th {\n",
       "        text-align: right;\n",
       "    }\n",
       "</style>\n",
       "<table border=\"1\" class=\"dataframe\">\n",
       "  <thead>\n",
       "    <tr style=\"text-align: right;\">\n",
       "      <th></th>\n",
       "      <th>pH</th>\n",
       "      <th>Temprature</th>\n",
       "      <th>Taste</th>\n",
       "      <th>Odor</th>\n",
       "      <th>Fat</th>\n",
       "      <th>Turbidity</th>\n",
       "      <th>Colour</th>\n",
       "    </tr>\n",
       "  </thead>\n",
       "  <tbody>\n",
       "    <tr>\n",
       "      <th>143</th>\n",
       "      <td>-2.579409</td>\n",
       "      <td>-0.456620</td>\n",
       "      <td>Good</td>\n",
       "      <td>Bad</td>\n",
       "      <td>Low</td>\n",
       "      <td>Low</td>\n",
       "      <td>0.731724</td>\n",
       "    </tr>\n",
       "    <tr>\n",
       "      <th>576</th>\n",
       "      <td>0.003098</td>\n",
       "      <td>-0.456620</td>\n",
       "      <td>Good</td>\n",
       "      <td>Bad</td>\n",
       "      <td>High</td>\n",
       "      <td>High</td>\n",
       "      <td>0.731724</td>\n",
       "    </tr>\n",
       "    <tr>\n",
       "      <th>686</th>\n",
       "      <td>-2.579409</td>\n",
       "      <td>-0.456620</td>\n",
       "      <td>Good</td>\n",
       "      <td>Good</td>\n",
       "      <td>High</td>\n",
       "      <td>High</td>\n",
       "      <td>0.731724</td>\n",
       "    </tr>\n",
       "    <tr>\n",
       "      <th>544</th>\n",
       "      <td>-0.068638</td>\n",
       "      <td>-0.812659</td>\n",
       "      <td>Bad</td>\n",
       "      <td>Bad</td>\n",
       "      <td>Low</td>\n",
       "      <td>Low</td>\n",
       "      <td>0.731724</td>\n",
       "    </tr>\n",
       "    <tr>\n",
       "      <th>889</th>\n",
       "      <td>0.146571</td>\n",
       "      <td>0.136778</td>\n",
       "      <td>Good</td>\n",
       "      <td>Good</td>\n",
       "      <td>High</td>\n",
       "      <td>High</td>\n",
       "      <td>-1.603363</td>\n",
       "    </tr>\n",
       "    <tr>\n",
       "      <th>...</th>\n",
       "      <td>...</td>\n",
       "      <td>...</td>\n",
       "      <td>...</td>\n",
       "      <td>...</td>\n",
       "      <td>...</td>\n",
       "      <td>...</td>\n",
       "      <td>...</td>\n",
       "    </tr>\n",
       "    <tr>\n",
       "      <th>440</th>\n",
       "      <td>0.003098</td>\n",
       "      <td>0.136778</td>\n",
       "      <td>Bad</td>\n",
       "      <td>Bad</td>\n",
       "      <td>Low</td>\n",
       "      <td>High</td>\n",
       "      <td>-0.435820</td>\n",
       "    </tr>\n",
       "    <tr>\n",
       "      <th>840</th>\n",
       "      <td>-0.068638</td>\n",
       "      <td>-0.931338</td>\n",
       "      <td>Bad</td>\n",
       "      <td>Bad</td>\n",
       "      <td>High</td>\n",
       "      <td>Low</td>\n",
       "      <td>0.731724</td>\n",
       "    </tr>\n",
       "    <tr>\n",
       "      <th>429</th>\n",
       "      <td>0.074834</td>\n",
       "      <td>-0.693979</td>\n",
       "      <td>Good</td>\n",
       "      <td>Bad</td>\n",
       "      <td>High</td>\n",
       "      <td>Low</td>\n",
       "      <td>0.731724</td>\n",
       "    </tr>\n",
       "    <tr>\n",
       "      <th>462</th>\n",
       "      <td>-0.786001</td>\n",
       "      <td>0.136778</td>\n",
       "      <td>Good</td>\n",
       "      <td>Bad</td>\n",
       "      <td>High</td>\n",
       "      <td>High</td>\n",
       "      <td>-0.435820</td>\n",
       "    </tr>\n",
       "    <tr>\n",
       "      <th>1008</th>\n",
       "      <td>-2.579409</td>\n",
       "      <td>-0.456620</td>\n",
       "      <td>Good</td>\n",
       "      <td>Good</td>\n",
       "      <td>High</td>\n",
       "      <td>High</td>\n",
       "      <td>0.731724</td>\n",
       "    </tr>\n",
       "  </tbody>\n",
       "</table>\n",
       "<p>741 rows × 7 columns</p>\n",
       "</div>"
      ],
      "text/plain": [
       "            pH  Temprature Taste  Odor   Fat Turbidity    Colour\n",
       "143  -2.579409   -0.456620  Good   Bad   Low       Low  0.731724\n",
       "576   0.003098   -0.456620  Good   Bad  High      High  0.731724\n",
       "686  -2.579409   -0.456620  Good  Good  High      High  0.731724\n",
       "544  -0.068638   -0.812659   Bad   Bad   Low       Low  0.731724\n",
       "889   0.146571    0.136778  Good  Good  High      High -1.603363\n",
       "...        ...         ...   ...   ...   ...       ...       ...\n",
       "440   0.003098    0.136778   Bad   Bad   Low      High -0.435820\n",
       "840  -0.068638   -0.931338   Bad   Bad  High       Low  0.731724\n",
       "429   0.074834   -0.693979  Good   Bad  High       Low  0.731724\n",
       "462  -0.786001    0.136778  Good   Bad  High      High -0.435820\n",
       "1008 -2.579409   -0.456620  Good  Good  High      High  0.731724\n",
       "\n",
       "[741 rows x 7 columns]"
      ]
     },
     "execution_count": 26,
     "metadata": {},
     "output_type": "execute_result"
    }
   ],
   "source": [
    "scaler = StandardScaler()\n",
    "\n",
    "X_train_eda[num_col] = scaler.fit_transform(X_train_eda[num_col])\n",
    "X_train_eda"
   ]
  },
  {
   "cell_type": "markdown",
   "metadata": {},
   "source": [
    "**features engineering on categorical column**"
   ]
  },
  {
   "cell_type": "code",
   "execution_count": 27,
   "metadata": {},
   "outputs": [
    {
     "data": {
      "text/plain": [
       "pH             0\n",
       "Temprature     0\n",
       "Taste         18\n",
       "Odor           0\n",
       "Fat            0\n",
       "Turbidity      0\n",
       "Colour         0\n",
       "dtype: int64"
      ]
     },
     "execution_count": 27,
     "metadata": {},
     "output_type": "execute_result"
    }
   ],
   "source": [
    "X_train_eda.isnull().sum()"
   ]
  },
  {
   "cell_type": "code",
   "execution_count": 28,
   "metadata": {},
   "outputs": [
    {
     "data": {
      "text/plain": [
       "array(['Good', 'Bad', 'High', 'Low'], dtype=object)"
      ]
     },
     "execution_count": 28,
     "metadata": {},
     "output_type": "execute_result"
    }
   ],
   "source": [
    "# missing value handling\n",
    "imp_cat = SimpleImputer(strategy='most_frequent')\n",
    "X_train_eda[cat_col] = imp_cat.fit_transform(X_train_eda[cat_col])\n",
    "\n",
    "imp_cat.statistics_"
   ]
  },
  {
   "cell_type": "code",
   "execution_count": 29,
   "metadata": {},
   "outputs": [
    {
     "data": {
      "text/plain": [
       "pH            0\n",
       "Temprature    0\n",
       "Taste         0\n",
       "Odor          0\n",
       "Fat           0\n",
       "Turbidity     0\n",
       "Colour        0\n",
       "dtype: int64"
      ]
     },
     "execution_count": 29,
     "metadata": {},
     "output_type": "execute_result"
    }
   ],
   "source": [
    "X_train_eda.isnull().sum()"
   ]
  },
  {
   "cell_type": "code",
   "execution_count": 30,
   "metadata": {},
   "outputs": [
    {
     "data": {
      "text/html": [
       "<div>\n",
       "<style scoped>\n",
       "    .dataframe tbody tr th:only-of-type {\n",
       "        vertical-align: middle;\n",
       "    }\n",
       "\n",
       "    .dataframe tbody tr th {\n",
       "        vertical-align: top;\n",
       "    }\n",
       "\n",
       "    .dataframe thead th {\n",
       "        text-align: right;\n",
       "    }\n",
       "</style>\n",
       "<table border=\"1\" class=\"dataframe\">\n",
       "  <thead>\n",
       "    <tr style=\"text-align: right;\">\n",
       "      <th></th>\n",
       "      <th>Taste</th>\n",
       "      <th>Odor</th>\n",
       "      <th>Fat</th>\n",
       "    </tr>\n",
       "  </thead>\n",
       "  <tbody>\n",
       "    <tr>\n",
       "      <th>143</th>\n",
       "      <td>Good</td>\n",
       "      <td>Bad</td>\n",
       "      <td>Low</td>\n",
       "    </tr>\n",
       "    <tr>\n",
       "      <th>576</th>\n",
       "      <td>Good</td>\n",
       "      <td>Bad</td>\n",
       "      <td>High</td>\n",
       "    </tr>\n",
       "    <tr>\n",
       "      <th>686</th>\n",
       "      <td>Good</td>\n",
       "      <td>Good</td>\n",
       "      <td>High</td>\n",
       "    </tr>\n",
       "    <tr>\n",
       "      <th>544</th>\n",
       "      <td>Bad</td>\n",
       "      <td>Bad</td>\n",
       "      <td>Low</td>\n",
       "    </tr>\n",
       "    <tr>\n",
       "      <th>889</th>\n",
       "      <td>Good</td>\n",
       "      <td>Good</td>\n",
       "      <td>High</td>\n",
       "    </tr>\n",
       "    <tr>\n",
       "      <th>...</th>\n",
       "      <td>...</td>\n",
       "      <td>...</td>\n",
       "      <td>...</td>\n",
       "    </tr>\n",
       "    <tr>\n",
       "      <th>440</th>\n",
       "      <td>Bad</td>\n",
       "      <td>Bad</td>\n",
       "      <td>Low</td>\n",
       "    </tr>\n",
       "    <tr>\n",
       "      <th>840</th>\n",
       "      <td>Bad</td>\n",
       "      <td>Bad</td>\n",
       "      <td>High</td>\n",
       "    </tr>\n",
       "    <tr>\n",
       "      <th>429</th>\n",
       "      <td>Good</td>\n",
       "      <td>Bad</td>\n",
       "      <td>High</td>\n",
       "    </tr>\n",
       "    <tr>\n",
       "      <th>462</th>\n",
       "      <td>Good</td>\n",
       "      <td>Bad</td>\n",
       "      <td>High</td>\n",
       "    </tr>\n",
       "    <tr>\n",
       "      <th>1008</th>\n",
       "      <td>Good</td>\n",
       "      <td>Good</td>\n",
       "      <td>High</td>\n",
       "    </tr>\n",
       "  </tbody>\n",
       "</table>\n",
       "<p>741 rows × 3 columns</p>\n",
       "</div>"
      ],
      "text/plain": [
       "     Taste  Odor   Fat\n",
       "143   Good   Bad   Low\n",
       "576   Good   Bad  High\n",
       "686   Good  Good  High\n",
       "544    Bad   Bad   Low\n",
       "889   Good  Good  High\n",
       "...    ...   ...   ...\n",
       "440    Bad   Bad   Low\n",
       "840    Bad   Bad  High\n",
       "429   Good   Bad  High\n",
       "462   Good   Bad  High\n",
       "1008  Good  Good  High\n",
       "\n",
       "[741 rows x 3 columns]"
      ]
     },
     "execution_count": 30,
     "metadata": {},
     "output_type": "execute_result"
    }
   ],
   "source": [
    "X_train_eda[['Taste', 'Odor', 'Fat']]"
   ]
  },
  {
   "cell_type": "code",
   "execution_count": 31,
   "metadata": {},
   "outputs": [
    {
     "data": {
      "text/html": [
       "<div>\n",
       "<style scoped>\n",
       "    .dataframe tbody tr th:only-of-type {\n",
       "        vertical-align: middle;\n",
       "    }\n",
       "\n",
       "    .dataframe tbody tr th {\n",
       "        vertical-align: top;\n",
       "    }\n",
       "\n",
       "    .dataframe thead th {\n",
       "        text-align: right;\n",
       "    }\n",
       "</style>\n",
       "<table border=\"1\" class=\"dataframe\">\n",
       "  <thead>\n",
       "    <tr style=\"text-align: right;\">\n",
       "      <th></th>\n",
       "      <th>Taste</th>\n",
       "      <th>Odor</th>\n",
       "      <th>Fat</th>\n",
       "      <th>Taste_enc</th>\n",
       "      <th>Odor_enc</th>\n",
       "      <th>Fat_enc</th>\n",
       "    </tr>\n",
       "  </thead>\n",
       "  <tbody>\n",
       "    <tr>\n",
       "      <th>718</th>\n",
       "      <td>Bad</td>\n",
       "      <td>Bad</td>\n",
       "      <td>Low</td>\n",
       "      <td>0.0</td>\n",
       "      <td>0.0</td>\n",
       "      <td>0.0</td>\n",
       "    </tr>\n",
       "    <tr>\n",
       "      <th>671</th>\n",
       "      <td>Bad</td>\n",
       "      <td>Bad</td>\n",
       "      <td>Low</td>\n",
       "      <td>0.0</td>\n",
       "      <td>0.0</td>\n",
       "      <td>0.0</td>\n",
       "    </tr>\n",
       "    <tr>\n",
       "      <th>547</th>\n",
       "      <td>Good</td>\n",
       "      <td>Bad</td>\n",
       "      <td>High</td>\n",
       "      <td>1.0</td>\n",
       "      <td>0.0</td>\n",
       "      <td>1.0</td>\n",
       "    </tr>\n",
       "    <tr>\n",
       "      <th>474</th>\n",
       "      <td>Good</td>\n",
       "      <td>Good</td>\n",
       "      <td>High</td>\n",
       "      <td>1.0</td>\n",
       "      <td>1.0</td>\n",
       "      <td>1.0</td>\n",
       "    </tr>\n",
       "    <tr>\n",
       "      <th>207</th>\n",
       "      <td>Bad</td>\n",
       "      <td>Bad</td>\n",
       "      <td>Low</td>\n",
       "      <td>0.0</td>\n",
       "      <td>0.0</td>\n",
       "      <td>0.0</td>\n",
       "    </tr>\n",
       "  </tbody>\n",
       "</table>\n",
       "</div>"
      ],
      "text/plain": [
       "    Taste  Odor   Fat  Taste_enc  Odor_enc  Fat_enc\n",
       "718   Bad   Bad   Low        0.0       0.0      0.0\n",
       "671   Bad   Bad   Low        0.0       0.0      0.0\n",
       "547  Good   Bad  High        1.0       0.0      1.0\n",
       "474  Good  Good  High        1.0       1.0      1.0\n",
       "207   Bad   Bad   Low        0.0       0.0      0.0"
      ]
     },
     "execution_count": 31,
     "metadata": {},
     "output_type": "execute_result"
    }
   ],
   "source": [
    "# encoding Taste, Odor, Fat -> ordinal\n",
    "taste_cat = ['Bad', 'Good']\n",
    "odor_cat = ['Bad', 'Good']\n",
    "fat_cat = ['Low', 'High']\n",
    "\n",
    "ord_enc = OrdinalEncoder(categories=[taste_cat, odor_cat, fat_cat])\n",
    "cat_ord = pd.DataFrame(ord_enc.fit_transform(X_train_eda[['Taste', 'Odor', 'Fat']]))\n",
    "\n",
    "cat_ord.columns = ['Taste_enc', 'Odor_enc', 'Fat_enc']\n",
    "review = pd.concat([X_train_eda[['Taste', 'Odor', 'Fat']].reset_index(drop=True), cat_ord], axis=1)\n",
    "\n",
    "review.sample(5)"
   ]
  },
  {
   "cell_type": "code",
   "execution_count": 32,
   "metadata": {},
   "outputs": [
    {
     "data": {
      "text/html": [
       "<div>\n",
       "<style scoped>\n",
       "    .dataframe tbody tr th:only-of-type {\n",
       "        vertical-align: middle;\n",
       "    }\n",
       "\n",
       "    .dataframe tbody tr th {\n",
       "        vertical-align: top;\n",
       "    }\n",
       "\n",
       "    .dataframe thead th {\n",
       "        text-align: right;\n",
       "    }\n",
       "</style>\n",
       "<table border=\"1\" class=\"dataframe\">\n",
       "  <thead>\n",
       "    <tr style=\"text-align: right;\">\n",
       "      <th></th>\n",
       "      <th>Turbidity</th>\n",
       "      <th>Turbidity_High</th>\n",
       "      <th>Turbidity_Low</th>\n",
       "    </tr>\n",
       "  </thead>\n",
       "  <tbody>\n",
       "    <tr>\n",
       "      <th>280</th>\n",
       "      <td>High</td>\n",
       "      <td>1.0</td>\n",
       "      <td>0.0</td>\n",
       "    </tr>\n",
       "    <tr>\n",
       "      <th>596</th>\n",
       "      <td>High</td>\n",
       "      <td>1.0</td>\n",
       "      <td>0.0</td>\n",
       "    </tr>\n",
       "    <tr>\n",
       "      <th>399</th>\n",
       "      <td>Low</td>\n",
       "      <td>0.0</td>\n",
       "      <td>1.0</td>\n",
       "    </tr>\n",
       "    <tr>\n",
       "      <th>684</th>\n",
       "      <td>High</td>\n",
       "      <td>1.0</td>\n",
       "      <td>0.0</td>\n",
       "    </tr>\n",
       "    <tr>\n",
       "      <th>583</th>\n",
       "      <td>High</td>\n",
       "      <td>1.0</td>\n",
       "      <td>0.0</td>\n",
       "    </tr>\n",
       "  </tbody>\n",
       "</table>\n",
       "</div>"
      ],
      "text/plain": [
       "    Turbidity  Turbidity_High  Turbidity_Low\n",
       "280      High             1.0            0.0\n",
       "596      High             1.0            0.0\n",
       "399       Low             0.0            1.0\n",
       "684      High             1.0            0.0\n",
       "583      High             1.0            0.0"
      ]
     },
     "execution_count": 32,
     "metadata": {},
     "output_type": "execute_result"
    }
   ],
   "source": [
    "# OHE on Turbidity\n",
    "ohe_enc = OneHotEncoder(sparse=False)\n",
    "\n",
    "cat_ohe = pd.DataFrame(ohe_enc.fit_transform(X_train_eda[['Turbidity']]))\n",
    "cat_ohe.columns = ohe_enc.get_feature_names(['Turbidity']).tolist()\n",
    "\n",
    "review = pd.concat([X_train_eda[['Turbidity']].reset_index(drop=True), cat_ohe], axis=1)\n",
    "\n",
    "review.sample(5)"
   ]
  },
  {
   "cell_type": "code",
   "execution_count": 33,
   "metadata": {},
   "outputs": [
    {
     "data": {
      "text/plain": [
       "143     0\n",
       "576     2\n",
       "686     0\n",
       "544     1\n",
       "889     2\n",
       "       ..\n",
       "440     1\n",
       "840     1\n",
       "429     2\n",
       "462     0\n",
       "1008    0\n",
       "Name: Grade, Length: 741, dtype: int64"
      ]
     },
     "execution_count": 33,
     "metadata": {},
     "output_type": "execute_result"
    }
   ],
   "source": [
    "y_train"
   ]
  },
  {
   "cell_type": "code",
   "execution_count": 34,
   "metadata": {},
   "outputs": [
    {
     "data": {
      "text/plain": [
       "(741, 9)"
      ]
     },
     "execution_count": 34,
     "metadata": {},
     "output_type": "execute_result"
    }
   ],
   "source": [
    "X_train_eda = pd.concat([X_train_eda[num_col].reset_index(drop=True), cat_ord, cat_ohe, y_train.reset_index(drop=True)], axis=1)\n",
    "X_train_eda.shape"
   ]
  },
  {
   "cell_type": "code",
   "execution_count": 35,
   "metadata": {},
   "outputs": [
    {
     "data": {
      "text/html": [
       "<div>\n",
       "<style scoped>\n",
       "    .dataframe tbody tr th:only-of-type {\n",
       "        vertical-align: middle;\n",
       "    }\n",
       "\n",
       "    .dataframe tbody tr th {\n",
       "        vertical-align: top;\n",
       "    }\n",
       "\n",
       "    .dataframe thead th {\n",
       "        text-align: right;\n",
       "    }\n",
       "</style>\n",
       "<table border=\"1\" class=\"dataframe\">\n",
       "  <thead>\n",
       "    <tr style=\"text-align: right;\">\n",
       "      <th></th>\n",
       "      <th>pH</th>\n",
       "      <th>Temprature</th>\n",
       "      <th>Colour</th>\n",
       "      <th>Taste_enc</th>\n",
       "      <th>Odor_enc</th>\n",
       "      <th>Fat_enc</th>\n",
       "      <th>Turbidity_High</th>\n",
       "      <th>Turbidity_Low</th>\n",
       "      <th>Grade</th>\n",
       "    </tr>\n",
       "  </thead>\n",
       "  <tbody>\n",
       "    <tr>\n",
       "      <th>0</th>\n",
       "      <td>-2.579409</td>\n",
       "      <td>-0.456620</td>\n",
       "      <td>0.731724</td>\n",
       "      <td>1.0</td>\n",
       "      <td>0.0</td>\n",
       "      <td>0.0</td>\n",
       "      <td>0.0</td>\n",
       "      <td>1.0</td>\n",
       "      <td>0</td>\n",
       "    </tr>\n",
       "    <tr>\n",
       "      <th>1</th>\n",
       "      <td>0.003098</td>\n",
       "      <td>-0.456620</td>\n",
       "      <td>0.731724</td>\n",
       "      <td>1.0</td>\n",
       "      <td>0.0</td>\n",
       "      <td>1.0</td>\n",
       "      <td>1.0</td>\n",
       "      <td>0.0</td>\n",
       "      <td>2</td>\n",
       "    </tr>\n",
       "    <tr>\n",
       "      <th>2</th>\n",
       "      <td>-2.579409</td>\n",
       "      <td>-0.456620</td>\n",
       "      <td>0.731724</td>\n",
       "      <td>1.0</td>\n",
       "      <td>1.0</td>\n",
       "      <td>1.0</td>\n",
       "      <td>1.0</td>\n",
       "      <td>0.0</td>\n",
       "      <td>0</td>\n",
       "    </tr>\n",
       "    <tr>\n",
       "      <th>3</th>\n",
       "      <td>-0.068638</td>\n",
       "      <td>-0.812659</td>\n",
       "      <td>0.731724</td>\n",
       "      <td>0.0</td>\n",
       "      <td>0.0</td>\n",
       "      <td>0.0</td>\n",
       "      <td>0.0</td>\n",
       "      <td>1.0</td>\n",
       "      <td>1</td>\n",
       "    </tr>\n",
       "    <tr>\n",
       "      <th>4</th>\n",
       "      <td>0.146571</td>\n",
       "      <td>0.136778</td>\n",
       "      <td>-1.603363</td>\n",
       "      <td>1.0</td>\n",
       "      <td>1.0</td>\n",
       "      <td>1.0</td>\n",
       "      <td>1.0</td>\n",
       "      <td>0.0</td>\n",
       "      <td>2</td>\n",
       "    </tr>\n",
       "  </tbody>\n",
       "</table>\n",
       "</div>"
      ],
      "text/plain": [
       "         pH  Temprature    Colour  Taste_enc  Odor_enc  Fat_enc  \\\n",
       "0 -2.579409   -0.456620  0.731724        1.0       0.0      0.0   \n",
       "1  0.003098   -0.456620  0.731724        1.0       0.0      1.0   \n",
       "2 -2.579409   -0.456620  0.731724        1.0       1.0      1.0   \n",
       "3 -0.068638   -0.812659  0.731724        0.0       0.0      0.0   \n",
       "4  0.146571    0.136778 -1.603363        1.0       1.0      1.0   \n",
       "\n",
       "   Turbidity_High  Turbidity_Low  Grade  \n",
       "0             0.0            1.0      0  \n",
       "1             1.0            0.0      2  \n",
       "2             1.0            0.0      0  \n",
       "3             0.0            1.0      1  \n",
       "4             1.0            0.0      2  "
      ]
     },
     "execution_count": 35,
     "metadata": {},
     "output_type": "execute_result"
    }
   ],
   "source": [
    "X_train_eda.head()"
   ]
  },
  {
   "cell_type": "code",
   "execution_count": 36,
   "metadata": {},
   "outputs": [
    {
     "data": {
      "image/png": "[encoded data removed]",
      "text/plain": [
       "<Figure size 1440x720 with 2 Axes>"
      ]
     },
     "metadata": {
      "needs_background": "light"
     },
     "output_type": "display_data"
    }
   ],
   "source": [
    "fig,ax = plt.subplots(figsize=[20,10])\n",
    "\n",
    "corr = X_train_eda.corr()\n",
    "\n",
    "ax = sns.heatmap(corr,annot=True)\n",
    "plt.show()"
   ]
  },
  {
   "cell_type": "markdown",
   "metadata": {},
   "source": [
    "Select Temprature, Odor_enc, Fat_enc, TUrbidity"
   ]
  },
  {
   "cell_type": "markdown",
   "metadata": {},
   "source": [
    "Overall what we did to train data preprocess:\n",
    "- For Numeric:\n",
    "1. Outlier Handling\n",
    "2. Missing value imputer using median\n",
    "3. Scaling using Standard Scaler\n",
    "\n",
    "- For categoric:\n",
    "1. Missing value handling\n",
    "2. ordinal encoding for Taste, Odor and Fat\n",
    "3. OHE for Turbidity"
   ]
  },
  {
   "cell_type": "markdown",
   "metadata": {},
   "source": [
    "## **Preprocess**"
   ]
  },
  {
   "cell_type": "code",
   "execution_count": 37,
   "metadata": {},
   "outputs": [
    {
     "data": {
      "text/plain": [
       "143     40\n",
       "576     40\n",
       "686     40\n",
       "544     37\n",
       "889     45\n",
       "        ..\n",
       "440     45\n",
       "840     36\n",
       "429     38\n",
       "462     45\n",
       "1008    40\n",
       "Name: Temprature, Length: 741, dtype: int64"
      ]
     },
     "execution_count": 37,
     "metadata": {},
     "output_type": "execute_result"
    }
   ],
   "source": [
    "X_train['Temprature']"
   ]
  },
  {
   "cell_type": "code",
   "execution_count": 38,
   "metadata": {},
   "outputs": [
    {
     "data": {
      "text/plain": [
       "array([[-0.45661999],\n",
       "       [-0.45661999],\n",
       "       [-0.45661999],\n",
       "       [-0.81265866],\n",
       "       [ 0.13677779],\n",
       "       [ 2.62904845],\n",
       "       [-0.6939791 ],\n",
       "       [-0.45661999],\n",
       "       [-0.93133821],\n",
       "       [ 2.62904845],\n",
       "       [-0.93133821],\n",
       "       [ 0.13677779],\n",
       "       [ 0.13677779],\n",
       "       [ 0.13677779],\n",
       "       [-0.45661999],\n",
       "       [-0.45661999],\n",
       "       [ 2.62904845],\n",
       "       [-0.81265866],\n",
       "       [-0.10058132],\n",
       "       [ 0.13677779],\n",
       "       [-0.6939791 ],\n",
       "       [-0.6939791 ],\n",
       "       [ 0.13677779],\n",
       "       [-0.81265866],\n",
       "       [ 0.73017556],\n",
       "       [-0.93133821],\n",
       "       [-0.45661999],\n",
       "       [-0.45661999],\n",
       "       [-0.10058132],\n",
       "       [-0.93133821],\n",
       "       [ 1.32357334],\n",
       "       [ 0.73017556],\n",
       "       [ 1.32357334],\n",
       "       [-0.93133821],\n",
       "       [-0.6939791 ],\n",
       "       [-1.16869732],\n",
       "       [ 0.13677779],\n",
       "       [ 0.13677779],\n",
       "       [ 2.62904845],\n",
       "       [-1.16869732],\n",
       "       [-0.81265866],\n",
       "       [ 0.13677779],\n",
       "       [ 1.32357334],\n",
       "       [ 0.13677779],\n",
       "       [ 2.5103689 ],\n",
       "       [-0.45661999],\n",
       "       [ 0.13677779],\n",
       "       [-0.10058132],\n",
       "       [-0.45661999],\n",
       "       [ 2.62904845],\n",
       "       [-1.16869732],\n",
       "       [-0.33794043],\n",
       "       [-0.10058132],\n",
       "       [-0.45661999],\n",
       "       [-0.93133821],\n",
       "       [ 0.73017556],\n",
       "       [-0.81265866],\n",
       "       [ 0.13677779],\n",
       "       [ 0.13677779],\n",
       "       [ 0.13677779],\n",
       "       [-0.45661999],\n",
       "       [-1.16869732],\n",
       "       [-0.10058132],\n",
       "       [-0.45661999],\n",
       "       [ 0.13677779],\n",
       "       [-0.93133821],\n",
       "       [-0.10058132],\n",
       "       [ 0.13677779],\n",
       "       [ 0.13677779],\n",
       "       [ 0.73017556],\n",
       "       [-0.81265866],\n",
       "       [-0.93133821],\n",
       "       [ 0.13677779],\n",
       "       [-0.81265866],\n",
       "       [-0.6939791 ],\n",
       "       [-0.45661999],\n",
       "       [-0.6939791 ],\n",
       "       [-0.6939791 ],\n",
       "       [ 0.73017556],\n",
       "       [-0.81265866],\n",
       "       [ 1.91697112],\n",
       "       [-0.6939791 ],\n",
       "       [ 2.62904845],\n",
       "       [-0.93133821],\n",
       "       [-0.93133821],\n",
       "       [ 0.13677779],\n",
       "       [-0.45661999],\n",
       "       [-0.6939791 ],\n",
       "       [ 0.13677779],\n",
       "       [ 0.13677779],\n",
       "       [-0.6939791 ],\n",
       "       [ 2.62904845],\n",
       "       [ 0.13677779],\n",
       "       [ 0.13677779],\n",
       "       [-0.10058132],\n",
       "       [ 1.32357334],\n",
       "       [-0.81265866],\n",
       "       [-0.6939791 ],\n",
       "       [-0.6939791 ],\n",
       "       [-0.6939791 ],\n",
       "       [ 2.5103689 ],\n",
       "       [-1.16869732],\n",
       "       [ 2.62904845],\n",
       "       [-0.10058132],\n",
       "       [-1.05001777],\n",
       "       [-0.6939791 ],\n",
       "       [-1.05001777],\n",
       "       [-0.6939791 ],\n",
       "       [-0.6939791 ],\n",
       "       [ 2.5103689 ],\n",
       "       [-0.45661999],\n",
       "       [ 0.73017556],\n",
       "       [-0.45661999],\n",
       "       [-0.10058132],\n",
       "       [ 0.73017556],\n",
       "       [ 0.13677779],\n",
       "       [-0.45661999],\n",
       "       [ 0.13677779],\n",
       "       [-0.33794043],\n",
       "       [-0.81265866],\n",
       "       [ 1.32357334],\n",
       "       [-0.6939791 ],\n",
       "       [ 0.13677779],\n",
       "       [-0.45661999],\n",
       "       [-0.10058132],\n",
       "       [-0.45661999],\n",
       "       [-0.6939791 ],\n",
       "       [-1.16869732],\n",
       "       [ 0.13677779],\n",
       "       [-0.93133821],\n",
       "       [-0.81265866],\n",
       "       [ 1.32357334],\n",
       "       [ 0.13677779],\n",
       "       [-0.45661999],\n",
       "       [ 0.13677779],\n",
       "       [-0.93133821],\n",
       "       [ 0.73017556],\n",
       "       [ 0.13677779],\n",
       "       [-0.81265866],\n",
       "       [-0.6939791 ],\n",
       "       [-0.81265866],\n",
       "       [-0.81265866],\n",
       "       [ 0.13677779],\n",
       "       [ 0.73017556],\n",
       "       [ 0.73017556],\n",
       "       [-1.16869732],\n",
       "       [-1.05001777],\n",
       "       [-0.6939791 ],\n",
       "       [-0.81265866],\n",
       "       [ 0.13677779],\n",
       "       [ 2.62904845],\n",
       "       [-0.45661999],\n",
       "       [-0.45661999],\n",
       "       [ 0.13677779],\n",
       "       [-0.6939791 ],\n",
       "       [-1.16869732],\n",
       "       [ 0.13677779],\n",
       "       [-0.6939791 ],\n",
       "       [-0.6939791 ],\n",
       "       [ 0.73017556],\n",
       "       [-0.6939791 ],\n",
       "       [-0.10058132],\n",
       "       [ 0.13677779],\n",
       "       [ 0.13677779],\n",
       "       [ 0.73017556],\n",
       "       [-0.10058132],\n",
       "       [ 1.91697112],\n",
       "       [-0.10058132],\n",
       "       [-0.45661999],\n",
       "       [-0.6939791 ],\n",
       "       [ 0.73017556],\n",
       "       [-0.6939791 ],\n",
       "       [-0.45661999],\n",
       "       [-0.45661999],\n",
       "       [-0.33794043],\n",
       "       [ 1.91697112],\n",
       "       [ 1.32357334],\n",
       "       [-0.93133821],\n",
       "       [-0.33794043],\n",
       "       [-0.93133821],\n",
       "       [-1.16869732],\n",
       "       [-0.33794043],\n",
       "       [ 1.32357334],\n",
       "       [ 0.13677779],\n",
       "       [ 0.13677779],\n",
       "       [-0.45661999],\n",
       "       [-0.6939791 ],\n",
       "       [-0.6939791 ],\n",
       "       [-1.16869732],\n",
       "       [-0.10058132],\n",
       "       [-0.6939791 ],\n",
       "       [-0.45661999],\n",
       "       [ 0.73017556],\n",
       "       [ 0.13677779],\n",
       "       [-0.10058132],\n",
       "       [-1.16869732],\n",
       "       [-0.45661999],\n",
       "       [-0.6939791 ],\n",
       "       [ 2.62904845],\n",
       "       [-0.6939791 ],\n",
       "       [-0.45661999],\n",
       "       [-0.45661999],\n",
       "       [-0.45661999],\n",
       "       [ 0.13677779],\n",
       "       [-0.45661999],\n",
       "       [ 1.32357334],\n",
       "       [-0.81265866],\n",
       "       [-0.81265866],\n",
       "       [-1.05001777],\n",
       "       [ 2.62904845],\n",
       "       [-0.45661999],\n",
       "       [ 2.62904845],\n",
       "       [ 1.32357334],\n",
       "       [-0.81265866],\n",
       "       [-0.10058132],\n",
       "       [-0.6939791 ],\n",
       "       [ 0.13677779],\n",
       "       [-0.10058132],\n",
       "       [ 2.62904845],\n",
       "       [ 0.13677779],\n",
       "       [-0.6939791 ],\n",
       "       [-0.6939791 ],\n",
       "       [ 0.13677779],\n",
       "       [ 2.5103689 ],\n",
       "       [ 0.13677779],\n",
       "       [-0.45661999],\n",
       "       [-0.6939791 ],\n",
       "       [ 2.62904845],\n",
       "       [ 0.13677779],\n",
       "       [-0.81265866],\n",
       "       [ 2.62904845],\n",
       "       [-0.6939791 ],\n",
       "       [-0.45661999],\n",
       "       [-0.93133821],\n",
       "       [ 0.73017556],\n",
       "       [ 0.13677779],\n",
       "       [ 1.32357334],\n",
       "       [ 0.13677779],\n",
       "       [-0.81265866],\n",
       "       [ 2.62904845],\n",
       "       [ 0.13677779],\n",
       "       [-0.6939791 ],\n",
       "       [-0.81265866],\n",
       "       [-0.93133821],\n",
       "       [ 0.73017556],\n",
       "       [ 0.73017556],\n",
       "       [ 0.13677779],\n",
       "       [-0.45661999],\n",
       "       [-0.33794043],\n",
       "       [-1.16869732],\n",
       "       [-0.33794043],\n",
       "       [ 0.13677779],\n",
       "       [ 0.73017556],\n",
       "       [ 0.13677779],\n",
       "       [ 1.32357334],\n",
       "       [-1.16869732],\n",
       "       [-0.10058132],\n",
       "       [-0.45661999],\n",
       "       [-1.16869732],\n",
       "       [-0.6939791 ],\n",
       "       [-0.81265866],\n",
       "       [ 0.13677779],\n",
       "       [-0.6939791 ],\n",
       "       [-0.6939791 ],\n",
       "       [ 2.62904845],\n",
       "       [-0.81265866],\n",
       "       [-0.81265866],\n",
       "       [-1.16869732],\n",
       "       [-0.6939791 ],\n",
       "       [-0.6939791 ],\n",
       "       [-0.10058132],\n",
       "       [-0.81265866],\n",
       "       [-0.33794043],\n",
       "       [-0.45661999],\n",
       "       [-0.6939791 ],\n",
       "       [-0.81265866],\n",
       "       [-0.6939791 ],\n",
       "       [-1.16869732],\n",
       "       [ 0.13677779],\n",
       "       [-0.6939791 ],\n",
       "       [ 0.13677779],\n",
       "       [ 0.73017556],\n",
       "       [-0.10058132],\n",
       "       [-0.6939791 ],\n",
       "       [ 0.13677779],\n",
       "       [-0.10058132],\n",
       "       [-0.93133821],\n",
       "       [ 2.5103689 ],\n",
       "       [-0.6939791 ],\n",
       "       [-0.6939791 ],\n",
       "       [-0.33794043],\n",
       "       [-0.93133821],\n",
       "       [ 0.13677779],\n",
       "       [-0.6939791 ],\n",
       "       [-0.45661999],\n",
       "       [ 2.62904845],\n",
       "       [-0.81265866],\n",
       "       [-0.45661999],\n",
       "       [ 0.13677779],\n",
       "       [-0.6939791 ],\n",
       "       [ 0.73017556],\n",
       "       [-0.33794043],\n",
       "       [ 1.91697112],\n",
       "       [-1.16869732],\n",
       "       [-0.93133821],\n",
       "       [-0.81265866],\n",
       "       [-0.45661999],\n",
       "       [-0.81265866],\n",
       "       [-0.10058132],\n",
       "       [-0.6939791 ],\n",
       "       [-0.45661999],\n",
       "       [-0.6939791 ],\n",
       "       [ 0.13677779],\n",
       "       [-0.10058132],\n",
       "       [-0.10058132],\n",
       "       [-0.10058132],\n",
       "       [-0.6939791 ],\n",
       "       [-0.45661999],\n",
       "       [-0.6939791 ],\n",
       "       [-0.6939791 ],\n",
       "       [ 0.13677779],\n",
       "       [-0.45661999],\n",
       "       [ 0.73017556],\n",
       "       [-0.6939791 ],\n",
       "       [-1.16869732],\n",
       "       [-0.81265866],\n",
       "       [-0.6939791 ],\n",
       "       [-0.81265866],\n",
       "       [ 0.13677779],\n",
       "       [ 0.13677779],\n",
       "       [-0.6939791 ],\n",
       "       [ 0.73017556],\n",
       "       [ 2.62904845],\n",
       "       [-0.93133821],\n",
       "       [-0.93133821],\n",
       "       [ 2.5103689 ],\n",
       "       [ 0.13677779],\n",
       "       [ 0.13677779],\n",
       "       [-0.81265866],\n",
       "       [-0.81265866],\n",
       "       [ 2.62904845],\n",
       "       [-0.6939791 ],\n",
       "       [-0.93133821],\n",
       "       [-0.6939791 ],\n",
       "       [ 0.13677779],\n",
       "       [-0.6939791 ],\n",
       "       [ 0.13677779],\n",
       "       [-0.6939791 ],\n",
       "       [ 2.5103689 ],\n",
       "       [ 2.5103689 ],\n",
       "       [-0.10058132],\n",
       "       [-0.6939791 ],\n",
       "       [-0.93133821],\n",
       "       [ 1.32357334],\n",
       "       [-0.93133821],\n",
       "       [ 0.13677779],\n",
       "       [ 0.13677779],\n",
       "       [-1.05001777],\n",
       "       [-0.81265866],\n",
       "       [ 1.32357334],\n",
       "       [-0.45661999],\n",
       "       [ 0.13677779],\n",
       "       [ 0.13677779],\n",
       "       [ 0.13677779],\n",
       "       [-1.05001777],\n",
       "       [-0.10058132],\n",
       "       [ 0.13677779],\n",
       "       [-0.93133821],\n",
       "       [ 1.91697112],\n",
       "       [ 0.13677779],\n",
       "       [ 0.13677779],\n",
       "       [-0.10058132],\n",
       "       [ 0.13677779],\n",
       "       [ 0.13677779],\n",
       "       [ 2.62904845],\n",
       "       [ 0.13677779],\n",
       "       [-0.45661999],\n",
       "       [-0.45661999],\n",
       "       [-0.45661999],\n",
       "       [ 0.13677779],\n",
       "       [-0.45661999],\n",
       "       [-0.6939791 ],\n",
       "       [-0.6939791 ],\n",
       "       [-0.81265866],\n",
       "       [ 0.13677779],\n",
       "       [ 0.13677779],\n",
       "       [-0.81265866],\n",
       "       [ 0.73017556],\n",
       "       [ 0.73017556],\n",
       "       [ 0.73017556],\n",
       "       [ 0.13677779],\n",
       "       [ 1.32357334],\n",
       "       [ 0.73017556],\n",
       "       [-0.45661999],\n",
       "       [-0.93133821],\n",
       "       [-0.81265866],\n",
       "       [ 0.73017556],\n",
       "       [ 0.73017556],\n",
       "       [-0.33794043],\n",
       "       [-1.05001777],\n",
       "       [-0.45661999],\n",
       "       [-0.45661999],\n",
       "       [ 0.13677779],\n",
       "       [-0.45661999],\n",
       "       [-1.05001777],\n",
       "       [-0.6939791 ],\n",
       "       [-0.10058132],\n",
       "       [-0.6939791 ],\n",
       "       [-0.81265866],\n",
       "       [ 0.13677779],\n",
       "       [ 0.73017556],\n",
       "       [-0.45661999],\n",
       "       [-0.10058132],\n",
       "       [ 0.13677779],\n",
       "       [ 2.62904845],\n",
       "       [ 2.62904845],\n",
       "       [ 0.13677779],\n",
       "       [ 0.13677779],\n",
       "       [ 0.13677779],\n",
       "       [ 0.13677779],\n",
       "       [ 2.62904845],\n",
       "       [ 0.13677779],\n",
       "       [ 0.13677779],\n",
       "       [-0.81265866],\n",
       "       [-0.93133821],\n",
       "       [-0.81265866],\n",
       "       [-0.93133821],\n",
       "       [ 0.13677779],\n",
       "       [ 0.13677779],\n",
       "       [ 2.62904845],\n",
       "       [ 2.62904845],\n",
       "       [-0.45661999],\n",
       "       [-0.33794043],\n",
       "       [ 0.13677779],\n",
       "       [-0.81265866],\n",
       "       [-0.81265866],\n",
       "       [ 0.13677779],\n",
       "       [-0.10058132],\n",
       "       [-0.6939791 ],\n",
       "       [-0.10058132],\n",
       "       [-0.6939791 ],\n",
       "       [ 0.13677779],\n",
       "       [-0.6939791 ],\n",
       "       [-0.10058132],\n",
       "       [-0.45661999],\n",
       "       [-0.6939791 ],\n",
       "       [ 0.13677779],\n",
       "       [-1.16869732],\n",
       "       [ 0.13677779],\n",
       "       [-0.6939791 ],\n",
       "       [-0.10058132],\n",
       "       [ 2.62904845],\n",
       "       [-0.6939791 ],\n",
       "       [-0.10058132],\n",
       "       [ 1.91697112],\n",
       "       [-0.6939791 ],\n",
       "       [-0.81265866],\n",
       "       [-0.45661999],\n",
       "       [-0.45661999],\n",
       "       [ 0.13677779],\n",
       "       [-0.10058132],\n",
       "       [ 1.32357334],\n",
       "       [ 0.13677779],\n",
       "       [-0.6939791 ],\n",
       "       [ 2.62904845],\n",
       "       [-0.10058132],\n",
       "       [-0.10058132],\n",
       "       [-0.6939791 ],\n",
       "       [-0.6939791 ],\n",
       "       [-0.10058132],\n",
       "       [-0.6939791 ],\n",
       "       [ 0.13677779],\n",
       "       [ 0.73017556],\n",
       "       [-1.16869732],\n",
       "       [ 0.13677779],\n",
       "       [ 0.13677779],\n",
       "       [ 0.13677779],\n",
       "       [ 0.13677779],\n",
       "       [ 1.32357334],\n",
       "       [-1.16869732],\n",
       "       [-0.93133821],\n",
       "       [-1.05001777],\n",
       "       [ 0.13677779],\n",
       "       [ 0.13677779],\n",
       "       [-0.45661999],\n",
       "       [-0.45661999],\n",
       "       [-0.33794043],\n",
       "       [-0.10058132],\n",
       "       [ 0.13677779],\n",
       "       [-0.6939791 ],\n",
       "       [-0.6939791 ],\n",
       "       [-0.45661999],\n",
       "       [ 0.13677779],\n",
       "       [ 2.62904845],\n",
       "       [-0.10058132],\n",
       "       [ 0.13677779],\n",
       "       [-0.10058132],\n",
       "       [-0.6939791 ],\n",
       "       [ 0.73017556],\n",
       "       [-0.93133821],\n",
       "       [ 2.62904845],\n",
       "       [ 1.91697112],\n",
       "       [-0.33794043],\n",
       "       [-0.6939791 ],\n",
       "       [ 0.13677779],\n",
       "       [-0.45661999],\n",
       "       [-0.33794043],\n",
       "       [ 2.5103689 ],\n",
       "       [-0.45661999],\n",
       "       [ 0.13677779],\n",
       "       [-0.6939791 ],\n",
       "       [-0.6939791 ],\n",
       "       [ 0.13677779],\n",
       "       [-0.45661999],\n",
       "       [-0.6939791 ],\n",
       "       [-0.6939791 ],\n",
       "       [-0.81265866],\n",
       "       [ 0.73017556],\n",
       "       [ 0.13677779],\n",
       "       [-1.05001777],\n",
       "       [ 0.13677779],\n",
       "       [ 0.13677779],\n",
       "       [ 0.73017556],\n",
       "       [-0.10058132],\n",
       "       [-0.81265866],\n",
       "       [-0.6939791 ],\n",
       "       [-0.10058132],\n",
       "       [ 2.5103689 ],\n",
       "       [-0.10058132],\n",
       "       [ 0.13677779],\n",
       "       [-0.33794043],\n",
       "       [-0.45661999],\n",
       "       [-0.6939791 ],\n",
       "       [ 0.13677779],\n",
       "       [ 0.13677779],\n",
       "       [-0.45661999],\n",
       "       [-0.45661999],\n",
       "       [-0.93133821],\n",
       "       [ 0.73017556],\n",
       "       [-0.6939791 ],\n",
       "       [-0.81265866],\n",
       "       [ 0.13677779],\n",
       "       [ 0.73017556],\n",
       "       [-0.6939791 ],\n",
       "       [-0.10058132],\n",
       "       [-0.93133821],\n",
       "       [ 0.13677779],\n",
       "       [-0.6939791 ],\n",
       "       [-1.05001777],\n",
       "       [ 1.91697112],\n",
       "       [-0.45661999],\n",
       "       [ 1.32357334],\n",
       "       [-1.05001777],\n",
       "       [ 0.13677779],\n",
       "       [ 0.13677779],\n",
       "       [ 0.13677779],\n",
       "       [ 0.13677779],\n",
       "       [-0.45661999],\n",
       "       [-0.45661999],\n",
       "       [-0.45661999],\n",
       "       [-0.6939791 ],\n",
       "       [ 0.73017556],\n",
       "       [ 2.5103689 ],\n",
       "       [-0.45661999],\n",
       "       [-0.81265866],\n",
       "       [-1.16869732],\n",
       "       [-0.6939791 ],\n",
       "       [ 2.62904845],\n",
       "       [-0.33794043],\n",
       "       [ 0.13677779],\n",
       "       [-0.6939791 ],\n",
       "       [ 0.13677779],\n",
       "       [ 0.73017556],\n",
       "       [-0.6939791 ],\n",
       "       [ 1.32357334],\n",
       "       [ 2.62904845],\n",
       "       [-0.45661999],\n",
       "       [ 0.13677779],\n",
       "       [ 0.13677779],\n",
       "       [ 0.73017556],\n",
       "       [ 2.62904845],\n",
       "       [ 2.5103689 ],\n",
       "       [-0.6939791 ],\n",
       "       [ 0.13677779],\n",
       "       [-0.6939791 ],\n",
       "       [-0.45661999],\n",
       "       [ 1.91697112],\n",
       "       [ 1.32357334],\n",
       "       [ 2.62904845],\n",
       "       [ 2.5103689 ],\n",
       "       [-0.45661999],\n",
       "       [ 2.62904845],\n",
       "       [-0.93133821],\n",
       "       [-1.05001777],\n",
       "       [ 0.13677779],\n",
       "       [ 0.13677779],\n",
       "       [-0.81265866],\n",
       "       [-0.6939791 ],\n",
       "       [-0.45661999],\n",
       "       [-0.33794043],\n",
       "       [ 0.13677779],\n",
       "       [-0.45661999],\n",
       "       [-0.81265866],\n",
       "       [ 0.13677779],\n",
       "       [-0.45661999],\n",
       "       [ 0.13677779],\n",
       "       [ 0.13677779],\n",
       "       [ 2.62904845],\n",
       "       [ 1.32357334],\n",
       "       [ 2.62904845],\n",
       "       [ 1.32357334],\n",
       "       [-0.45661999],\n",
       "       [ 1.32357334],\n",
       "       [-0.10058132],\n",
       "       [-0.10058132],\n",
       "       [-0.10058132],\n",
       "       [-0.45661999],\n",
       "       [-0.10058132],\n",
       "       [-1.16869732],\n",
       "       [-0.45661999],\n",
       "       [-0.81265866],\n",
       "       [-0.6939791 ],\n",
       "       [ 1.32357334],\n",
       "       [-0.81265866],\n",
       "       [ 0.13677779],\n",
       "       [-1.05001777],\n",
       "       [ 0.13677779],\n",
       "       [ 0.13677779],\n",
       "       [-0.45661999],\n",
       "       [-0.45661999],\n",
       "       [ 2.62904845],\n",
       "       [-0.45661999],\n",
       "       [-0.10058132],\n",
       "       [ 2.62904845],\n",
       "       [ 0.13677779],\n",
       "       [ 2.5103689 ],\n",
       "       [-0.93133821],\n",
       "       [-0.81265866],\n",
       "       [ 2.5103689 ],\n",
       "       [ 0.13677779],\n",
       "       [-0.10058132],\n",
       "       [ 2.5103689 ],\n",
       "       [-0.45661999],\n",
       "       [-0.45661999],\n",
       "       [ 0.13677779],\n",
       "       [ 0.73017556],\n",
       "       [ 0.13677779],\n",
       "       [-0.45661999],\n",
       "       [-0.81265866],\n",
       "       [ 2.62904845],\n",
       "       [-0.6939791 ],\n",
       "       [-0.6939791 ],\n",
       "       [-0.33794043],\n",
       "       [-0.33794043],\n",
       "       [-1.16869732],\n",
       "       [-0.45661999],\n",
       "       [-0.81265866],\n",
       "       [ 0.13677779],\n",
       "       [ 1.91697112],\n",
       "       [-0.6939791 ],\n",
       "       [-0.6939791 ],\n",
       "       [-0.45661999],\n",
       "       [ 0.13677779],\n",
       "       [-1.05001777],\n",
       "       [ 0.13677779],\n",
       "       [-0.10058132],\n",
       "       [-1.16869732],\n",
       "       [-0.93133821],\n",
       "       [ 0.13677779],\n",
       "       [-0.93133821],\n",
       "       [-0.6939791 ],\n",
       "       [ 0.73017556],\n",
       "       [-0.93133821],\n",
       "       [-0.45661999],\n",
       "       [-1.16869732],\n",
       "       [-0.45661999],\n",
       "       [ 0.13677779],\n",
       "       [-0.45661999],\n",
       "       [ 2.5103689 ],\n",
       "       [-0.6939791 ],\n",
       "       [ 0.13677779],\n",
       "       [ 0.13677779],\n",
       "       [-0.45661999],\n",
       "       [ 0.73017556],\n",
       "       [ 0.73017556],\n",
       "       [-0.6939791 ],\n",
       "       [-0.6939791 ],\n",
       "       [-0.93133821],\n",
       "       [-0.81265866],\n",
       "       [ 2.5103689 ],\n",
       "       [-0.6939791 ],\n",
       "       [ 0.13677779],\n",
       "       [ 2.5103689 ],\n",
       "       [-0.81265866],\n",
       "       [ 0.13677779],\n",
       "       [ 0.13677779],\n",
       "       [-0.93133821],\n",
       "       [-0.93133821],\n",
       "       [ 1.32357334],\n",
       "       [ 0.73017556],\n",
       "       [ 0.13677779],\n",
       "       [ 2.5103689 ],\n",
       "       [-0.6939791 ],\n",
       "       [ 0.13677779],\n",
       "       [-0.10058132],\n",
       "       [ 2.62904845],\n",
       "       [-0.6939791 ],\n",
       "       [ 0.13677779],\n",
       "       [-0.93133821],\n",
       "       [-0.10058132],\n",
       "       [ 1.32357334],\n",
       "       [-0.6939791 ],\n",
       "       [ 0.13677779],\n",
       "       [-0.45661999],\n",
       "       [ 0.13677779],\n",
       "       [-1.05001777],\n",
       "       [-0.6939791 ],\n",
       "       [-0.93133821],\n",
       "       [ 0.73017556],\n",
       "       [-0.6939791 ],\n",
       "       [ 0.13677779],\n",
       "       [-0.81265866],\n",
       "       [ 0.13677779],\n",
       "       [ 1.91697112],\n",
       "       [ 0.13677779],\n",
       "       [-0.45661999],\n",
       "       [ 1.91697112],\n",
       "       [ 0.13677779],\n",
       "       [-0.81265866],\n",
       "       [-0.93133821],\n",
       "       [ 2.62904845],\n",
       "       [ 0.13677779],\n",
       "       [-0.45661999],\n",
       "       [-0.45661999],\n",
       "       [-0.6939791 ],\n",
       "       [ 0.13677779],\n",
       "       [ 0.13677779],\n",
       "       [-0.93133821],\n",
       "       [-0.6939791 ],\n",
       "       [ 0.13677779],\n",
       "       [-0.45661999]])"
      ]
     },
     "execution_count": 38,
     "metadata": {},
     "output_type": "execute_result"
    }
   ],
   "source": [
    "num_pipeline = Pipeline([\n",
    "        ('outlier', Winsorizer(capping_method='iqr', tail='both', fold=3)),\n",
    "        ('imputer', SimpleImputer(strategy='median')),\n",
    "        ('scaler', StandardScaler())\n",
    "    ])\n",
    "\n",
    "num_tr = num_pipeline.fit_transform(X_train[['Temprature']])\n",
    "num_tr"
   ]
  },
  {
   "cell_type": "code",
   "execution_count": 39,
   "metadata": {},
   "outputs": [
    {
     "data": {
      "text/plain": [
       "array([[0., 0.],\n",
       "       [0., 1.],\n",
       "       [1., 1.],\n",
       "       ...,\n",
       "       [0., 1.],\n",
       "       [0., 1.],\n",
       "       [1., 1.]])"
      ]
     },
     "execution_count": 39,
     "metadata": {},
     "output_type": "execute_result"
    }
   ],
   "source": [
    "cat_1_pipeline = Pipeline([\n",
    "        ('imputer_1', SimpleImputer(strategy='most_frequent')),\n",
    "        ('ordinal_enc', OrdinalEncoder(categories=[['Bad', 'Good'], ['Low', 'High']])) #odor & fat\n",
    "    ])\n",
    "\n",
    "cat_1_tr = cat_1_pipeline.fit_transform(X_train[['Odor', 'Fat']])\n",
    "cat_1_tr"
   ]
  },
  {
   "cell_type": "code",
   "execution_count": 40,
   "metadata": {},
   "outputs": [
    {
     "data": {
      "text/plain": [
       "array([[0., 1.],\n",
       "       [1., 0.],\n",
       "       [1., 0.],\n",
       "       ...,\n",
       "       [0., 1.],\n",
       "       [1., 0.],\n",
       "       [1., 0.]])"
      ]
     },
     "execution_count": 40,
     "metadata": {},
     "output_type": "execute_result"
    }
   ],
   "source": [
    "cat_2_pipeline = Pipeline([\n",
    "        ('imputer_2', SimpleImputer(strategy='most_frequent')),\n",
    "        ('ohe_enc', OneHotEncoder(sparse=False)) #odor & fat\n",
    "    ])\n",
    "\n",
    "cat_2_tr = cat_2_pipeline.fit_transform(X_train[['Turbidity']])\n",
    "cat_2_tr"
   ]
  },
  {
   "cell_type": "code",
   "execution_count": 41,
   "metadata": {},
   "outputs": [
    {
     "data": {
      "text/plain": [
       "array([[-0.45661999,  0.        ,  0.        ,  0.        ,  1.        ],\n",
       "       [-0.45661999,  0.        ,  1.        ,  1.        ,  0.        ],\n",
       "       [-0.45661999,  1.        ,  1.        ,  1.        ,  0.        ],\n",
       "       ...,\n",
       "       [-0.6939791 ,  0.        ,  1.        ,  0.        ,  1.        ],\n",
       "       [ 0.13677779,  0.        ,  1.        ,  1.        ,  0.        ],\n",
       "       [-0.45661999,  1.        ,  1.        ,  1.        ,  0.        ]])"
      ]
     },
     "execution_count": 41,
     "metadata": {},
     "output_type": "execute_result"
    }
   ],
   "source": [
    "full_pipeline = ColumnTransformer([\n",
    "        (\"num\", num_pipeline, ['Temprature']),\n",
    "        (\"cat_ord\", cat_1_pipeline, ['Odor', 'Fat']),\n",
    "        (\"cat_ohe\", cat_2_pipeline, ['Turbidity']),\n",
    "    ])\n",
    "\n",
    "train_tr = full_pipeline.fit_transform(X_train)\n",
    "train_tr"
   ]
  },
  {
   "cell_type": "code",
   "execution_count": 42,
   "metadata": {},
   "outputs": [
    {
     "data": {
      "text/plain": [
       "True"
      ]
     },
     "execution_count": 42,
     "metadata": {},
     "output_type": "execute_result"
    }
   ],
   "source": [
    "train_manual = np.array(X_train_eda[['Temprature', 'Odor_enc', 'Fat_enc', 'Turbidity_High', 'Turbidity_Low']])\n",
    "\n",
    "np.allclose(train_tr, train_manual)"
   ]
  },
  {
   "cell_type": "code",
   "execution_count": 43,
   "metadata": {},
   "outputs": [
    {
     "data": {
      "text/plain": [
       "array([[-0.6939791 ,  0.        ,  1.        ,  0.        ,  1.        ],\n",
       "       [-0.6939791 ,  0.        ,  0.        ,  0.        ,  1.        ],\n",
       "       [-0.93133821,  0.        ,  1.        ,  0.        ,  1.        ],\n",
       "       ...,\n",
       "       [-0.93133821,  0.        ,  0.        ,  0.        ,  1.        ],\n",
       "       [-0.6939791 ,  0.        ,  1.        ,  0.        ,  1.        ],\n",
       "       [-0.45661999,  0.        ,  0.        ,  0.        ,  1.        ]])"
      ]
     },
     "execution_count": 43,
     "metadata": {},
     "output_type": "execute_result"
    }
   ],
   "source": [
    "test_tr = full_pipeline.transform(X_test)\n",
    "test_tr"
   ]
  },
  {
   "cell_type": "markdown",
   "metadata": {},
   "source": [
    "## **Modeling**\n",
    "\n",
    "In this section we will compare the performance between 4 models:\n",
    "- LogisticReg\n",
    "- SVC\n",
    "- DecisionTree Classifier\n",
    "- RandomFOrest Classifier"
   ]
  },
  {
   "cell_type": "code",
   "execution_count": 44,
   "metadata": {},
   "outputs": [],
   "source": [
    "logreg = LogisticRegression(random_state=0)\n",
    "svc = SVC(random_state=0)\n",
    "dtc = DecisionTreeClassifier(random_state=0)\n",
    "rfc = RandomForestClassifier(random_state=0)"
   ]
  },
  {
   "cell_type": "code",
   "execution_count": 45,
   "metadata": {},
   "outputs": [
    {
     "name": "stdout",
     "output_type": "stream",
     "text": [
      "              precision    recall  f1-score   support\n",
      "\n",
      "           0       0.66      0.59      0.62       300\n",
      "           1       0.72      0.84      0.78       262\n",
      "           2       0.50      0.47      0.49       179\n",
      "\n",
      "    accuracy                           0.65       741\n",
      "   macro avg       0.63      0.63      0.63       741\n",
      "weighted avg       0.64      0.65      0.64       741\n",
      "\n",
      "              precision    recall  f1-score   support\n",
      "\n",
      "           0       0.75      0.66      0.70       129\n",
      "           1       0.72      0.93      0.81       112\n",
      "           2       0.48      0.38      0.42        77\n",
      "\n",
      "    accuracy                           0.69       318\n",
      "   macro avg       0.65      0.65      0.65       318\n",
      "weighted avg       0.67      0.69      0.67       318\n",
      "\n"
     ]
    }
   ],
   "source": [
    "logreg.fit(train_tr, y_train)\n",
    "\n",
    "lr_train = logreg.predict(train_tr)\n",
    "lr_test = logreg.predict(test_tr)\n",
    "\n",
    "print(classification_report(y_train, lr_train))\n",
    "print(classification_report(y_test, lr_test))"
   ]
  },
  {
   "cell_type": "code",
   "execution_count": 46,
   "metadata": {},
   "outputs": [
    {
     "name": "stdout",
     "output_type": "stream",
     "text": [
      "              precision    recall  f1-score   support\n",
      "\n",
      "           0       0.97      0.67      0.79       300\n",
      "           1       0.80      0.94      0.87       262\n",
      "           2       0.63      0.79      0.70       179\n",
      "\n",
      "    accuracy                           0.80       741\n",
      "   macro avg       0.80      0.80      0.79       741\n",
      "weighted avg       0.83      0.80      0.80       741\n",
      "\n",
      "              precision    recall  f1-score   support\n",
      "\n",
      "           0       0.96      0.73      0.83       129\n",
      "           1       0.77      0.96      0.86       112\n",
      "           2       0.61      0.64      0.62        77\n",
      "\n",
      "    accuracy                           0.79       318\n",
      "   macro avg       0.78      0.78      0.77       318\n",
      "weighted avg       0.81      0.79      0.79       318\n",
      "\n"
     ]
    }
   ],
   "source": [
    "svc.fit(train_tr, y_train)\n",
    "\n",
    "svc_train = svc.predict(train_tr)\n",
    "svc_test = svc.predict(test_tr)\n",
    "\n",
    "print(classification_report(y_train, svc_train))\n",
    "print(classification_report(y_test, svc_test))"
   ]
  },
  {
   "cell_type": "code",
   "execution_count": 47,
   "metadata": {},
   "outputs": [
    {
     "name": "stdout",
     "output_type": "stream",
     "text": [
      "              precision    recall  f1-score   support\n",
      "\n",
      "           0       0.91      0.91      0.91       300\n",
      "           1       0.85      0.98      0.91       262\n",
      "           2       0.91      0.72      0.80       179\n",
      "\n",
      "    accuracy                           0.89       741\n",
      "   macro avg       0.89      0.87      0.87       741\n",
      "weighted avg       0.89      0.89      0.88       741\n",
      "\n",
      "              precision    recall  f1-score   support\n",
      "\n",
      "           0       0.92      0.90      0.91       129\n",
      "           1       0.81      0.97      0.89       112\n",
      "           2       0.84      0.64      0.73        77\n",
      "\n",
      "    accuracy                           0.86       318\n",
      "   macro avg       0.86      0.84      0.84       318\n",
      "weighted avg       0.86      0.86      0.86       318\n",
      "\n"
     ]
    }
   ],
   "source": [
    "dtc.fit(train_tr, y_train)\n",
    "\n",
    "dtc_train = dtc.predict(train_tr)\n",
    "dtc_test = dtc.predict(test_tr)\n",
    "\n",
    "print(classification_report(y_train, dtc_train))\n",
    "print(classification_report(y_test, dtc_test))"
   ]
  },
  {
   "cell_type": "code",
   "execution_count": 48,
   "metadata": {},
   "outputs": [
    {
     "name": "stdout",
     "output_type": "stream",
     "text": [
      "              precision    recall  f1-score   support\n",
      "\n",
      "           0       0.91      0.91      0.91       300\n",
      "           1       0.85      0.98      0.91       262\n",
      "           2       0.91      0.72      0.80       179\n",
      "\n",
      "    accuracy                           0.89       741\n",
      "   macro avg       0.89      0.87      0.87       741\n",
      "weighted avg       0.89      0.89      0.88       741\n",
      "\n",
      "              precision    recall  f1-score   support\n",
      "\n",
      "           0       0.92      0.90      0.91       129\n",
      "           1       0.81      0.97      0.89       112\n",
      "           2       0.84      0.64      0.73        77\n",
      "\n",
      "    accuracy                           0.86       318\n",
      "   macro avg       0.86      0.84      0.84       318\n",
      "weighted avg       0.86      0.86      0.86       318\n",
      "\n"
     ]
    }
   ],
   "source": [
    "rfc.fit(train_tr, y_train)\n",
    "\n",
    "rfc_train = rfc.predict(train_tr)\n",
    "rfc_test = rfc.predict(test_tr)\n",
    "\n",
    "print(classification_report(y_train, rfc_train))\n",
    "print(classification_report(y_test, rfc_test))"
   ]
  },
  {
   "cell_type": "code",
   "execution_count": 73,
   "metadata": {},
   "outputs": [
    {
     "data": {
      "text/plain": [
       "0.01596084202690877"
      ]
     },
     "execution_count": 73,
     "metadata": {},
     "output_type": "execute_result"
    }
   ],
   "source": [
    "from sklearn.model_selection import cross_val_score\n",
    "\n",
    "scores = cross_val_score(rfc, train_tr, y_train,\n",
    "                         scoring=\"accuracy\", cv=10)\n",
    "\n",
    "scores.std()"
   ]
  },
  {
   "cell_type": "markdown",
   "metadata": {},
   "source": [
    "**Hyper-param Tuning**"
   ]
  },
  {
   "cell_type": "code",
   "execution_count": null,
   "metadata": {},
   "outputs": [
    {
     "data": {
      "text/plain": [
       "GridSearchCV(cv=5, estimator=RandomForestClassifier(random_state=0),\n",
       "             param_grid=[{'criterion': ['gini', 'entropy'],\n",
       "                          'max_depth': [5, 10, None],\n",
       "                          'max_features': [2, 3, 5, 1],\n",
       "                          'n_estimators': [10, 20, 40, 60]}],\n",
       "             return_train_score=True, scoring='accuracy')"
      ]
     },
     "execution_count": 49,
     "metadata": {},
     "output_type": "execute_result"
    }
   ],
   "source": [
    "params = [\n",
    "    {'n_estimators': [10, 20, 40, 60],        # 4\n",
    "     'max_features': [2, 3, 5, 1],            # 4\n",
    "     'max_depth': [5, 10, None],              # 3\n",
    "     'criterion': ['gini', 'entropy']},       # 2   Total 4*4*3*2 = 96 combinations\n",
    "  ]\n",
    "\n",
    "rfc = RandomForestClassifier(random_state=0)\n",
    "\n",
    "grid_search = GridSearchCV(rfc, params, cv=5,\n",
    "                           scoring='accuracy',\n",
    "                           return_train_score=True)\n",
    "grid_search.fit(train_tr, y_train)"
   ]
  },
  {
   "cell_type": "code",
   "execution_count": null,
   "metadata": {},
   "outputs": [
    {
     "data": {
      "text/plain": [
       "(96, 24)"
      ]
     },
     "execution_count": 50,
     "metadata": {},
     "output_type": "execute_result"
    }
   ],
   "source": [
    "pd.DataFrame(grid_search.cv_results_).shape"
   ]
  },
  {
   "cell_type": "code",
   "execution_count": null,
   "metadata": {},
   "outputs": [
    {
     "data": {
      "text/plain": [
       "{'criterion': 'gini', 'max_depth': 10, 'max_features': 3, 'n_estimators': 60}"
      ]
     },
     "execution_count": 51,
     "metadata": {},
     "output_type": "execute_result"
    }
   ],
   "source": [
    "grid_search.best_params_"
   ]
  },
  {
   "cell_type": "code",
   "execution_count": null,
   "metadata": {},
   "outputs": [
    {
     "data": {
      "text/plain": [
       "0.865055323780156"
      ]
     },
     "execution_count": 52,
     "metadata": {},
     "output_type": "execute_result"
    }
   ],
   "source": [
    "grid_search.best_score_"
   ]
  },
  {
   "cell_type": "code",
   "execution_count": null,
   "metadata": {},
   "outputs": [
    {
     "name": "stdout",
     "output_type": "stream",
     "text": [
      "              precision    recall  f1-score   support\n",
      "\n",
      "           0       0.91      0.91      0.91       300\n",
      "           1       0.85      0.98      0.91       262\n",
      "           2       0.91      0.72      0.80       179\n",
      "\n",
      "    accuracy                           0.89       741\n",
      "   macro avg       0.89      0.87      0.87       741\n",
      "weighted avg       0.89      0.89      0.88       741\n",
      "\n",
      "              precision    recall  f1-score   support\n",
      "\n",
      "           0       0.92      0.90      0.91       129\n",
      "           1       0.81      0.97      0.89       112\n",
      "           2       0.84      0.64      0.73        77\n",
      "\n",
      "    accuracy                           0.86       318\n",
      "   macro avg       0.86      0.84      0.84       318\n",
      "weighted avg       0.86      0.86      0.86       318\n",
      "\n"
     ]
    }
   ],
   "source": [
    "model = grid_search.best_estimator_\n",
    "\n",
    "model.fit(train_tr, y_train)\n",
    "\n",
    "model_train = model.predict(train_tr)\n",
    "model_test = model.predict(test_tr)\n",
    "\n",
    "print(classification_report(y_train, model_train))\n",
    "print(classification_report(y_test, model_test))"
   ]
  },
  {
   "cell_type": "markdown",
   "metadata": {},
   "source": [
    "**combine pipeline: preprocess + model**"
   ]
  },
  {
   "cell_type": "code",
   "execution_count": null,
   "metadata": {},
   "outputs": [
    {
     "data": {
      "text/plain": [
       "ColumnTransformer(transformers=[('num',\n",
       "                                 Pipeline(steps=[('outlier',\n",
       "                                                  Winsorizer(capping_method='iqr',\n",
       "                                                             tail='both')),\n",
       "                                                 ('imputer',\n",
       "                                                  SimpleImputer(strategy='median')),\n",
       "                                                 ('scaler', StandardScaler())]),\n",
       "                                 ['Temprature']),\n",
       "                                ('cat_ord',\n",
       "                                 Pipeline(steps=[('imputer_1',\n",
       "                                                  SimpleImputer(strategy='most_frequent')),\n",
       "                                                 ('ordinal_enc',\n",
       "                                                  OrdinalEncoder(categories=[['Bad',\n",
       "                                                                              'Good'],\n",
       "                                                                             ['Low',\n",
       "                                                                              'High']]))]),\n",
       "                                 ['Odor', 'Fat']),\n",
       "                                ('cat_ohe',\n",
       "                                 Pipeline(steps=[('imputer_2',\n",
       "                                                  SimpleImputer(strategy='most_frequent')),\n",
       "                                                 ('ohe_enc',\n",
       "                                                  OneHotEncoder(sparse=False))]),\n",
       "                                 ['Turbidity'])])"
      ]
     },
     "execution_count": 54,
     "metadata": {},
     "output_type": "execute_result"
    }
   ],
   "source": [
    "full_pipeline"
   ]
  },
  {
   "cell_type": "code",
   "execution_count": null,
   "metadata": {},
   "outputs": [
    {
     "name": "stdout",
     "output_type": "stream",
     "text": [
      "              precision    recall  f1-score   support\n",
      "\n",
      "           0       0.92      0.90      0.91       129\n",
      "           1       0.81      0.97      0.89       112\n",
      "           2       0.84      0.64      0.73        77\n",
      "\n",
      "    accuracy                           0.86       318\n",
      "   macro avg       0.86      0.84      0.84       318\n",
      "weighted avg       0.86      0.86      0.86       318\n",
      "\n"
     ]
    }
   ],
   "source": [
    "all_process = Pipeline([\n",
    "    (\"preprocess\", full_pipeline),\n",
    "    (\"classification\", model)\n",
    "])\n",
    "\n",
    "all_process.fit(X_train, y_train)\n",
    "hasil = all_process.predict(X_test)\n",
    "\n",
    "print(classification_report(y_test, hasil))"
   ]
  }
 ],
 "metadata": {
  "kernelspec": {
   "display_name": "Python 3.8.5 ('base')",
   "language": "python",
   "name": "python3"
  },
  "language_info": {
   "codemirror_mode": {
    "name": "ipython",
    "version": 3
   },
   "file_extension": ".py",
   "mimetype": "text/x-python",
   "name": "python",
   "nbconvert_exporter": "python",
   "pygments_lexer": "ipython3",
   "version": "3.8.5"
  },
  "orig_nbformat": 4,
  "vscode": {
   "interpreter": {
    "hash": "e4cce46d6be9934fbd27f9ca0432556941ea5bdf741d4f4d64c6cd7f8dfa8fba"
   }
  }
 },
 "nbformat": 4,
 "nbformat_minor": 2
}
