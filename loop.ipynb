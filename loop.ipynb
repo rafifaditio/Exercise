{
 "cells": [
  {
   "cell_type": "code",
   "execution_count": 1,
   "metadata": {},
   "outputs": [],
   "source": [
    "if False:\n",
    "  print('prosedur')\n",
    "  print('halo 1')"
   ]
  },
  {
   "cell_type": "code",
   "execution_count": 2,
   "metadata": {},
   "outputs": [
    {
     "name": "stdout",
     "output_type": "stream",
     "text": [
      "nilai a itu 20\n",
      "oke\n"
     ]
    }
   ],
   "source": [
    "a = 20\n",
    "\n",
    "if a == 20:\n",
    "  print('nilai a itu 20')\n",
    "  print('oke')"
   ]
  },
  {
   "cell_type": "code",
   "execution_count": 3,
   "metadata": {},
   "outputs": [
    {
     "data": {
      "text/plain": [
       "True"
      ]
     },
     "execution_count": 3,
     "metadata": {},
     "output_type": "execute_result"
    }
   ],
   "source": [
    "a == 20"
   ]
  },
  {
   "cell_type": "code",
   "execution_count": 4,
   "metadata": {},
   "outputs": [
    {
     "name": "stdout",
     "output_type": "stream",
     "text": [
      "nilai a:  0\n",
      "oke\n",
      "nilai a:  1\n",
      "oke\n",
      "nilai a:  2\n",
      "oke\n",
      "nilai a:  3\n",
      "oke\n",
      "nilai a:  4\n",
      "oke\n"
     ]
    }
   ],
   "source": [
    "a = 0\n",
    "\n",
    "while a < 5:\n",
    "  print('nilai a: ', a)\n",
    "  print('oke')\n",
    "  a = a + 1"
   ]
  },
  {
   "cell_type": "code",
   "execution_count": 5,
   "metadata": {},
   "outputs": [
    {
     "name": "stdout",
     "output_type": "stream",
     "text": [
      "nilai a: 22\n",
      "oke\n",
      "nilai a: 17\n",
      "oke\n",
      "nilai a: 15\n",
      "oke\n",
      "nilai a: 31\n",
      "oke\n"
     ]
    }
   ],
   "source": [
    "# hasil sama seperti while loop, tapi menggunakan for loop\n",
    "set_of_values = [22, 17, 15, 31]\n",
    "\n",
    "for i in set_of_values:\n",
    "  print(f'nilai a: {i}')\n",
    "  print('oke')"
   ]
  },
  {
   "cell_type": "code",
   "execution_count": 6,
   "metadata": {},
   "outputs": [
    {
     "name": "stdout",
     "output_type": "stream",
     "text": [
      "nilai a: 22, atas\n",
      "nilai a: 17, bawah\n",
      "nilai a: 15, bawah\n",
      "nilai a: 20, sama dengan 20\n",
      "nilai a: 31, atas\n"
     ]
    }
   ],
   "source": [
    "set_of_values = [22, 17, 15, 20, 31]\n",
    "# jika diatas 20 print -> atas\n",
    "# jika dibawah 20 print -> bawah\n",
    "\n",
    "for i in set_of_values:\n",
    "  if i > 20:\n",
    "    print(f'nilai a: {i}, atas')\n",
    "  elif i < 20:\n",
    "    print(f'nilai a: {i}, bawah')\n",
    "  else:\n",
    "    print(f'nilai a: {i}, sama dengan 20')"
   ]
  },
  {
   "cell_type": "code",
   "execution_count": 7,
   "metadata": {},
   "outputs": [
    {
     "name": "stdout",
     "output_type": "stream",
     "text": [
      "nilai a: 22, atas\n",
      "di bawah 25\n",
      "nilai a: 17, bawah\n",
      "nilai a: 15, bawah\n",
      "nilai a: 20, sama dengan 20\n",
      "nilai a: 31, atas\n",
      "diatas 25\n"
     ]
    }
   ],
   "source": [
    "# jika diatas 20 print -> atas\n",
    "    # jika dibawah 25 -> cetak <25\n",
    "    # jika diatas 25 -> cetak >25\n",
    "# jika dibawah 20 print -> bawah\n",
    "# jika sama 20 print -> sama dengan 20\n",
    "\n",
    "set_of_values = [22, 17, 15, 20, 31]\n",
    "\n",
    "for i in set_of_values:\n",
    "  if i > 20:\n",
    "    print(f'nilai a: {i}, atas')\n",
    "    if i <= 25:\n",
    "        print('di bawah 25')\n",
    "    else:\n",
    "        print('diatas 25')\n",
    "  elif i < 20:\n",
    "    print(f'nilai a: {i}, bawah')\n",
    "  else:\n",
    "    print(f'nilai a: {i}, sama dengan 20')"
   ]
  }
 ],
 "metadata": {
  "kernelspec": {
   "display_name": "Python 3.8.0 ('tf2.5')",
   "language": "python",
   "name": "python3"
  },
  "language_info": {
   "codemirror_mode": {
    "name": "ipython",
    "version": 3
   },
   "file_extension": ".py",
   "mimetype": "text/x-python",
   "name": "python",
   "nbconvert_exporter": "python",
   "pygments_lexer": "ipython3",
   "version": "3.8.0"
  },
  "orig_nbformat": 4,
  "vscode": {
   "interpreter": {
    "hash": "4f686db5d86c741383f2c8234ef76b1d86704787a96f23568360f50e99bb4fab"
   }
  }
 },
 "nbformat": 4,
 "nbformat_minor": 2
}
